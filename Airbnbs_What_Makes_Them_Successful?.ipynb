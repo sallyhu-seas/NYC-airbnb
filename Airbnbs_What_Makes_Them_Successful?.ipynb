{
  "nbformat": 4,
  "nbformat_minor": 0,
  "metadata": {
    "colab": {
      "name": "Airbnbs: What Makes Them Successful?.ipynb",
      "provenance": [],
      "collapsed_sections": [],
      "toc_visible": true,
      "authorship_tag": "ABX9TyPqgdw9FsgY+DVnuKQ/wBqz",
      "include_colab_link": true
    },
    "kernelspec": {
      "name": "python3",
      "display_name": "Python 3"
    }
  },
  "cells": [
    {
      "cell_type": "markdown",
      "metadata": {
        "id": "view-in-github",
        "colab_type": "text"
      },
      "source": [
        "<a href=\"https://colab.research.google.com/github/sallyhu-seas/NYC-airbnb/blob/main/Airbnbs_What_Makes_Them_Successful%3F.ipynb\" target=\"_parent\"><img src=\"https://colab.research.google.com/assets/colab-badge.svg\" alt=\"Open In Colab\"/></a>"
      ]
    },
    {
      "cell_type": "markdown",
      "metadata": {
        "id": "a4zf64fYvao3"
      },
      "source": [
        "# Welcome to our City!\n",
        "\n",
        "You're planning a trip to New York City and Los Angeles, and you're looking for a place to stay, but you're not sure where to begin. You might have a specific budget, you might want to walk everywhere, you might need robust WiFi, who knows! Only you do.\n",
        "\n",
        "You peruse the Internet a little longer and, there it is: the two most perfect Airbnbs, one in each city. The prices are perfect, the locations are perfect, and one even has a hot tub and the other has a stunning rooftop view! Booked.\n",
        "\n",
        "How did the hosts of your chosen Airbnbs know what you wanted? There's no way every visitor has the same needs as you, but the Airbnbs seemed perfect and had really high ratings!"
      ]
    },
    {
      "cell_type": "markdown",
      "metadata": {
        "id": "cOWaQdczz37t"
      },
      "source": [
        "In this project, we will analyze and assess the factors, both quantitative and qualitative, that make Airbnbs in NYC and LA successful. The analysis will center around two central themes:\n",
        "\n",
        "\n",
        "*   ***Internal factors***: What makes an Airbnb appealing based on the listing? What can a host say or post that would a visitor more inclined to choose their Airbnb? Is it the amenities? How about the description of the listing? Maybe they need to respond to requests faster?\n",
        "*   ***External factors***: We specifically chose NYC and LA because these vibrant cities are popular destinations for vistors of all backgrounds and they are diverse in every sense of the word: socioeconomically, demographically, culturally, etc. Consequently, we will analyze the impact of the city itself on the success of Airbnbs.\n",
        "\n",
        "\n",
        "After analyzing the impact of these factors and more, we will predict the price and success of future listings, and recommend measures hosts can take to attract more guests (like you!)."
      ]
    },
    {
      "cell_type": "markdown",
      "metadata": {
        "id": "nuHErA1v20_i"
      },
      "source": [
        "# Data Exploration and Preprocessing"
      ]
    },
    {
      "cell_type": "markdown",
      "metadata": {
        "id": "z1i6X78w3JGT"
      },
      "source": [
        "First, we pinpointed the data that's relevant to our analysis. Our datasets will come from three main sources:\n",
        "\n",
        "\n",
        "*   **[Inside Airbnb](http://insideairbnb.com/get-the-data.html)**: \n",
        "      * Listings: Contains all attributes associated with a given Airbnb listings in NYC and LA since 2008.\n",
        "*   **[NYC OpenData](https://data.cityofnewyork.us/Public-Safety/NYC-crime/qb7u-rbmr)**: \n",
        "      * NYPD Complaint Data: Contains all valid felony, misdemeanor, and violation crimes reported to the NYC Police Department (NYPD) since 2017.\n",
        "*   **[Citizens' Committee for Children](https://data.cccnewyork.org/data/download#0,8/66)**:\n",
        "      * Income-Level Data: Contains NYC household median income data by neighborhood since 1900. This data is filtered to keep only data from 2010 and after.\n",
        "\n"
      ]
    },
    {
      "cell_type": "markdown",
      "metadata": {
        "id": "II1EfSto7Png"
      },
      "source": [
        "We will explore and preprocess each dataset in this section."
      ]
    },
    {
      "cell_type": "code",
      "metadata": {
        "colab": {
          "base_uri": "https://localhost:8080/"
        },
        "id": "UrS1lGnVDvF_",
        "outputId": "e4ea54f9-4282-4b9d-d6ea-255c9f65acff"
      },
      "source": [
        "!pip install pandasql"
      ],
      "execution_count": null,
      "outputs": [
        {
          "output_type": "stream",
          "text": [
            "Collecting pandasql\n",
            "  Downloading https://files.pythonhosted.org/packages/6b/c4/ee4096ffa2eeeca0c749b26f0371bd26aa5c8b611c43de99a4f86d3de0a7/pandasql-0.7.3.tar.gz\n",
            "Requirement already satisfied: numpy in /usr/local/lib/python3.6/dist-packages (from pandasql) (1.18.5)\n",
            "Requirement already satisfied: pandas in /usr/local/lib/python3.6/dist-packages (from pandasql) (1.1.4)\n",
            "Requirement already satisfied: sqlalchemy in /usr/local/lib/python3.6/dist-packages (from pandasql) (1.3.20)\n",
            "Requirement already satisfied: python-dateutil>=2.7.3 in /usr/local/lib/python3.6/dist-packages (from pandas->pandasql) (2.8.1)\n",
            "Requirement already satisfied: pytz>=2017.2 in /usr/local/lib/python3.6/dist-packages (from pandas->pandasql) (2018.9)\n",
            "Requirement already satisfied: six>=1.5 in /usr/local/lib/python3.6/dist-packages (from python-dateutil>=2.7.3->pandas->pandasql) (1.15.0)\n",
            "Building wheels for collected packages: pandasql\n",
            "  Building wheel for pandasql (setup.py) ... \u001b[?25l\u001b[?25hdone\n",
            "  Created wheel for pandasql: filename=pandasql-0.7.3-cp36-none-any.whl size=26819 sha256=33ef05e475cde8eece6626fb258175f53e17c611367bdbcc382729a668c15108\n",
            "  Stored in directory: /root/.cache/pip/wheels/53/6c/18/b87a2e5fa8a82e9c026311de56210b8d1c01846e18a9607fc9\n",
            "Successfully built pandasql\n",
            "Installing collected packages: pandasql\n",
            "Successfully installed pandasql-0.7.3\n"
          ],
          "name": "stdout"
        }
      ]
    },
    {
      "cell_type": "code",
      "metadata": {
        "colab": {
          "base_uri": "https://localhost:8080/"
        },
        "id": "CW5qvGer7oF7",
        "outputId": "ee1fe30c-d5e8-4f4c-d308-60047b9d95a3"
      },
      "source": [
        "import sys\n",
        "import pandas as pd\n",
        "import numpy as np\n",
        "import matplotlib.pyplot as plt\n",
        "import seaborn as sns\n",
        "import pandasql as ps\n",
        "\n",
        "import zipfile\n",
        "from google.colab import drive\n",
        "\n",
        "import re\n",
        "import nltk\n",
        "from nltk import tokenize\n",
        "from nltk.sentiment.vader import SentimentIntensityAnalyzer\n",
        "from nltk.corpus import stopwords, names, words\n",
        "nltk.download('punkt')\n",
        "nltk.download('stopwords')\n",
        "nltk.download('names')\n",
        "nltk.download('words')\n",
        "\n",
        "from sklearn.feature_extraction.text import TfidfVectorizer\n",
        "from wordcloud import WordCloud, STOPWORDS, ImageColorGenerator\n",
        "\n",
        "from collections import Counter"
      ],
      "execution_count": null,
      "outputs": [
        {
          "output_type": "stream",
          "text": [
            "/usr/local/lib/python3.6/dist-packages/nltk/twitter/__init__.py:20: UserWarning: The twython library has not been installed. Some functionality from the twitter package will not be available.\n",
            "  warnings.warn(\"The twython library has not been installed. \"\n"
          ],
          "name": "stderr"
        },
        {
          "output_type": "stream",
          "text": [
            "[nltk_data] Downloading package punkt to /root/nltk_data...\n",
            "[nltk_data]   Unzipping tokenizers/punkt.zip.\n",
            "[nltk_data] Downloading package stopwords to /root/nltk_data...\n",
            "[nltk_data]   Unzipping corpora/stopwords.zip.\n",
            "[nltk_data] Downloading package names to /root/nltk_data...\n",
            "[nltk_data]   Unzipping corpora/names.zip.\n",
            "[nltk_data] Downloading package words to /root/nltk_data...\n",
            "[nltk_data]   Unzipping corpora/words.zip.\n"
          ],
          "name": "stdout"
        }
      ]
    },
    {
      "cell_type": "code",
      "metadata": {
        "colab": {
          "base_uri": "https://localhost:8080/"
        },
        "id": "KkpabifXNLa2",
        "outputId": "e87cc73a-d55f-4373-a836-4d95922c098e"
      },
      "source": [
        "drive.mount('/content/drive/')\n",
        "zip_ref = zipfile.ZipFile('/content/drive/Shared drives/CIS545: AirBnB/inside_airbnb.zip','r')\n",
        "zip_ref.extractall('/content/sample_data')"
      ],
      "execution_count": null,
      "outputs": [
        {
          "output_type": "stream",
          "text": [
            "Mounted at /content/drive/\n"
          ],
          "name": "stdout"
        }
      ]
    },
    {
      "cell_type": "markdown",
      "metadata": {
        "id": "9tay0HQ37ga2"
      },
      "source": [
        "## NYC and LA Airbnb Listings"
      ]
    },
    {
      "cell_type": "markdown",
      "metadata": {
        "id": "gwPPWxmxOkpX"
      },
      "source": [
        "### First Glance\n",
        "The listings data provides us with so many attributes related to a given Airbnb listing in NYC and LA. First, we'll load the data from both cities and combine them."
      ]
    },
    {
      "cell_type": "code",
      "metadata": {
        "id": "VufAtThF40IX"
      },
      "source": [
        "listings_nyc_df = pd.read_csv('/content/sample_data/Inside Airbnb/listings.csv')\n",
        "listings_la_df = pd.read_csv('/content/drive/Shared drives/CIS545: AirBnB/Data/listings_la.csv')"
      ],
      "execution_count": null,
      "outputs": []
    },
    {
      "cell_type": "code",
      "metadata": {
        "id": "WeMMmT2-DnaO"
      },
      "source": [
        "# Merge both cities into one dataset\n",
        "listings_df = ps.sqldf('''\n",
        "                        SELECT  *, 'NYC' as city\n",
        "                        FROM    listings_nyc_df\n",
        "                        UNION\n",
        "                        SELECT  *, 'LA' as city\n",
        "                        FROM    listings_la_df\n",
        "                      ''')"
      ],
      "execution_count": null,
      "outputs": []
    },
    {
      "cell_type": "code",
      "metadata": {
        "colab": {
          "base_uri": "https://localhost:8080/",
          "height": 375
        },
        "id": "r-Xh5Tm0D7sm",
        "outputId": "11f032a7-ff7c-409c-a0c7-0d786ca8be7d"
      },
      "source": [
        "listings_df.head(3)"
      ],
      "execution_count": null,
      "outputs": [
        {
          "output_type": "execute_result",
          "data": {
            "text/html": [
              "<div>\n",
              "<style scoped>\n",
              "    .dataframe tbody tr th:only-of-type {\n",
              "        vertical-align: middle;\n",
              "    }\n",
              "\n",
              "    .dataframe tbody tr th {\n",
              "        vertical-align: top;\n",
              "    }\n",
              "\n",
              "    .dataframe thead th {\n",
              "        text-align: right;\n",
              "    }\n",
              "</style>\n",
              "<table border=\"1\" class=\"dataframe\">\n",
              "  <thead>\n",
              "    <tr style=\"text-align: right;\">\n",
              "      <th></th>\n",
              "      <th>id</th>\n",
              "      <th>listing_url</th>\n",
              "      <th>scrape_id</th>\n",
              "      <th>last_scraped</th>\n",
              "      <th>name</th>\n",
              "      <th>description</th>\n",
              "      <th>neighborhood_overview</th>\n",
              "      <th>picture_url</th>\n",
              "      <th>host_id</th>\n",
              "      <th>host_url</th>\n",
              "      <th>host_name</th>\n",
              "      <th>host_since</th>\n",
              "      <th>host_location</th>\n",
              "      <th>host_about</th>\n",
              "      <th>host_response_time</th>\n",
              "      <th>host_response_rate</th>\n",
              "      <th>host_acceptance_rate</th>\n",
              "      <th>host_is_superhost</th>\n",
              "      <th>host_thumbnail_url</th>\n",
              "      <th>host_picture_url</th>\n",
              "      <th>host_neighbourhood</th>\n",
              "      <th>host_listings_count</th>\n",
              "      <th>host_total_listings_count</th>\n",
              "      <th>host_verifications</th>\n",
              "      <th>host_has_profile_pic</th>\n",
              "      <th>host_identity_verified</th>\n",
              "      <th>neighbourhood</th>\n",
              "      <th>neighbourhood_cleansed</th>\n",
              "      <th>neighbourhood_group_cleansed</th>\n",
              "      <th>latitude</th>\n",
              "      <th>longitude</th>\n",
              "      <th>property_type</th>\n",
              "      <th>room_type</th>\n",
              "      <th>accommodates</th>\n",
              "      <th>bathrooms</th>\n",
              "      <th>bathrooms_text</th>\n",
              "      <th>bedrooms</th>\n",
              "      <th>beds</th>\n",
              "      <th>amenities</th>\n",
              "      <th>price</th>\n",
              "      <th>minimum_nights</th>\n",
              "      <th>maximum_nights</th>\n",
              "      <th>minimum_minimum_nights</th>\n",
              "      <th>maximum_minimum_nights</th>\n",
              "      <th>minimum_maximum_nights</th>\n",
              "      <th>maximum_maximum_nights</th>\n",
              "      <th>minimum_nights_avg_ntm</th>\n",
              "      <th>maximum_nights_avg_ntm</th>\n",
              "      <th>calendar_updated</th>\n",
              "      <th>has_availability</th>\n",
              "      <th>availability_30</th>\n",
              "      <th>availability_60</th>\n",
              "      <th>availability_90</th>\n",
              "      <th>availability_365</th>\n",
              "      <th>calendar_last_scraped</th>\n",
              "      <th>number_of_reviews</th>\n",
              "      <th>number_of_reviews_ltm</th>\n",
              "      <th>number_of_reviews_l30d</th>\n",
              "      <th>first_review</th>\n",
              "      <th>last_review</th>\n",
              "      <th>review_scores_rating</th>\n",
              "      <th>review_scores_accuracy</th>\n",
              "      <th>review_scores_cleanliness</th>\n",
              "      <th>review_scores_checkin</th>\n",
              "      <th>review_scores_communication</th>\n",
              "      <th>review_scores_location</th>\n",
              "      <th>review_scores_value</th>\n",
              "      <th>license</th>\n",
              "      <th>instant_bookable</th>\n",
              "      <th>calculated_host_listings_count</th>\n",
              "      <th>calculated_host_listings_count_entire_homes</th>\n",
              "      <th>calculated_host_listings_count_private_rooms</th>\n",
              "      <th>calculated_host_listings_count_shared_rooms</th>\n",
              "      <th>reviews_per_month</th>\n",
              "      <th>city</th>\n",
              "    </tr>\n",
              "  </thead>\n",
              "  <tbody>\n",
              "    <tr>\n",
              "      <th>0</th>\n",
              "      <td>109</td>\n",
              "      <td>https://www.airbnb.com/rooms/109</td>\n",
              "      <td>2.020100e+13</td>\n",
              "      <td>10/25/2020</td>\n",
              "      <td>Amazing bright elegant condo park front *UPGRA...</td>\n",
              "      <td>*** Unit upgraded with new bamboo flooring, br...</td>\n",
              "      <td>None</td>\n",
              "      <td>https://a0.muscache.com/pictures/4321499/1da98...</td>\n",
              "      <td>521</td>\n",
              "      <td>https://www.airbnb.com/users/show/521</td>\n",
              "      <td>Paolo</td>\n",
              "      <td>6/27/2008</td>\n",
              "      <td>San Francisco, California, United States</td>\n",
              "      <td>Paolo Privitera, CEO Evensi\\n\\nPaolo, MIT MBA ...</td>\n",
              "      <td>None</td>\n",
              "      <td>None</td>\n",
              "      <td>0%</td>\n",
              "      <td>f</td>\n",
              "      <td>https://a0.muscache.com/im/pictures/user/e704a...</td>\n",
              "      <td>https://a0.muscache.com/im/pictures/user/e704a...</td>\n",
              "      <td>Culver City</td>\n",
              "      <td>1.0</td>\n",
              "      <td>1.0</td>\n",
              "      <td>['email', 'phone', 'facebook', 'reviews', 'jum...</td>\n",
              "      <td>t</td>\n",
              "      <td>t</td>\n",
              "      <td>None</td>\n",
              "      <td>Culver City</td>\n",
              "      <td>Other Cities</td>\n",
              "      <td>33.98209</td>\n",
              "      <td>-118.38494</td>\n",
              "      <td>Entire condominium</td>\n",
              "      <td>Entire home/apt</td>\n",
              "      <td>6</td>\n",
              "      <td>None</td>\n",
              "      <td>2 baths</td>\n",
              "      <td>2.0</td>\n",
              "      <td>3.0</td>\n",
              "      <td>[\"TV\", \"Heating\", \"Cable TV\", \"Kitchen\", \"Sham...</td>\n",
              "      <td>$115.00</td>\n",
              "      <td>30</td>\n",
              "      <td>730</td>\n",
              "      <td>30.0</td>\n",
              "      <td>30.0</td>\n",
              "      <td>730.0</td>\n",
              "      <td>730.0</td>\n",
              "      <td>30.0</td>\n",
              "      <td>730.0</td>\n",
              "      <td>None</td>\n",
              "      <td>t</td>\n",
              "      <td>0</td>\n",
              "      <td>0</td>\n",
              "      <td>0</td>\n",
              "      <td>207</td>\n",
              "      <td>10/25/2020</td>\n",
              "      <td>2</td>\n",
              "      <td>0</td>\n",
              "      <td>0</td>\n",
              "      <td>8/15/2011</td>\n",
              "      <td>5/15/2016</td>\n",
              "      <td>80.0</td>\n",
              "      <td>10.0</td>\n",
              "      <td>10.0</td>\n",
              "      <td>6.0</td>\n",
              "      <td>8.0</td>\n",
              "      <td>10.0</td>\n",
              "      <td>8.0</td>\n",
              "      <td>None</td>\n",
              "      <td>f</td>\n",
              "      <td>1</td>\n",
              "      <td>1</td>\n",
              "      <td>0</td>\n",
              "      <td>0</td>\n",
              "      <td>0.02</td>\n",
              "      <td>LA</td>\n",
              "    </tr>\n",
              "    <tr>\n",
              "      <th>1</th>\n",
              "      <td>2595</td>\n",
              "      <td>https://www.airbnb.com/rooms/2595</td>\n",
              "      <td>2.020100e+13</td>\n",
              "      <td>10/7/2020</td>\n",
              "      <td>Skylit Midtown Castle</td>\n",
              "      <td>Beautiful, spacious skylit studio in the heart...</td>\n",
              "      <td>Centrally located in the heart of Manhattan ju...</td>\n",
              "      <td>https://a0.muscache.com/pictures/f0813a11-40b2...</td>\n",
              "      <td>2845</td>\n",
              "      <td>https://www.airbnb.com/users/show/2845</td>\n",
              "      <td>Jennifer</td>\n",
              "      <td>9/9/2008</td>\n",
              "      <td>New York, New York, United States</td>\n",
              "      <td>A New Yorker since 2000! My passion is creatin...</td>\n",
              "      <td>within a day</td>\n",
              "      <td>70%</td>\n",
              "      <td>25%</td>\n",
              "      <td>f</td>\n",
              "      <td>https://a0.muscache.com/im/pictures/user/50fc5...</td>\n",
              "      <td>https://a0.muscache.com/im/pictures/user/50fc5...</td>\n",
              "      <td>Midtown</td>\n",
              "      <td>6.0</td>\n",
              "      <td>6.0</td>\n",
              "      <td>['email', 'phone', 'reviews', 'offline_governm...</td>\n",
              "      <td>t</td>\n",
              "      <td>t</td>\n",
              "      <td>New York, United States</td>\n",
              "      <td>Midtown</td>\n",
              "      <td>Manhattan</td>\n",
              "      <td>40.75362</td>\n",
              "      <td>-73.98377</td>\n",
              "      <td>Entire apartment</td>\n",
              "      <td>Entire home/apt</td>\n",
              "      <td>2</td>\n",
              "      <td>None</td>\n",
              "      <td>1 bath</td>\n",
              "      <td>NaN</td>\n",
              "      <td>1.0</td>\n",
              "      <td>[\"Hot water\", \"Stove\", \"Extra pillows and blan...</td>\n",
              "      <td>$175.00</td>\n",
              "      <td>3</td>\n",
              "      <td>1125</td>\n",
              "      <td>3.0</td>\n",
              "      <td>3.0</td>\n",
              "      <td>1125.0</td>\n",
              "      <td>1125.0</td>\n",
              "      <td>3.0</td>\n",
              "      <td>1125.0</td>\n",
              "      <td>None</td>\n",
              "      <td>t</td>\n",
              "      <td>30</td>\n",
              "      <td>60</td>\n",
              "      <td>90</td>\n",
              "      <td>365</td>\n",
              "      <td>10/7/2020</td>\n",
              "      <td>48</td>\n",
              "      <td>1</td>\n",
              "      <td>0</td>\n",
              "      <td>11/21/2009</td>\n",
              "      <td>11/4/2019</td>\n",
              "      <td>94.0</td>\n",
              "      <td>9.0</td>\n",
              "      <td>9.0</td>\n",
              "      <td>10.0</td>\n",
              "      <td>10.0</td>\n",
              "      <td>10.0</td>\n",
              "      <td>9.0</td>\n",
              "      <td>None</td>\n",
              "      <td>f</td>\n",
              "      <td>2</td>\n",
              "      <td>2</td>\n",
              "      <td>0</td>\n",
              "      <td>0</td>\n",
              "      <td>0.36</td>\n",
              "      <td>NYC</td>\n",
              "    </tr>\n",
              "    <tr>\n",
              "      <th>2</th>\n",
              "      <td>2708</td>\n",
              "      <td>https://www.airbnb.com/rooms/2708</td>\n",
              "      <td>2.020100e+13</td>\n",
              "      <td>10/10/2020</td>\n",
              "      <td>Beautiful Furnish Mirrored Mini-Suite w/ Firep...</td>\n",
              "      <td>Beautiful Furnished Mirror Mini-Suite w/ Firep...</td>\n",
              "      <td>We are minutes away from the Mentor Language I...</td>\n",
              "      <td>https://a0.muscache.com/pictures/miso/Hosting-...</td>\n",
              "      <td>3008</td>\n",
              "      <td>https://www.airbnb.com/users/show/3008</td>\n",
              "      <td>Chas.</td>\n",
              "      <td>9/16/2008</td>\n",
              "      <td>Los Angeles, California, United States</td>\n",
              "      <td>Writer.\\r\\nLiterary Manager.\\r\\nPhotographer.\\...</td>\n",
              "      <td>within a few hours</td>\n",
              "      <td>100%</td>\n",
              "      <td>100%</td>\n",
              "      <td>t</td>\n",
              "      <td>https://a0.muscache.com/im/pictures/user/d17cf...</td>\n",
              "      <td>https://a0.muscache.com/im/pictures/user/d17cf...</td>\n",
              "      <td>Hollywood</td>\n",
              "      <td>2.0</td>\n",
              "      <td>2.0</td>\n",
              "      <td>['email', 'phone', 'facebook', 'reviews', 'off...</td>\n",
              "      <td>t</td>\n",
              "      <td>t</td>\n",
              "      <td>Los Angeles, California, United States</td>\n",
              "      <td>Hollywood</td>\n",
              "      <td>City of Los Angeles</td>\n",
              "      <td>34.09768</td>\n",
              "      <td>-118.34602</td>\n",
              "      <td>Private room in apartment</td>\n",
              "      <td>Private room</td>\n",
              "      <td>1</td>\n",
              "      <td>None</td>\n",
              "      <td>1.5 baths</td>\n",
              "      <td>1.0</td>\n",
              "      <td>1.0</td>\n",
              "      <td>[\"Bed linens\", \"Essentials\", \"Patio or balcony...</td>\n",
              "      <td>$75.00</td>\n",
              "      <td>30</td>\n",
              "      <td>366</td>\n",
              "      <td>30.0</td>\n",
              "      <td>30.0</td>\n",
              "      <td>1125.0</td>\n",
              "      <td>1125.0</td>\n",
              "      <td>30.0</td>\n",
              "      <td>1125.0</td>\n",
              "      <td>None</td>\n",
              "      <td>t</td>\n",
              "      <td>0</td>\n",
              "      <td>30</td>\n",
              "      <td>60</td>\n",
              "      <td>335</td>\n",
              "      <td>10/10/2020</td>\n",
              "      <td>27</td>\n",
              "      <td>5</td>\n",
              "      <td>1</td>\n",
              "      <td>6/9/2014</td>\n",
              "      <td>10/6/2020</td>\n",
              "      <td>97.0</td>\n",
              "      <td>10.0</td>\n",
              "      <td>10.0</td>\n",
              "      <td>10.0</td>\n",
              "      <td>10.0</td>\n",
              "      <td>10.0</td>\n",
              "      <td>10.0</td>\n",
              "      <td>None</td>\n",
              "      <td>t</td>\n",
              "      <td>2</td>\n",
              "      <td>0</td>\n",
              "      <td>2</td>\n",
              "      <td>0</td>\n",
              "      <td>0.35</td>\n",
              "      <td>LA</td>\n",
              "    </tr>\n",
              "  </tbody>\n",
              "</table>\n",
              "</div>"
            ],
            "text/plain": [
              "     id                        listing_url  ...  reviews_per_month city\n",
              "0   109   https://www.airbnb.com/rooms/109  ...               0.02   LA\n",
              "1  2595  https://www.airbnb.com/rooms/2595  ...               0.36  NYC\n",
              "2  2708  https://www.airbnb.com/rooms/2708  ...               0.35   LA\n",
              "\n",
              "[3 rows x 75 columns]"
            ]
          },
          "metadata": {
            "tags": []
          },
          "execution_count": 6
        }
      ]
    },
    {
      "cell_type": "markdown",
      "metadata": {
        "id": "LopucLNgPINn"
      },
      "source": [
        "The data generally looks good, but we're not sure if it actually is. We want to take a full look at what is actually stored in this dataframe and what we might consider dropping.\n",
        "\n",
        "At first glance, we already know certain columns must be preprocessed. For instance, we know from above that host_since is a date and host_response_rate is a percentage, but their types don't reflect that. Certainly price must be a number!\n",
        "\n",
        "We also noticed that some columns are completely empty, like bathrooms and calendar_updated. These null columns can definitely be dropped. "
      ]
    },
    {
      "cell_type": "code",
      "metadata": {
        "colab": {
          "base_uri": "https://localhost:8080/"
        },
        "id": "DHB2aeHcPEG8",
        "outputId": "4855373b-b2b4-4f32-b15b-509d2d11d101"
      },
      "source": [
        "listings_df.info()"
      ],
      "execution_count": null,
      "outputs": [
        {
          "output_type": "stream",
          "text": [
            "<class 'pandas.core.frame.DataFrame'>\n",
            "RangeIndex: 75199 entries, 0 to 75198\n",
            "Data columns (total 75 columns):\n",
            " #   Column                                        Non-Null Count  Dtype  \n",
            "---  ------                                        --------------  -----  \n",
            " 0   id                                            75199 non-null  int64  \n",
            " 1   listing_url                                   75199 non-null  object \n",
            " 2   scrape_id                                     75199 non-null  float64\n",
            " 3   last_scraped                                  75199 non-null  object \n",
            " 4   name                                          75181 non-null  object \n",
            " 5   description                                   72911 non-null  object \n",
            " 6   neighborhood_overview                         48167 non-null  object \n",
            " 7   picture_url                                   75199 non-null  object \n",
            " 8   host_id                                       75199 non-null  int64  \n",
            " 9   host_url                                      75199 non-null  object \n",
            " 10  host_name                                     75172 non-null  object \n",
            " 11  host_since                                    75172 non-null  object \n",
            " 12  host_location                                 74965 non-null  object \n",
            " 13  host_about                                    45840 non-null  object \n",
            " 14  host_response_time                            44050 non-null  object \n",
            " 15  host_response_rate                            44050 non-null  object \n",
            " 16  host_acceptance_rate                          52145 non-null  object \n",
            " 17  host_is_superhost                             75172 non-null  object \n",
            " 18  host_thumbnail_url                            75172 non-null  object \n",
            " 19  host_picture_url                              75172 non-null  object \n",
            " 20  host_neighbourhood                            61968 non-null  object \n",
            " 21  host_listings_count                           75172 non-null  float64\n",
            " 22  host_total_listings_count                     75172 non-null  float64\n",
            " 23  host_verifications                            75199 non-null  object \n",
            " 24  host_has_profile_pic                          75172 non-null  object \n",
            " 25  host_identity_verified                        75172 non-null  object \n",
            " 26  neighbourhood                                 48169 non-null  object \n",
            " 27  neighbourhood_cleansed                        75199 non-null  object \n",
            " 28  neighbourhood_group_cleansed                  75199 non-null  object \n",
            " 29  latitude                                      75199 non-null  float64\n",
            " 30  longitude                                     75199 non-null  float64\n",
            " 31  property_type                                 75199 non-null  object \n",
            " 32  room_type                                     75199 non-null  object \n",
            " 33  accommodates                                  75199 non-null  int64  \n",
            " 34  bathrooms                                     0 non-null      object \n",
            " 35  bathrooms_text                                75080 non-null  object \n",
            " 36  bedrooms                                      67381 non-null  float64\n",
            " 37  beds                                          74390 non-null  float64\n",
            " 38  amenities                                     75199 non-null  object \n",
            " 39  price                                         75199 non-null  object \n",
            " 40  minimum_nights                                75199 non-null  int64  \n",
            " 41  maximum_nights                                75199 non-null  int64  \n",
            " 42  minimum_minimum_nights                        75189 non-null  float64\n",
            " 43  maximum_minimum_nights                        75189 non-null  float64\n",
            " 44  minimum_maximum_nights                        75189 non-null  float64\n",
            " 45  maximum_maximum_nights                        75189 non-null  float64\n",
            " 46  minimum_nights_avg_ntm                        75189 non-null  float64\n",
            " 47  maximum_nights_avg_ntm                        75189 non-null  float64\n",
            " 48  calendar_updated                              0 non-null      object \n",
            " 49  has_availability                              75199 non-null  object \n",
            " 50  availability_30                               75199 non-null  int64  \n",
            " 51  availability_60                               75199 non-null  int64  \n",
            " 52  availability_90                               75199 non-null  int64  \n",
            " 53  availability_365                              75199 non-null  int64  \n",
            " 54  calendar_last_scraped                         75199 non-null  object \n",
            " 55  number_of_reviews                             75199 non-null  int64  \n",
            " 56  number_of_reviews_ltm                         75199 non-null  int64  \n",
            " 57  number_of_reviews_l30d                        75199 non-null  int64  \n",
            " 58  first_review                                  57951 non-null  object \n",
            " 59  last_review                                   57951 non-null  object \n",
            " 60  review_scores_rating                          56526 non-null  float64\n",
            " 61  review_scores_accuracy                        56371 non-null  float64\n",
            " 62  review_scores_cleanliness                     56384 non-null  float64\n",
            " 63  review_scores_checkin                         56346 non-null  float64\n",
            " 64  review_scores_communication                   56374 non-null  float64\n",
            " 65  review_scores_location                        56338 non-null  float64\n",
            " 66  review_scores_value                           56335 non-null  float64\n",
            " 67  license                                       6049 non-null   object \n",
            " 68  instant_bookable                              75199 non-null  object \n",
            " 69  calculated_host_listings_count                75199 non-null  int64  \n",
            " 70  calculated_host_listings_count_entire_homes   75199 non-null  int64  \n",
            " 71  calculated_host_listings_count_private_rooms  75199 non-null  int64  \n",
            " 72  calculated_host_listings_count_shared_rooms   75199 non-null  int64  \n",
            " 73  reviews_per_month                             57951 non-null  float64\n",
            " 74  city                                          75199 non-null  object \n",
            "dtypes: float64(21), int64(16), object(38)\n",
            "memory usage: 43.0+ MB\n"
          ],
          "name": "stdout"
        }
      ]
    },
    {
      "cell_type": "markdown",
      "metadata": {
        "id": "u5pbKGXtS0Kr"
      },
      "source": [
        "### Basic Formatting\n",
        "Before we begin exploring, we need to preprocess the most important parts of our data so that our exploration is meaningful. Our data must reflect the correct datatypes before we do anything else."
      ]
    },
    {
      "cell_type": "markdown",
      "metadata": {
        "id": "A8dt4HIBUjeb"
      },
      "source": [
        "Judging from our initial look, these five columns should be dates. Let's update the type."
      ]
    },
    {
      "cell_type": "code",
      "metadata": {
        "id": "o8Xi6MZDUc8P"
      },
      "source": [
        "listings_df['host_since']=listings_df['host_since'].apply(lambda x: pd.to_datetime(x,infer_datetime_format=True))\n",
        "listings_df['first_review']=listings_df['first_review'].apply(lambda x: pd.to_datetime(x,infer_datetime_format=True))\n",
        "listings_df['last_review']=listings_df['last_review'].apply(lambda x: pd.to_datetime(x,infer_datetime_format=True))\n",
        "listings_df['last_scraped']=listings_df['last_scraped'].apply(lambda x: pd.to_datetime(x,infer_datetime_format=True))\n",
        "listings_df['calendar_last_scraped']=listings_df['calendar_last_scraped'].apply(lambda x: pd.to_datetime(x,infer_datetime_format=True))"
      ],
      "execution_count": null,
      "outputs": []
    },
    {
      "cell_type": "markdown",
      "metadata": {
        "id": "pKLCJ5IdHQHD"
      },
      "source": [
        "These columns should also be float types so let's cast them as such."
      ]
    },
    {
      "cell_type": "code",
      "metadata": {
        "id": "Q3nRnOc4GL85"
      },
      "source": [
        "listings_df['host_response_rate']=listings_df['host_response_rate'].apply(lambda x: str(x).replace('%','') if not x else x)\n",
        "listings_df['host_acceptance_rate']=listings_df['host_acceptance_rate'].apply(lambda x: str(x).replace('%','') if not x else x)\n",
        "listings_df['price']=listings_df['price'].apply(lambda x: float(str(x).replace('$','').replace(',','')))"
      ],
      "execution_count": null,
      "outputs": []
    },
    {
      "cell_type": "code",
      "metadata": {
        "id": "Cgvv-4kYHoD6"
      },
      "source": [
        "# We had to break this out and process the float type separately.\n",
        "listings_df['host_response_rate']=listings_df['host_response_rate'].apply(lambda x: float(x) if not x else x)\n",
        "listings_df['host_acceptance_rate']=listings_df['host_acceptance_rate'].apply(lambda x: float(x) if not x else x)"
      ],
      "execution_count": null,
      "outputs": []
    },
    {
      "cell_type": "markdown",
      "metadata": {
        "id": "fEszYGjaJuyw"
      },
      "source": [
        "The listings data is officially ready to be explored. Let's take a look and see what we have. After our initial exploration, we'll finish preparing our dataset."
      ]
    },
    {
      "cell_type": "markdown",
      "metadata": {
        "id": "kThFsCIPQxBK"
      },
      "source": [
        "### Let's Explore!\n",
        "\n",
        "Now we're going to poke around to learn about the data and also see if there's anything particularly striking. Our aim in this step is to find out what might be useful in our analysis and for our models, but also what can be thrown away.\n",
        "\n",
        "This is our main dataset, so we explored and vetted it as thoroughly as possible."
      ]
    },
    {
      "cell_type": "markdown",
      "metadata": {
        "id": "Md3tNqsXbrVd"
      },
      "source": [
        "#### **What to do with these?**\n",
        "\n",
        "We'll take a closer look at the data and determine what is and isn't important to *our* analysis. During our exploration, we realize that a lot of attributes are interesting, but may not be necessarily relevant for our purposes. \n",
        "\n",
        "Note: Any and all final formatting efforts will be done in the *Final Cleaning and Formatting* section."
      ]
    },
    {
      "cell_type": "markdown",
      "metadata": {
        "id": "B71aHToCL7RD"
      },
      "source": [
        "##### *Null Host Names?*\n",
        "\n",
        "First, we noticed that there are 27 host names that are missing. After looking at the data, we saw that a lot of other information important to our analysis, such as ratings, are null. Since there are so few, we concluded that we can drop these without impacting our analysis."
      ]
    },
    {
      "cell_type": "code",
      "metadata": {
        "colab": {
          "base_uri": "https://localhost:8080/"
        },
        "id": "P9ncR1w-Qz93",
        "outputId": "28c1ac7c-cb77-4c81-9f79-f773e7d64fac"
      },
      "source": [
        "listings_df[listings_df['host_name'].isna() == True]['id'].count()"
      ],
      "execution_count": null,
      "outputs": [
        {
          "output_type": "execute_result",
          "data": {
            "text/plain": [
              "27"
            ]
          },
          "metadata": {
            "tags": []
          },
          "execution_count": 11
        }
      ]
    },
    {
      "cell_type": "code",
      "metadata": {
        "colab": {
          "base_uri": "https://localhost:8080/",
          "height": 1000
        },
        "id": "K3jwOEZPMTuw",
        "outputId": "e0fada7d-c261-45b6-d6af-0b7e9d6f466e"
      },
      "source": [
        "# Take a peek at the 27\n",
        "listings_df[listings_df['host_name'].isna() == True]"
      ],
      "execution_count": null,
      "outputs": [
        {
          "output_type": "execute_result",
          "data": {
            "text/html": [
              "<div>\n",
              "<style scoped>\n",
              "    .dataframe tbody tr th:only-of-type {\n",
              "        vertical-align: middle;\n",
              "    }\n",
              "\n",
              "    .dataframe tbody tr th {\n",
              "        vertical-align: top;\n",
              "    }\n",
              "\n",
              "    .dataframe thead th {\n",
              "        text-align: right;\n",
              "    }\n",
              "</style>\n",
              "<table border=\"1\" class=\"dataframe\">\n",
              "  <thead>\n",
              "    <tr style=\"text-align: right;\">\n",
              "      <th></th>\n",
              "      <th>id</th>\n",
              "      <th>listing_url</th>\n",
              "      <th>scrape_id</th>\n",
              "      <th>last_scraped</th>\n",
              "      <th>name</th>\n",
              "      <th>description</th>\n",
              "      <th>neighborhood_overview</th>\n",
              "      <th>picture_url</th>\n",
              "      <th>host_id</th>\n",
              "      <th>host_url</th>\n",
              "      <th>host_name</th>\n",
              "      <th>host_since</th>\n",
              "      <th>host_location</th>\n",
              "      <th>host_about</th>\n",
              "      <th>host_response_time</th>\n",
              "      <th>host_response_rate</th>\n",
              "      <th>host_acceptance_rate</th>\n",
              "      <th>host_is_superhost</th>\n",
              "      <th>host_thumbnail_url</th>\n",
              "      <th>host_picture_url</th>\n",
              "      <th>host_neighbourhood</th>\n",
              "      <th>host_listings_count</th>\n",
              "      <th>host_total_listings_count</th>\n",
              "      <th>host_verifications</th>\n",
              "      <th>host_has_profile_pic</th>\n",
              "      <th>host_identity_verified</th>\n",
              "      <th>neighbourhood</th>\n",
              "      <th>neighbourhood_cleansed</th>\n",
              "      <th>neighbourhood_group_cleansed</th>\n",
              "      <th>latitude</th>\n",
              "      <th>longitude</th>\n",
              "      <th>property_type</th>\n",
              "      <th>room_type</th>\n",
              "      <th>accommodates</th>\n",
              "      <th>bathrooms</th>\n",
              "      <th>bathrooms_text</th>\n",
              "      <th>bedrooms</th>\n",
              "      <th>beds</th>\n",
              "      <th>amenities</th>\n",
              "      <th>price</th>\n",
              "      <th>minimum_nights</th>\n",
              "      <th>maximum_nights</th>\n",
              "      <th>minimum_minimum_nights</th>\n",
              "      <th>maximum_minimum_nights</th>\n",
              "      <th>minimum_maximum_nights</th>\n",
              "      <th>maximum_maximum_nights</th>\n",
              "      <th>minimum_nights_avg_ntm</th>\n",
              "      <th>maximum_nights_avg_ntm</th>\n",
              "      <th>calendar_updated</th>\n",
              "      <th>has_availability</th>\n",
              "      <th>availability_30</th>\n",
              "      <th>availability_60</th>\n",
              "      <th>availability_90</th>\n",
              "      <th>availability_365</th>\n",
              "      <th>calendar_last_scraped</th>\n",
              "      <th>number_of_reviews</th>\n",
              "      <th>number_of_reviews_ltm</th>\n",
              "      <th>number_of_reviews_l30d</th>\n",
              "      <th>first_review</th>\n",
              "      <th>last_review</th>\n",
              "      <th>review_scores_rating</th>\n",
              "      <th>review_scores_accuracy</th>\n",
              "      <th>review_scores_cleanliness</th>\n",
              "      <th>review_scores_checkin</th>\n",
              "      <th>review_scores_communication</th>\n",
              "      <th>review_scores_location</th>\n",
              "      <th>review_scores_value</th>\n",
              "      <th>license</th>\n",
              "      <th>instant_bookable</th>\n",
              "      <th>calculated_host_listings_count</th>\n",
              "      <th>calculated_host_listings_count_entire_homes</th>\n",
              "      <th>calculated_host_listings_count_private_rooms</th>\n",
              "      <th>calculated_host_listings_count_shared_rooms</th>\n",
              "      <th>reviews_per_month</th>\n",
              "      <th>city</th>\n",
              "    </tr>\n",
              "  </thead>\n",
              "  <tbody>\n",
              "    <tr>\n",
              "      <th>7247</th>\n",
              "      <td>4446862</td>\n",
              "      <td>https://www.airbnb.com/rooms/4446862</td>\n",
              "      <td>2.020100e+13</td>\n",
              "      <td>2020-10-06</td>\n",
              "      <td>Charming Room in Prospect Heights!</td>\n",
              "      <td>Quiet room in three bedroom apt in Prospect He...</td>\n",
              "      <td>This charming Brooklyn neighborhood offers man...</td>\n",
              "      <td>https://a0.muscache.com/pictures/57579076/ace3...</td>\n",
              "      <td>23077718</td>\n",
              "      <td>https://www.airbnb.com/users/show/23077718</td>\n",
              "      <td>None</td>\n",
              "      <td>NaT</td>\n",
              "      <td>None</td>\n",
              "      <td>None</td>\n",
              "      <td>None</td>\n",
              "      <td>None</td>\n",
              "      <td>None</td>\n",
              "      <td>None</td>\n",
              "      <td>None</td>\n",
              "      <td>None</td>\n",
              "      <td>None</td>\n",
              "      <td>NaN</td>\n",
              "      <td>NaN</td>\n",
              "      <td>None</td>\n",
              "      <td>None</td>\n",
              "      <td>None</td>\n",
              "      <td>Brooklyn, New York, United States</td>\n",
              "      <td>Crown Heights</td>\n",
              "      <td>Brooklyn</td>\n",
              "      <td>40.67512</td>\n",
              "      <td>-73.96146</td>\n",
              "      <td>Private room in apartment</td>\n",
              "      <td>Private room</td>\n",
              "      <td>2</td>\n",
              "      <td>None</td>\n",
              "      <td>1 bath</td>\n",
              "      <td>1.0</td>\n",
              "      <td>1.0</td>\n",
              "      <td>[\"Essentials\", \"Heating\", \"Air conditioning\", ...</td>\n",
              "      <td>50.0</td>\n",
              "      <td>1</td>\n",
              "      <td>1125</td>\n",
              "      <td>1.0</td>\n",
              "      <td>1.0</td>\n",
              "      <td>1125.0</td>\n",
              "      <td>1125.0</td>\n",
              "      <td>1.0</td>\n",
              "      <td>1125.0</td>\n",
              "      <td>None</td>\n",
              "      <td>t</td>\n",
              "      <td>0</td>\n",
              "      <td>0</td>\n",
              "      <td>0</td>\n",
              "      <td>0</td>\n",
              "      <td>2020-10-06</td>\n",
              "      <td>0</td>\n",
              "      <td>0</td>\n",
              "      <td>0</td>\n",
              "      <td>NaT</td>\n",
              "      <td>NaT</td>\n",
              "      <td>NaN</td>\n",
              "      <td>NaN</td>\n",
              "      <td>NaN</td>\n",
              "      <td>NaN</td>\n",
              "      <td>NaN</td>\n",
              "      <td>NaN</td>\n",
              "      <td>NaN</td>\n",
              "      <td>None</td>\n",
              "      <td>f</td>\n",
              "      <td>1</td>\n",
              "      <td>0</td>\n",
              "      <td>1</td>\n",
              "      <td>0</td>\n",
              "      <td>NaN</td>\n",
              "      <td>NYC</td>\n",
              "    </tr>\n",
              "    <tr>\n",
              "      <th>7808</th>\n",
              "      <td>4763327</td>\n",
              "      <td>https://www.airbnb.com/rooms/4763327</td>\n",
              "      <td>2.020100e+13</td>\n",
              "      <td>2020-10-06</td>\n",
              "      <td>Luxurious, best location, spa inc'l</td>\n",
              "      <td>Brand new luxurious boutique building, swimmin...</td>\n",
              "      <td>Quoting from Time Out Magazine: \"Williamsburg ...</td>\n",
              "      <td>https://a0.muscache.com/pictures/59917673/e733...</td>\n",
              "      <td>24576978</td>\n",
              "      <td>https://www.airbnb.com/users/show/24576978</td>\n",
              "      <td>None</td>\n",
              "      <td>NaT</td>\n",
              "      <td>None</td>\n",
              "      <td>None</td>\n",
              "      <td>None</td>\n",
              "      <td>None</td>\n",
              "      <td>None</td>\n",
              "      <td>None</td>\n",
              "      <td>None</td>\n",
              "      <td>None</td>\n",
              "      <td>None</td>\n",
              "      <td>NaN</td>\n",
              "      <td>NaN</td>\n",
              "      <td>None</td>\n",
              "      <td>None</td>\n",
              "      <td>None</td>\n",
              "      <td>Brooklyn, New York, United States</td>\n",
              "      <td>Greenpoint</td>\n",
              "      <td>Brooklyn</td>\n",
              "      <td>40.72035</td>\n",
              "      <td>-73.95355</td>\n",
              "      <td>Entire apartment</td>\n",
              "      <td>Entire home/apt</td>\n",
              "      <td>4</td>\n",
              "      <td>None</td>\n",
              "      <td>1 bath</td>\n",
              "      <td>1.0</td>\n",
              "      <td>2.0</td>\n",
              "      <td>[\"Pool\", \"Cable TV\", \"Essentials\", \"Washer\", \"...</td>\n",
              "      <td>195.0</td>\n",
              "      <td>1</td>\n",
              "      <td>1125</td>\n",
              "      <td>1.0</td>\n",
              "      <td>2.0</td>\n",
              "      <td>1125.0</td>\n",
              "      <td>1125.0</td>\n",
              "      <td>1.0</td>\n",
              "      <td>1125.0</td>\n",
              "      <td>None</td>\n",
              "      <td>t</td>\n",
              "      <td>0</td>\n",
              "      <td>0</td>\n",
              "      <td>0</td>\n",
              "      <td>0</td>\n",
              "      <td>2020-10-06</td>\n",
              "      <td>1</td>\n",
              "      <td>0</td>\n",
              "      <td>0</td>\n",
              "      <td>2015-10-20</td>\n",
              "      <td>2015-10-20</td>\n",
              "      <td>80.0</td>\n",
              "      <td>8.0</td>\n",
              "      <td>10.0</td>\n",
              "      <td>10.0</td>\n",
              "      <td>8.0</td>\n",
              "      <td>10.0</td>\n",
              "      <td>8.0</td>\n",
              "      <td>None</td>\n",
              "      <td>f</td>\n",
              "      <td>1</td>\n",
              "      <td>1</td>\n",
              "      <td>0</td>\n",
              "      <td>0</td>\n",
              "      <td>0.02</td>\n",
              "      <td>NYC</td>\n",
              "    </tr>\n",
              "    <tr>\n",
              "      <th>9816</th>\n",
              "      <td>6360224</td>\n",
              "      <td>https://www.airbnb.com/rooms/6360224</td>\n",
              "      <td>2.020100e+13</td>\n",
              "      <td>2020-10-10</td>\n",
              "      <td>Sunny, Private room in Bushwick</td>\n",
              "      <td>Spacious room, lots of light. New, clean build...</td>\n",
              "      <td>None</td>\n",
              "      <td>https://a0.muscache.com/pictures/87714659/5b7b...</td>\n",
              "      <td>33134899</td>\n",
              "      <td>https://www.airbnb.com/users/show/33134899</td>\n",
              "      <td>None</td>\n",
              "      <td>NaT</td>\n",
              "      <td>None</td>\n",
              "      <td>None</td>\n",
              "      <td>None</td>\n",
              "      <td>None</td>\n",
              "      <td>None</td>\n",
              "      <td>None</td>\n",
              "      <td>None</td>\n",
              "      <td>None</td>\n",
              "      <td>None</td>\n",
              "      <td>NaN</td>\n",
              "      <td>NaN</td>\n",
              "      <td>None</td>\n",
              "      <td>None</td>\n",
              "      <td>None</td>\n",
              "      <td>None</td>\n",
              "      <td>Bushwick</td>\n",
              "      <td>Brooklyn</td>\n",
              "      <td>40.70146</td>\n",
              "      <td>-73.92792</td>\n",
              "      <td>Private room in apartment</td>\n",
              "      <td>Private room</td>\n",
              "      <td>1</td>\n",
              "      <td>None</td>\n",
              "      <td>0 baths</td>\n",
              "      <td>1.0</td>\n",
              "      <td>1.0</td>\n",
              "      <td>[\"Carbon monoxide alarm\", \"Air conditioning\", ...</td>\n",
              "      <td>37.0</td>\n",
              "      <td>1</td>\n",
              "      <td>1125</td>\n",
              "      <td>1.0</td>\n",
              "      <td>1.0</td>\n",
              "      <td>1125.0</td>\n",
              "      <td>1125.0</td>\n",
              "      <td>1.0</td>\n",
              "      <td>1125.0</td>\n",
              "      <td>None</td>\n",
              "      <td>t</td>\n",
              "      <td>0</td>\n",
              "      <td>0</td>\n",
              "      <td>0</td>\n",
              "      <td>0</td>\n",
              "      <td>2020-10-10</td>\n",
              "      <td>1</td>\n",
              "      <td>0</td>\n",
              "      <td>0</td>\n",
              "      <td>2015-07-01</td>\n",
              "      <td>2015-07-01</td>\n",
              "      <td>NaN</td>\n",
              "      <td>NaN</td>\n",
              "      <td>NaN</td>\n",
              "      <td>NaN</td>\n",
              "      <td>NaN</td>\n",
              "      <td>NaN</td>\n",
              "      <td>NaN</td>\n",
              "      <td>None</td>\n",
              "      <td>f</td>\n",
              "      <td>1</td>\n",
              "      <td>0</td>\n",
              "      <td>1</td>\n",
              "      <td>0</td>\n",
              "      <td>0.02</td>\n",
              "      <td>NYC</td>\n",
              "    </tr>\n",
              "    <tr>\n",
              "      <th>10680</th>\n",
              "      <td>6900415</td>\n",
              "      <td>https://www.airbnb.com/rooms/6900415</td>\n",
              "      <td>2.020100e+13</td>\n",
              "      <td>2020-10-10</td>\n",
              "      <td>Quiet, Cozy West LA House</td>\n",
              "      <td>A beautiful, quiet little house with a great b...</td>\n",
              "      <td>Walking distance to coffee shops and restauran...</td>\n",
              "      <td>https://a0.muscache.com/pictures/87362346/ebd8...</td>\n",
              "      <td>36159573</td>\n",
              "      <td>https://www.airbnb.com/users/show/36159573</td>\n",
              "      <td>None</td>\n",
              "      <td>NaT</td>\n",
              "      <td>None</td>\n",
              "      <td>None</td>\n",
              "      <td>None</td>\n",
              "      <td>None</td>\n",
              "      <td>None</td>\n",
              "      <td>None</td>\n",
              "      <td>None</td>\n",
              "      <td>None</td>\n",
              "      <td>None</td>\n",
              "      <td>NaN</td>\n",
              "      <td>NaN</td>\n",
              "      <td>None</td>\n",
              "      <td>None</td>\n",
              "      <td>None</td>\n",
              "      <td>Los Angeles, California, United States</td>\n",
              "      <td>Mar Vista</td>\n",
              "      <td>City of Los Angeles</td>\n",
              "      <td>34.00105</td>\n",
              "      <td>-118.43665</td>\n",
              "      <td>Entire house</td>\n",
              "      <td>Entire home/apt</td>\n",
              "      <td>3</td>\n",
              "      <td>None</td>\n",
              "      <td>1 bath</td>\n",
              "      <td>1.0</td>\n",
              "      <td>2.0</td>\n",
              "      <td>[\"Essentials\", \"Wifi\", \"Washer\", \"First aid ki...</td>\n",
              "      <td>99.0</td>\n",
              "      <td>30</td>\n",
              "      <td>1125</td>\n",
              "      <td>30.0</td>\n",
              "      <td>30.0</td>\n",
              "      <td>1125.0</td>\n",
              "      <td>1125.0</td>\n",
              "      <td>30.0</td>\n",
              "      <td>1125.0</td>\n",
              "      <td>None</td>\n",
              "      <td>t</td>\n",
              "      <td>0</td>\n",
              "      <td>0</td>\n",
              "      <td>0</td>\n",
              "      <td>0</td>\n",
              "      <td>2020-10-10</td>\n",
              "      <td>0</td>\n",
              "      <td>0</td>\n",
              "      <td>0</td>\n",
              "      <td>NaT</td>\n",
              "      <td>NaT</td>\n",
              "      <td>NaN</td>\n",
              "      <td>NaN</td>\n",
              "      <td>NaN</td>\n",
              "      <td>NaN</td>\n",
              "      <td>NaN</td>\n",
              "      <td>NaN</td>\n",
              "      <td>NaN</td>\n",
              "      <td>None</td>\n",
              "      <td>f</td>\n",
              "      <td>1</td>\n",
              "      <td>1</td>\n",
              "      <td>0</td>\n",
              "      <td>0</td>\n",
              "      <td>NaN</td>\n",
              "      <td>LA</td>\n",
              "    </tr>\n",
              "    <tr>\n",
              "      <th>10844</th>\n",
              "      <td>6992973</td>\n",
              "      <td>https://www.airbnb.com/rooms/6992973</td>\n",
              "      <td>2.020100e+13</td>\n",
              "      <td>2020-10-12</td>\n",
              "      <td>1 Bedroom in Prime Williamsburg</td>\n",
              "      <td>1 Bed / 2 Bath in Williamsburg, Brooklyn. Two ...</td>\n",
              "      <td>Williamsburg is the epicenter of Brooklyn as a...</td>\n",
              "      <td>https://a0.muscache.com/pictures/88754612/83c4...</td>\n",
              "      <td>5162530</td>\n",
              "      <td>https://www.airbnb.com/users/show/5162530</td>\n",
              "      <td>None</td>\n",
              "      <td>NaT</td>\n",
              "      <td>None</td>\n",
              "      <td>None</td>\n",
              "      <td>None</td>\n",
              "      <td>None</td>\n",
              "      <td>None</td>\n",
              "      <td>None</td>\n",
              "      <td>None</td>\n",
              "      <td>None</td>\n",
              "      <td>None</td>\n",
              "      <td>NaN</td>\n",
              "      <td>NaN</td>\n",
              "      <td>None</td>\n",
              "      <td>None</td>\n",
              "      <td>None</td>\n",
              "      <td>Brooklyn, New York, United States</td>\n",
              "      <td>Williamsburg</td>\n",
              "      <td>Brooklyn</td>\n",
              "      <td>40.71838</td>\n",
              "      <td>-73.95630</td>\n",
              "      <td>Entire apartment</td>\n",
              "      <td>Entire home/apt</td>\n",
              "      <td>4</td>\n",
              "      <td>None</td>\n",
              "      <td>2 baths</td>\n",
              "      <td>2.0</td>\n",
              "      <td>1.0</td>\n",
              "      <td>[\"Shampoo\", \"Kitchen\", \"Smoke alarm\", \"Carbon ...</td>\n",
              "      <td>145.0</td>\n",
              "      <td>1</td>\n",
              "      <td>1125</td>\n",
              "      <td>1.0</td>\n",
              "      <td>2.0</td>\n",
              "      <td>1125.0</td>\n",
              "      <td>1125.0</td>\n",
              "      <td>1.0</td>\n",
              "      <td>1125.0</td>\n",
              "      <td>None</td>\n",
              "      <td>t</td>\n",
              "      <td>0</td>\n",
              "      <td>0</td>\n",
              "      <td>0</td>\n",
              "      <td>0</td>\n",
              "      <td>2020-10-12</td>\n",
              "      <td>0</td>\n",
              "      <td>0</td>\n",
              "      <td>0</td>\n",
              "      <td>NaT</td>\n",
              "      <td>NaT</td>\n",
              "      <td>NaN</td>\n",
              "      <td>NaN</td>\n",
              "      <td>NaN</td>\n",
              "      <td>NaN</td>\n",
              "      <td>NaN</td>\n",
              "      <td>NaN</td>\n",
              "      <td>NaN</td>\n",
              "      <td>None</td>\n",
              "      <td>f</td>\n",
              "      <td>1</td>\n",
              "      <td>1</td>\n",
              "      <td>0</td>\n",
              "      <td>0</td>\n",
              "      <td>NaN</td>\n",
              "      <td>NYC</td>\n",
              "    </tr>\n",
              "    <tr>\n",
              "      <th>11624</th>\n",
              "      <td>7556587</td>\n",
              "      <td>https://www.airbnb.com/rooms/7556587</td>\n",
              "      <td>2.020100e+13</td>\n",
              "      <td>2020-10-10</td>\n",
              "      <td>Sunny Room in Harlem</td>\n",
              "      <td>Large furnished room available in a spacious a...</td>\n",
              "      <td>None</td>\n",
              "      <td>https://a0.muscache.com/pictures/96927311/3530...</td>\n",
              "      <td>39608626</td>\n",
              "      <td>https://www.airbnb.com/users/show/39608626</td>\n",
              "      <td>None</td>\n",
              "      <td>NaT</td>\n",
              "      <td>None</td>\n",
              "      <td>None</td>\n",
              "      <td>None</td>\n",
              "      <td>None</td>\n",
              "      <td>None</td>\n",
              "      <td>None</td>\n",
              "      <td>None</td>\n",
              "      <td>None</td>\n",
              "      <td>None</td>\n",
              "      <td>NaN</td>\n",
              "      <td>NaN</td>\n",
              "      <td>None</td>\n",
              "      <td>None</td>\n",
              "      <td>None</td>\n",
              "      <td>None</td>\n",
              "      <td>Harlem</td>\n",
              "      <td>Manhattan</td>\n",
              "      <td>40.82929</td>\n",
              "      <td>-73.94182</td>\n",
              "      <td>Private room in apartment</td>\n",
              "      <td>Private room</td>\n",
              "      <td>2</td>\n",
              "      <td>None</td>\n",
              "      <td>1 bath</td>\n",
              "      <td>1.0</td>\n",
              "      <td>1.0</td>\n",
              "      <td>[\"Wifi\", \"Smoke alarm\", \"Heating\", \"Kitchen\", ...</td>\n",
              "      <td>28.0</td>\n",
              "      <td>1</td>\n",
              "      <td>1125</td>\n",
              "      <td>1.0</td>\n",
              "      <td>1.0</td>\n",
              "      <td>1125.0</td>\n",
              "      <td>1125.0</td>\n",
              "      <td>1.0</td>\n",
              "      <td>1125.0</td>\n",
              "      <td>None</td>\n",
              "      <td>t</td>\n",
              "      <td>0</td>\n",
              "      <td>0</td>\n",
              "      <td>0</td>\n",
              "      <td>0</td>\n",
              "      <td>2020-10-10</td>\n",
              "      <td>1</td>\n",
              "      <td>0</td>\n",
              "      <td>0</td>\n",
              "      <td>2015-08-01</td>\n",
              "      <td>2015-08-01</td>\n",
              "      <td>NaN</td>\n",
              "      <td>NaN</td>\n",
              "      <td>NaN</td>\n",
              "      <td>NaN</td>\n",
              "      <td>NaN</td>\n",
              "      <td>NaN</td>\n",
              "      <td>NaN</td>\n",
              "      <td>None</td>\n",
              "      <td>f</td>\n",
              "      <td>1</td>\n",
              "      <td>0</td>\n",
              "      <td>1</td>\n",
              "      <td>0</td>\n",
              "      <td>0.02</td>\n",
              "      <td>NYC</td>\n",
              "    </tr>\n",
              "    <tr>\n",
              "      <th>12325</th>\n",
              "      <td>8007908</td>\n",
              "      <td>https://www.airbnb.com/rooms/8007908</td>\n",
              "      <td>2.020100e+13</td>\n",
              "      <td>2020-10-06</td>\n",
              "      <td>Rare Find: Stylish West Village Townhouse</td>\n",
              "      <td>Newly redecorated and spacious duplex with 2 p...</td>\n",
              "      <td>Nestled in the most western pocket of the West...</td>\n",
              "      <td>https://a0.muscache.com/pictures/f31c6c7a-8e28...</td>\n",
              "      <td>390117</td>\n",
              "      <td>https://www.airbnb.com/users/show/390117</td>\n",
              "      <td>None</td>\n",
              "      <td>NaT</td>\n",
              "      <td>None</td>\n",
              "      <td>None</td>\n",
              "      <td>None</td>\n",
              "      <td>None</td>\n",
              "      <td>None</td>\n",
              "      <td>None</td>\n",
              "      <td>None</td>\n",
              "      <td>None</td>\n",
              "      <td>None</td>\n",
              "      <td>NaN</td>\n",
              "      <td>NaN</td>\n",
              "      <td>None</td>\n",
              "      <td>None</td>\n",
              "      <td>None</td>\n",
              "      <td>New York, United States</td>\n",
              "      <td>West Village</td>\n",
              "      <td>Manhattan</td>\n",
              "      <td>40.73221</td>\n",
              "      <td>-74.00928</td>\n",
              "      <td>Entire townhouse</td>\n",
              "      <td>Entire home/apt</td>\n",
              "      <td>5</td>\n",
              "      <td>None</td>\n",
              "      <td>2 baths</td>\n",
              "      <td>3.0</td>\n",
              "      <td>3.0</td>\n",
              "      <td>[\"Laptop-friendly workspace\", \"Stove\", \"Hot wa...</td>\n",
              "      <td>375.0</td>\n",
              "      <td>7</td>\n",
              "      <td>60</td>\n",
              "      <td>7.0</td>\n",
              "      <td>7.0</td>\n",
              "      <td>1125.0</td>\n",
              "      <td>1125.0</td>\n",
              "      <td>7.0</td>\n",
              "      <td>1125.0</td>\n",
              "      <td>None</td>\n",
              "      <td>t</td>\n",
              "      <td>0</td>\n",
              "      <td>0</td>\n",
              "      <td>0</td>\n",
              "      <td>0</td>\n",
              "      <td>2020-10-06</td>\n",
              "      <td>23</td>\n",
              "      <td>4</td>\n",
              "      <td>0</td>\n",
              "      <td>2016-02-09</td>\n",
              "      <td>2020-05-25</td>\n",
              "      <td>95.0</td>\n",
              "      <td>9.0</td>\n",
              "      <td>10.0</td>\n",
              "      <td>10.0</td>\n",
              "      <td>10.0</td>\n",
              "      <td>10.0</td>\n",
              "      <td>10.0</td>\n",
              "      <td>None</td>\n",
              "      <td>f</td>\n",
              "      <td>2</td>\n",
              "      <td>1</td>\n",
              "      <td>1</td>\n",
              "      <td>0</td>\n",
              "      <td>0.41</td>\n",
              "      <td>NYC</td>\n",
              "    </tr>\n",
              "    <tr>\n",
              "      <th>14087</th>\n",
              "      <td>9256325</td>\n",
              "      <td>https://www.airbnb.com/rooms/9256325</td>\n",
              "      <td>2.020100e+13</td>\n",
              "      <td>2020-10-17</td>\n",
              "      <td>Sunset Strip</td>\n",
              "      <td>2 bedroom 2 bath , 2 story house in a Great Lo...</td>\n",
              "      <td>None</td>\n",
              "      <td>https://a0.muscache.com/pictures/ca6a2fa4-94c4...</td>\n",
              "      <td>27660294</td>\n",
              "      <td>https://www.airbnb.com/users/show/27660294</td>\n",
              "      <td>None</td>\n",
              "      <td>NaT</td>\n",
              "      <td>None</td>\n",
              "      <td>None</td>\n",
              "      <td>None</td>\n",
              "      <td>None</td>\n",
              "      <td>None</td>\n",
              "      <td>None</td>\n",
              "      <td>None</td>\n",
              "      <td>None</td>\n",
              "      <td>None</td>\n",
              "      <td>NaN</td>\n",
              "      <td>NaN</td>\n",
              "      <td>None</td>\n",
              "      <td>None</td>\n",
              "      <td>None</td>\n",
              "      <td>None</td>\n",
              "      <td>West Hollywood</td>\n",
              "      <td>Other Cities</td>\n",
              "      <td>34.08982</td>\n",
              "      <td>-118.39170</td>\n",
              "      <td>Entire house</td>\n",
              "      <td>Entire home/apt</td>\n",
              "      <td>5</td>\n",
              "      <td>None</td>\n",
              "      <td>1.5 baths</td>\n",
              "      <td>2.0</td>\n",
              "      <td>2.0</td>\n",
              "      <td>[\"Fire extinguisher\", \"Carbon monoxide alarm\",...</td>\n",
              "      <td>225.0</td>\n",
              "      <td>1</td>\n",
              "      <td>31</td>\n",
              "      <td>1.0</td>\n",
              "      <td>2.0</td>\n",
              "      <td>31.0</td>\n",
              "      <td>31.0</td>\n",
              "      <td>1.0</td>\n",
              "      <td>31.0</td>\n",
              "      <td>None</td>\n",
              "      <td>t</td>\n",
              "      <td>0</td>\n",
              "      <td>0</td>\n",
              "      <td>0</td>\n",
              "      <td>0</td>\n",
              "      <td>2020-10-17</td>\n",
              "      <td>0</td>\n",
              "      <td>0</td>\n",
              "      <td>0</td>\n",
              "      <td>NaT</td>\n",
              "      <td>NaT</td>\n",
              "      <td>NaN</td>\n",
              "      <td>NaN</td>\n",
              "      <td>NaN</td>\n",
              "      <td>NaN</td>\n",
              "      <td>NaN</td>\n",
              "      <td>NaN</td>\n",
              "      <td>NaN</td>\n",
              "      <td>None</td>\n",
              "      <td>f</td>\n",
              "      <td>2</td>\n",
              "      <td>1</td>\n",
              "      <td>1</td>\n",
              "      <td>0</td>\n",
              "      <td>NaN</td>\n",
              "      <td>LA</td>\n",
              "    </tr>\n",
              "    <tr>\n",
              "      <th>15606</th>\n",
              "      <td>10034835</td>\n",
              "      <td>https://www.airbnb.com/rooms/10034835</td>\n",
              "      <td>2.020100e+13</td>\n",
              "      <td>2020-10-17</td>\n",
              "      <td>Large private bedroom in Palms</td>\n",
              "      <td>Cozy private bedroom in a 2 Bedroom/2Bathroom ...</td>\n",
              "      <td>None</td>\n",
              "      <td>https://a0.muscache.com/pictures/03b70113-c47f...</td>\n",
              "      <td>23571738</td>\n",
              "      <td>https://www.airbnb.com/users/show/23571738</td>\n",
              "      <td>None</td>\n",
              "      <td>NaT</td>\n",
              "      <td>None</td>\n",
              "      <td>None</td>\n",
              "      <td>None</td>\n",
              "      <td>None</td>\n",
              "      <td>None</td>\n",
              "      <td>None</td>\n",
              "      <td>None</td>\n",
              "      <td>None</td>\n",
              "      <td>None</td>\n",
              "      <td>NaN</td>\n",
              "      <td>NaN</td>\n",
              "      <td>None</td>\n",
              "      <td>None</td>\n",
              "      <td>None</td>\n",
              "      <td>None</td>\n",
              "      <td>Palms</td>\n",
              "      <td>City of Los Angeles</td>\n",
              "      <td>34.03038</td>\n",
              "      <td>-118.41465</td>\n",
              "      <td>Private room in apartment</td>\n",
              "      <td>Private room</td>\n",
              "      <td>3</td>\n",
              "      <td>None</td>\n",
              "      <td>1 bath</td>\n",
              "      <td>1.0</td>\n",
              "      <td>1.0</td>\n",
              "      <td>[\"Hangers\", \"Pool\", \"Carbon monoxide alarm\", \"...</td>\n",
              "      <td>41.0</td>\n",
              "      <td>30</td>\n",
              "      <td>1125</td>\n",
              "      <td>30.0</td>\n",
              "      <td>30.0</td>\n",
              "      <td>1125.0</td>\n",
              "      <td>1125.0</td>\n",
              "      <td>30.0</td>\n",
              "      <td>1125.0</td>\n",
              "      <td>None</td>\n",
              "      <td>t</td>\n",
              "      <td>0</td>\n",
              "      <td>0</td>\n",
              "      <td>0</td>\n",
              "      <td>0</td>\n",
              "      <td>2020-10-17</td>\n",
              "      <td>2</td>\n",
              "      <td>0</td>\n",
              "      <td>0</td>\n",
              "      <td>2015-12-18</td>\n",
              "      <td>2015-12-19</td>\n",
              "      <td>NaN</td>\n",
              "      <td>NaN</td>\n",
              "      <td>NaN</td>\n",
              "      <td>NaN</td>\n",
              "      <td>NaN</td>\n",
              "      <td>NaN</td>\n",
              "      <td>NaN</td>\n",
              "      <td>None</td>\n",
              "      <td>f</td>\n",
              "      <td>1</td>\n",
              "      <td>0</td>\n",
              "      <td>1</td>\n",
              "      <td>0</td>\n",
              "      <td>0.03</td>\n",
              "      <td>LA</td>\n",
              "    </tr>\n",
              "    <tr>\n",
              "      <th>17910</th>\n",
              "      <td>12114017</td>\n",
              "      <td>https://www.airbnb.com/rooms/12114017</td>\n",
              "      <td>2.020100e+13</td>\n",
              "      <td>2020-10-08</td>\n",
              "      <td>SoBro Guest House</td>\n",
              "      <td>The guest house is nestled in the heart of Mot...</td>\n",
              "      <td>Built in 1889 by architect and builder William...</td>\n",
              "      <td>https://a0.muscache.com/pictures/65f66a2a-144c...</td>\n",
              "      <td>64976141</td>\n",
              "      <td>https://www.airbnb.com/users/show/64976141</td>\n",
              "      <td>None</td>\n",
              "      <td>NaT</td>\n",
              "      <td>None</td>\n",
              "      <td>None</td>\n",
              "      <td>None</td>\n",
              "      <td>None</td>\n",
              "      <td>None</td>\n",
              "      <td>None</td>\n",
              "      <td>None</td>\n",
              "      <td>None</td>\n",
              "      <td>None</td>\n",
              "      <td>NaN</td>\n",
              "      <td>NaN</td>\n",
              "      <td>None</td>\n",
              "      <td>None</td>\n",
              "      <td>None</td>\n",
              "      <td>Bronx, New York, United States</td>\n",
              "      <td>Mott Haven</td>\n",
              "      <td>Bronx</td>\n",
              "      <td>40.80903</td>\n",
              "      <td>-73.92143</td>\n",
              "      <td>Entire townhouse</td>\n",
              "      <td>Entire home/apt</td>\n",
              "      <td>5</td>\n",
              "      <td>None</td>\n",
              "      <td>1 bath</td>\n",
              "      <td>1.0</td>\n",
              "      <td>3.0</td>\n",
              "      <td>[\"Private entrance\", \"Hot water\", \"Stove\", \"Ex...</td>\n",
              "      <td>129.0</td>\n",
              "      <td>3</td>\n",
              "      <td>30</td>\n",
              "      <td>3.0</td>\n",
              "      <td>3.0</td>\n",
              "      <td>30.0</td>\n",
              "      <td>30.0</td>\n",
              "      <td>3.0</td>\n",
              "      <td>30.0</td>\n",
              "      <td>None</td>\n",
              "      <td>t</td>\n",
              "      <td>6</td>\n",
              "      <td>36</td>\n",
              "      <td>63</td>\n",
              "      <td>331</td>\n",
              "      <td>2020-10-08</td>\n",
              "      <td>164</td>\n",
              "      <td>12</td>\n",
              "      <td>0</td>\n",
              "      <td>2016-04-10</td>\n",
              "      <td>2020-03-20</td>\n",
              "      <td>95.0</td>\n",
              "      <td>10.0</td>\n",
              "      <td>10.0</td>\n",
              "      <td>10.0</td>\n",
              "      <td>10.0</td>\n",
              "      <td>9.0</td>\n",
              "      <td>10.0</td>\n",
              "      <td>None</td>\n",
              "      <td>t</td>\n",
              "      <td>1</td>\n",
              "      <td>1</td>\n",
              "      <td>0</td>\n",
              "      <td>0</td>\n",
              "      <td>2.99</td>\n",
              "      <td>NYC</td>\n",
              "    </tr>\n",
              "    <tr>\n",
              "      <th>23021</th>\n",
              "      <td>15494796</td>\n",
              "      <td>https://www.airbnb.com/rooms/15494796</td>\n",
              "      <td>2.020100e+13</td>\n",
              "      <td>2020-10-06</td>\n",
              "      <td>Private Guest Room in Charming West Village Du...</td>\n",
              "      <td>Private guest room in second floor of a spacio...</td>\n",
              "      <td>Nestled in the most western pocket of the West...</td>\n",
              "      <td>https://a0.muscache.com/pictures/78d79d47-8a0e...</td>\n",
              "      <td>390117</td>\n",
              "      <td>https://www.airbnb.com/users/show/390117</td>\n",
              "      <td>None</td>\n",
              "      <td>NaT</td>\n",
              "      <td>None</td>\n",
              "      <td>None</td>\n",
              "      <td>None</td>\n",
              "      <td>None</td>\n",
              "      <td>None</td>\n",
              "      <td>None</td>\n",
              "      <td>None</td>\n",
              "      <td>None</td>\n",
              "      <td>None</td>\n",
              "      <td>NaN</td>\n",
              "      <td>NaN</td>\n",
              "      <td>None</td>\n",
              "      <td>None</td>\n",
              "      <td>None</td>\n",
              "      <td>New York, United States</td>\n",
              "      <td>West Village</td>\n",
              "      <td>Manhattan</td>\n",
              "      <td>40.73142</td>\n",
              "      <td>-74.01000</td>\n",
              "      <td>Private room in apartment</td>\n",
              "      <td>Private room</td>\n",
              "      <td>2</td>\n",
              "      <td>None</td>\n",
              "      <td>2 shared baths</td>\n",
              "      <td>1.0</td>\n",
              "      <td>1.0</td>\n",
              "      <td>[\"Laptop-friendly workspace\", \"Stove\", \"Hot wa...</td>\n",
              "      <td>100.0</td>\n",
              "      <td>1</td>\n",
              "      <td>1125</td>\n",
              "      <td>1.0</td>\n",
              "      <td>1.0</td>\n",
              "      <td>1125.0</td>\n",
              "      <td>1125.0</td>\n",
              "      <td>1.0</td>\n",
              "      <td>1125.0</td>\n",
              "      <td>None</td>\n",
              "      <td>t</td>\n",
              "      <td>0</td>\n",
              "      <td>0</td>\n",
              "      <td>0</td>\n",
              "      <td>0</td>\n",
              "      <td>2020-10-06</td>\n",
              "      <td>8</td>\n",
              "      <td>0</td>\n",
              "      <td>0</td>\n",
              "      <td>2016-10-24</td>\n",
              "      <td>2019-04-28</td>\n",
              "      <td>95.0</td>\n",
              "      <td>10.0</td>\n",
              "      <td>10.0</td>\n",
              "      <td>10.0</td>\n",
              "      <td>10.0</td>\n",
              "      <td>10.0</td>\n",
              "      <td>10.0</td>\n",
              "      <td>None</td>\n",
              "      <td>f</td>\n",
              "      <td>2</td>\n",
              "      <td>1</td>\n",
              "      <td>1</td>\n",
              "      <td>0</td>\n",
              "      <td>0.17</td>\n",
              "      <td>NYC</td>\n",
              "    </tr>\n",
              "    <tr>\n",
              "      <th>30323</th>\n",
              "      <td>20414705</td>\n",
              "      <td>https://www.airbnb.com/rooms/20414705</td>\n",
              "      <td>2.020100e+13</td>\n",
              "      <td>2020-10-24</td>\n",
              "      <td>NBA Private House</td>\n",
              "      <td>2 Bedroom 1 bath, Private house with private yard</td>\n",
              "      <td>None</td>\n",
              "      <td>https://a0.muscache.com/pictures/ad83af4a-8876...</td>\n",
              "      <td>27660294</td>\n",
              "      <td>https://www.airbnb.com/users/show/27660294</td>\n",
              "      <td>None</td>\n",
              "      <td>NaT</td>\n",
              "      <td>None</td>\n",
              "      <td>None</td>\n",
              "      <td>None</td>\n",
              "      <td>None</td>\n",
              "      <td>None</td>\n",
              "      <td>None</td>\n",
              "      <td>None</td>\n",
              "      <td>None</td>\n",
              "      <td>None</td>\n",
              "      <td>NaN</td>\n",
              "      <td>NaN</td>\n",
              "      <td>None</td>\n",
              "      <td>None</td>\n",
              "      <td>None</td>\n",
              "      <td>None</td>\n",
              "      <td>West Hollywood</td>\n",
              "      <td>Other Cities</td>\n",
              "      <td>34.09010</td>\n",
              "      <td>-118.38972</td>\n",
              "      <td>Private room in house</td>\n",
              "      <td>Private room</td>\n",
              "      <td>3</td>\n",
              "      <td>None</td>\n",
              "      <td>1 private bath</td>\n",
              "      <td>2.0</td>\n",
              "      <td>2.0</td>\n",
              "      <td>[\"Shampoo\", \"Washer\", \"Private entrance\", \"Lap...</td>\n",
              "      <td>229.0</td>\n",
              "      <td>229</td>\n",
              "      <td>249</td>\n",
              "      <td>229.0</td>\n",
              "      <td>229.0</td>\n",
              "      <td>249.0</td>\n",
              "      <td>249.0</td>\n",
              "      <td>229.0</td>\n",
              "      <td>249.0</td>\n",
              "      <td>None</td>\n",
              "      <td>t</td>\n",
              "      <td>29</td>\n",
              "      <td>59</td>\n",
              "      <td>89</td>\n",
              "      <td>364</td>\n",
              "      <td>2020-10-24</td>\n",
              "      <td>0</td>\n",
              "      <td>0</td>\n",
              "      <td>0</td>\n",
              "      <td>NaT</td>\n",
              "      <td>NaT</td>\n",
              "      <td>NaN</td>\n",
              "      <td>NaN</td>\n",
              "      <td>NaN</td>\n",
              "      <td>NaN</td>\n",
              "      <td>NaN</td>\n",
              "      <td>NaN</td>\n",
              "      <td>NaN</td>\n",
              "      <td>None</td>\n",
              "      <td>f</td>\n",
              "      <td>2</td>\n",
              "      <td>1</td>\n",
              "      <td>1</td>\n",
              "      <td>0</td>\n",
              "      <td>NaN</td>\n",
              "      <td>LA</td>\n",
              "    </tr>\n",
              "    <tr>\n",
              "      <th>34756</th>\n",
              "      <td>22472801</td>\n",
              "      <td>https://www.airbnb.com/rooms/22472801</td>\n",
              "      <td>2.020100e+13</td>\n",
              "      <td>2020-10-09</td>\n",
              "      <td>Jardín D’ La Rosa: Lux Comfort for 8</td>\n",
              "      <td>Enjoy your luxury stay in this Stunning Renova...</td>\n",
              "      <td>Howard Beach is very quiet neighborhood in New...</td>\n",
              "      <td>https://a0.muscache.com/pictures/8329a151-42f4...</td>\n",
              "      <td>164750816</td>\n",
              "      <td>https://www.airbnb.com/users/show/164750816</td>\n",
              "      <td>None</td>\n",
              "      <td>NaT</td>\n",
              "      <td>None</td>\n",
              "      <td>None</td>\n",
              "      <td>None</td>\n",
              "      <td>None</td>\n",
              "      <td>None</td>\n",
              "      <td>None</td>\n",
              "      <td>None</td>\n",
              "      <td>None</td>\n",
              "      <td>None</td>\n",
              "      <td>NaN</td>\n",
              "      <td>NaN</td>\n",
              "      <td>None</td>\n",
              "      <td>None</td>\n",
              "      <td>None</td>\n",
              "      <td>Queens, New York, United States</td>\n",
              "      <td>Howard Beach</td>\n",
              "      <td>Queens</td>\n",
              "      <td>40.66259</td>\n",
              "      <td>-73.84176</td>\n",
              "      <td>Entire house</td>\n",
              "      <td>Entire home/apt</td>\n",
              "      <td>8</td>\n",
              "      <td>None</td>\n",
              "      <td>1.5 baths</td>\n",
              "      <td>3.0</td>\n",
              "      <td>6.0</td>\n",
              "      <td>[\"Private entrance\", \"Hot water\", \"Stove\", \"Fr...</td>\n",
              "      <td>300.0</td>\n",
              "      <td>2</td>\n",
              "      <td>13</td>\n",
              "      <td>2.0</td>\n",
              "      <td>2.0</td>\n",
              "      <td>13.0</td>\n",
              "      <td>13.0</td>\n",
              "      <td>2.0</td>\n",
              "      <td>13.0</td>\n",
              "      <td>None</td>\n",
              "      <td>t</td>\n",
              "      <td>18</td>\n",
              "      <td>48</td>\n",
              "      <td>78</td>\n",
              "      <td>78</td>\n",
              "      <td>2020-10-09</td>\n",
              "      <td>113</td>\n",
              "      <td>20</td>\n",
              "      <td>0</td>\n",
              "      <td>2017-12-30</td>\n",
              "      <td>2020-09-06</td>\n",
              "      <td>95.0</td>\n",
              "      <td>10.0</td>\n",
              "      <td>9.0</td>\n",
              "      <td>10.0</td>\n",
              "      <td>9.0</td>\n",
              "      <td>10.0</td>\n",
              "      <td>10.0</td>\n",
              "      <td>None</td>\n",
              "      <td>t</td>\n",
              "      <td>1</td>\n",
              "      <td>1</td>\n",
              "      <td>0</td>\n",
              "      <td>0</td>\n",
              "      <td>3.34</td>\n",
              "      <td>NYC</td>\n",
              "    </tr>\n",
              "    <tr>\n",
              "      <th>34869</th>\n",
              "      <td>22545850</td>\n",
              "      <td>https://www.airbnb.com/rooms/22545850</td>\n",
              "      <td>2.020100e+13</td>\n",
              "      <td>2020-10-10</td>\n",
              "      <td>Bedroom for two in Clinton Hill</td>\n",
              "      <td>This is a good-sized bedroom on the lower leve...</td>\n",
              "      <td>2 blocks from the Classon G train stop. 1 bloc...</td>\n",
              "      <td>https://a0.muscache.com/pictures/d4061d77-1e32...</td>\n",
              "      <td>43914397</td>\n",
              "      <td>https://www.airbnb.com/users/show/43914397</td>\n",
              "      <td>None</td>\n",
              "      <td>NaT</td>\n",
              "      <td>None</td>\n",
              "      <td>None</td>\n",
              "      <td>None</td>\n",
              "      <td>None</td>\n",
              "      <td>None</td>\n",
              "      <td>None</td>\n",
              "      <td>None</td>\n",
              "      <td>None</td>\n",
              "      <td>None</td>\n",
              "      <td>NaN</td>\n",
              "      <td>NaN</td>\n",
              "      <td>None</td>\n",
              "      <td>None</td>\n",
              "      <td>None</td>\n",
              "      <td>Brooklyn, New York, United States</td>\n",
              "      <td>Bedford-Stuyvesant</td>\n",
              "      <td>Brooklyn</td>\n",
              "      <td>40.69207</td>\n",
              "      <td>-73.96021</td>\n",
              "      <td>Private room in apartment</td>\n",
              "      <td>Private room</td>\n",
              "      <td>2</td>\n",
              "      <td>None</td>\n",
              "      <td>1 shared bath</td>\n",
              "      <td>1.0</td>\n",
              "      <td>1.0</td>\n",
              "      <td>[\"Carbon monoxide alarm\", \"Free street parking...</td>\n",
              "      <td>50.0</td>\n",
              "      <td>5</td>\n",
              "      <td>19</td>\n",
              "      <td>5.0</td>\n",
              "      <td>5.0</td>\n",
              "      <td>19.0</td>\n",
              "      <td>19.0</td>\n",
              "      <td>5.0</td>\n",
              "      <td>19.0</td>\n",
              "      <td>None</td>\n",
              "      <td>t</td>\n",
              "      <td>0</td>\n",
              "      <td>0</td>\n",
              "      <td>0</td>\n",
              "      <td>0</td>\n",
              "      <td>2020-10-10</td>\n",
              "      <td>3</td>\n",
              "      <td>0</td>\n",
              "      <td>0</td>\n",
              "      <td>2018-11-01</td>\n",
              "      <td>2018-11-25</td>\n",
              "      <td>87.0</td>\n",
              "      <td>9.0</td>\n",
              "      <td>7.0</td>\n",
              "      <td>10.0</td>\n",
              "      <td>10.0</td>\n",
              "      <td>9.0</td>\n",
              "      <td>9.0</td>\n",
              "      <td>None</td>\n",
              "      <td>f</td>\n",
              "      <td>1</td>\n",
              "      <td>0</td>\n",
              "      <td>1</td>\n",
              "      <td>0</td>\n",
              "      <td>0.13</td>\n",
              "      <td>NYC</td>\n",
              "    </tr>\n",
              "    <tr>\n",
              "      <th>37348</th>\n",
              "      <td>24304179</td>\n",
              "      <td>https://www.airbnb.com/rooms/24304179</td>\n",
              "      <td>2.020100e+13</td>\n",
              "      <td>2020-10-11</td>\n",
              "      <td>Hillside Bungalow + Patio &amp; Parking hills of UCLA</td>\n",
              "      <td>Private bungalow in a duplex in the hillside o...</td>\n",
              "      <td>Walking distance to Beverly Glen Store (no sid...</td>\n",
              "      <td>https://a0.muscache.com/pictures/d43b8449-8140...</td>\n",
              "      <td>5112516</td>\n",
              "      <td>https://www.airbnb.com/users/show/5112516</td>\n",
              "      <td>None</td>\n",
              "      <td>NaT</td>\n",
              "      <td>None</td>\n",
              "      <td>None</td>\n",
              "      <td>None</td>\n",
              "      <td>None</td>\n",
              "      <td>None</td>\n",
              "      <td>None</td>\n",
              "      <td>None</td>\n",
              "      <td>None</td>\n",
              "      <td>None</td>\n",
              "      <td>NaN</td>\n",
              "      <td>NaN</td>\n",
              "      <td>None</td>\n",
              "      <td>None</td>\n",
              "      <td>None</td>\n",
              "      <td>Los Angeles, California, United States</td>\n",
              "      <td>Beverly Crest</td>\n",
              "      <td>City of Los Angeles</td>\n",
              "      <td>34.10544</td>\n",
              "      <td>-118.44618</td>\n",
              "      <td>Entire bungalow</td>\n",
              "      <td>Entire home/apt</td>\n",
              "      <td>2</td>\n",
              "      <td>None</td>\n",
              "      <td>1 bath</td>\n",
              "      <td>1.0</td>\n",
              "      <td>1.0</td>\n",
              "      <td>[\"Bed linens\", \"Pocket wifi\", \"Essentials\", \"P...</td>\n",
              "      <td>145.0</td>\n",
              "      <td>30</td>\n",
              "      <td>1125</td>\n",
              "      <td>30.0</td>\n",
              "      <td>30.0</td>\n",
              "      <td>1125.0</td>\n",
              "      <td>1125.0</td>\n",
              "      <td>30.0</td>\n",
              "      <td>1125.0</td>\n",
              "      <td>None</td>\n",
              "      <td>t</td>\n",
              "      <td>30</td>\n",
              "      <td>60</td>\n",
              "      <td>90</td>\n",
              "      <td>365</td>\n",
              "      <td>2020-10-11</td>\n",
              "      <td>50</td>\n",
              "      <td>1</td>\n",
              "      <td>0</td>\n",
              "      <td>2018-04-15</td>\n",
              "      <td>2019-10-16</td>\n",
              "      <td>96.0</td>\n",
              "      <td>10.0</td>\n",
              "      <td>10.0</td>\n",
              "      <td>10.0</td>\n",
              "      <td>10.0</td>\n",
              "      <td>10.0</td>\n",
              "      <td>9.0</td>\n",
              "      <td>None</td>\n",
              "      <td>t</td>\n",
              "      <td>1</td>\n",
              "      <td>1</td>\n",
              "      <td>0</td>\n",
              "      <td>0</td>\n",
              "      <td>1.65</td>\n",
              "      <td>LA</td>\n",
              "    </tr>\n",
              "    <tr>\n",
              "      <th>37746</th>\n",
              "      <td>24601752</td>\n",
              "      <td>https://www.airbnb.com/rooms/24601752</td>\n",
              "      <td>2.020100e+13</td>\n",
              "      <td>2020-10-08</td>\n",
              "      <td>Heaven in New York, Natural Room</td>\n",
              "      <td>1 bedroom rental (each bedroom is $65 per nigh...</td>\n",
              "      <td>Family orientated, middle class neighborhood. ...</td>\n",
              "      <td>https://a0.muscache.com/pictures/ec4e8043-1d8f...</td>\n",
              "      <td>185908506</td>\n",
              "      <td>https://www.airbnb.com/users/show/185908506</td>\n",
              "      <td>None</td>\n",
              "      <td>NaT</td>\n",
              "      <td>None</td>\n",
              "      <td>None</td>\n",
              "      <td>None</td>\n",
              "      <td>None</td>\n",
              "      <td>None</td>\n",
              "      <td>None</td>\n",
              "      <td>None</td>\n",
              "      <td>None</td>\n",
              "      <td>None</td>\n",
              "      <td>NaN</td>\n",
              "      <td>NaN</td>\n",
              "      <td>None</td>\n",
              "      <td>None</td>\n",
              "      <td>None</td>\n",
              "      <td>Bronx, New York, United States</td>\n",
              "      <td>Edenwald</td>\n",
              "      <td>Bronx</td>\n",
              "      <td>40.88634</td>\n",
              "      <td>-73.83431</td>\n",
              "      <td>Private room in apartment</td>\n",
              "      <td>Private room</td>\n",
              "      <td>2</td>\n",
              "      <td>None</td>\n",
              "      <td>1 shared bath</td>\n",
              "      <td>1.0</td>\n",
              "      <td>1.0</td>\n",
              "      <td>[\"Wifi\", \"Dryer\", \"Hangers\", \"Air conditioning...</td>\n",
              "      <td>91.0</td>\n",
              "      <td>3</td>\n",
              "      <td>31</td>\n",
              "      <td>3.0</td>\n",
              "      <td>3.0</td>\n",
              "      <td>31.0</td>\n",
              "      <td>31.0</td>\n",
              "      <td>3.0</td>\n",
              "      <td>31.0</td>\n",
              "      <td>None</td>\n",
              "      <td>t</td>\n",
              "      <td>30</td>\n",
              "      <td>60</td>\n",
              "      <td>90</td>\n",
              "      <td>180</td>\n",
              "      <td>2020-10-08</td>\n",
              "      <td>20</td>\n",
              "      <td>1</td>\n",
              "      <td>0</td>\n",
              "      <td>2018-07-07</td>\n",
              "      <td>2019-10-15</td>\n",
              "      <td>94.0</td>\n",
              "      <td>10.0</td>\n",
              "      <td>10.0</td>\n",
              "      <td>10.0</td>\n",
              "      <td>9.0</td>\n",
              "      <td>9.0</td>\n",
              "      <td>9.0</td>\n",
              "      <td>None</td>\n",
              "      <td>t</td>\n",
              "      <td>3</td>\n",
              "      <td>1</td>\n",
              "      <td>2</td>\n",
              "      <td>0</td>\n",
              "      <td>0.73</td>\n",
              "      <td>NYC</td>\n",
              "    </tr>\n",
              "    <tr>\n",
              "      <th>38319</th>\n",
              "      <td>25048250</td>\n",
              "      <td>https://www.airbnb.com/rooms/25048250</td>\n",
              "      <td>2.020100e+13</td>\n",
              "      <td>2020-10-08</td>\n",
              "      <td>Private Bedroom in large 2 bedroom 1100sf apt</td>\n",
              "      <td>Amazing 2 bedroom, 1100sf apartment w/ hardwoo...</td>\n",
              "      <td>Even though Prospect Heights is steeped in old...</td>\n",
              "      <td>https://a0.muscache.com/pictures/6110d9a3-32d8...</td>\n",
              "      <td>4426009</td>\n",
              "      <td>https://www.airbnb.com/users/show/4426009</td>\n",
              "      <td>None</td>\n",
              "      <td>NaT</td>\n",
              "      <td>None</td>\n",
              "      <td>None</td>\n",
              "      <td>None</td>\n",
              "      <td>None</td>\n",
              "      <td>None</td>\n",
              "      <td>None</td>\n",
              "      <td>None</td>\n",
              "      <td>None</td>\n",
              "      <td>None</td>\n",
              "      <td>NaN</td>\n",
              "      <td>NaN</td>\n",
              "      <td>None</td>\n",
              "      <td>None</td>\n",
              "      <td>None</td>\n",
              "      <td>Brooklyn, New York, United States</td>\n",
              "      <td>Prospect Heights</td>\n",
              "      <td>Brooklyn</td>\n",
              "      <td>40.67757</td>\n",
              "      <td>-73.97017</td>\n",
              "      <td>Private room in apartment</td>\n",
              "      <td>Private room</td>\n",
              "      <td>2</td>\n",
              "      <td>None</td>\n",
              "      <td>1 shared bath</td>\n",
              "      <td>1.0</td>\n",
              "      <td>1.0</td>\n",
              "      <td>[\"Hot water\", \"Stove\", \"Smoke alarm\", \"Laptop-...</td>\n",
              "      <td>70.0</td>\n",
              "      <td>1</td>\n",
              "      <td>28</td>\n",
              "      <td>1.0</td>\n",
              "      <td>1.0</td>\n",
              "      <td>28.0</td>\n",
              "      <td>28.0</td>\n",
              "      <td>1.0</td>\n",
              "      <td>28.0</td>\n",
              "      <td>None</td>\n",
              "      <td>t</td>\n",
              "      <td>30</td>\n",
              "      <td>60</td>\n",
              "      <td>90</td>\n",
              "      <td>179</td>\n",
              "      <td>2020-10-08</td>\n",
              "      <td>63</td>\n",
              "      <td>7</td>\n",
              "      <td>1</td>\n",
              "      <td>2018-05-17</td>\n",
              "      <td>2020-09-20</td>\n",
              "      <td>93.0</td>\n",
              "      <td>9.0</td>\n",
              "      <td>9.0</td>\n",
              "      <td>10.0</td>\n",
              "      <td>10.0</td>\n",
              "      <td>10.0</td>\n",
              "      <td>9.0</td>\n",
              "      <td>None</td>\n",
              "      <td>f</td>\n",
              "      <td>1</td>\n",
              "      <td>0</td>\n",
              "      <td>1</td>\n",
              "      <td>0</td>\n",
              "      <td>2.16</td>\n",
              "      <td>NYC</td>\n",
              "    </tr>\n",
              "    <tr>\n",
              "      <th>39810</th>\n",
              "      <td>26338897</td>\n",
              "      <td>https://www.airbnb.com/rooms/26338897</td>\n",
              "      <td>2.020100e+13</td>\n",
              "      <td>2020-10-10</td>\n",
              "      <td>Contemporary Brooklyn living 20 min from Manha...</td>\n",
              "      <td>This is a rare, spacious 2 bedroom duplex apar...</td>\n",
              "      <td>Fort Greene, Brooklyn, is a wonderful neighbor...</td>\n",
              "      <td>https://a0.muscache.com/pictures/9ebd5a30-c885...</td>\n",
              "      <td>2594243</td>\n",
              "      <td>https://www.airbnb.com/users/show/2594243</td>\n",
              "      <td>None</td>\n",
              "      <td>NaT</td>\n",
              "      <td>None</td>\n",
              "      <td>None</td>\n",
              "      <td>None</td>\n",
              "      <td>None</td>\n",
              "      <td>None</td>\n",
              "      <td>None</td>\n",
              "      <td>None</td>\n",
              "      <td>None</td>\n",
              "      <td>None</td>\n",
              "      <td>NaN</td>\n",
              "      <td>NaN</td>\n",
              "      <td>None</td>\n",
              "      <td>None</td>\n",
              "      <td>None</td>\n",
              "      <td>Brooklyn, New York, United States</td>\n",
              "      <td>Fort Greene</td>\n",
              "      <td>Brooklyn</td>\n",
              "      <td>40.68664</td>\n",
              "      <td>-73.97683</td>\n",
              "      <td>Entire apartment</td>\n",
              "      <td>Entire home/apt</td>\n",
              "      <td>4</td>\n",
              "      <td>None</td>\n",
              "      <td>1 bath</td>\n",
              "      <td>2.0</td>\n",
              "      <td>2.0</td>\n",
              "      <td>[\"Carbon monoxide alarm\", \"Luggage dropoff all...</td>\n",
              "      <td>190.0</td>\n",
              "      <td>5</td>\n",
              "      <td>1125</td>\n",
              "      <td>5.0</td>\n",
              "      <td>5.0</td>\n",
              "      <td>1125.0</td>\n",
              "      <td>1125.0</td>\n",
              "      <td>5.0</td>\n",
              "      <td>1125.0</td>\n",
              "      <td>None</td>\n",
              "      <td>t</td>\n",
              "      <td>0</td>\n",
              "      <td>0</td>\n",
              "      <td>0</td>\n",
              "      <td>0</td>\n",
              "      <td>2020-10-10</td>\n",
              "      <td>2</td>\n",
              "      <td>0</td>\n",
              "      <td>0</td>\n",
              "      <td>2018-09-04</td>\n",
              "      <td>2018-10-28</td>\n",
              "      <td>100.0</td>\n",
              "      <td>10.0</td>\n",
              "      <td>10.0</td>\n",
              "      <td>10.0</td>\n",
              "      <td>10.0</td>\n",
              "      <td>10.0</td>\n",
              "      <td>10.0</td>\n",
              "      <td>None</td>\n",
              "      <td>f</td>\n",
              "      <td>1</td>\n",
              "      <td>1</td>\n",
              "      <td>0</td>\n",
              "      <td>0</td>\n",
              "      <td>0.08</td>\n",
              "      <td>NYC</td>\n",
              "    </tr>\n",
              "    <tr>\n",
              "      <th>40700</th>\n",
              "      <td>27086130</td>\n",
              "      <td>https://www.airbnb.com/rooms/27086130</td>\n",
              "      <td>2.020100e+13</td>\n",
              "      <td>2020-10-08</td>\n",
              "      <td>Heaven in New York, Suite</td>\n",
              "      <td>Pleasant, quiet residential area.  Studio suit...</td>\n",
              "      <td>Family orientated, middle class neighborhood. ...</td>\n",
              "      <td>https://a0.muscache.com/pictures/4b5a3c71-ef83...</td>\n",
              "      <td>185908506</td>\n",
              "      <td>https://www.airbnb.com/users/show/185908506</td>\n",
              "      <td>None</td>\n",
              "      <td>NaT</td>\n",
              "      <td>None</td>\n",
              "      <td>None</td>\n",
              "      <td>None</td>\n",
              "      <td>None</td>\n",
              "      <td>None</td>\n",
              "      <td>None</td>\n",
              "      <td>None</td>\n",
              "      <td>None</td>\n",
              "      <td>None</td>\n",
              "      <td>NaN</td>\n",
              "      <td>NaN</td>\n",
              "      <td>None</td>\n",
              "      <td>None</td>\n",
              "      <td>None</td>\n",
              "      <td>Bronx, New York, United States</td>\n",
              "      <td>Edenwald</td>\n",
              "      <td>Bronx</td>\n",
              "      <td>40.88590</td>\n",
              "      <td>-73.83517</td>\n",
              "      <td>Entire guest suite</td>\n",
              "      <td>Entire home/apt</td>\n",
              "      <td>1</td>\n",
              "      <td>None</td>\n",
              "      <td>0 baths</td>\n",
              "      <td>1.0</td>\n",
              "      <td>1.0</td>\n",
              "      <td>[\"Wifi\", \"Hangers\", \"Air conditioning\", \"Priva...</td>\n",
              "      <td>91.0</td>\n",
              "      <td>3</td>\n",
              "      <td>31</td>\n",
              "      <td>3.0</td>\n",
              "      <td>3.0</td>\n",
              "      <td>31.0</td>\n",
              "      <td>31.0</td>\n",
              "      <td>3.0</td>\n",
              "      <td>31.0</td>\n",
              "      <td>None</td>\n",
              "      <td>t</td>\n",
              "      <td>30</td>\n",
              "      <td>60</td>\n",
              "      <td>90</td>\n",
              "      <td>365</td>\n",
              "      <td>2020-10-08</td>\n",
              "      <td>5</td>\n",
              "      <td>0</td>\n",
              "      <td>0</td>\n",
              "      <td>2018-11-26</td>\n",
              "      <td>2019-05-31</td>\n",
              "      <td>100.0</td>\n",
              "      <td>10.0</td>\n",
              "      <td>10.0</td>\n",
              "      <td>10.0</td>\n",
              "      <td>10.0</td>\n",
              "      <td>10.0</td>\n",
              "      <td>9.0</td>\n",
              "      <td>None</td>\n",
              "      <td>t</td>\n",
              "      <td>3</td>\n",
              "      <td>1</td>\n",
              "      <td>2</td>\n",
              "      <td>0</td>\n",
              "      <td>0.22</td>\n",
              "      <td>NYC</td>\n",
              "    </tr>\n",
              "    <tr>\n",
              "      <th>44294</th>\n",
              "      <td>29712188</td>\n",
              "      <td>https://www.airbnb.com/rooms/29712188</td>\n",
              "      <td>2.020100e+13</td>\n",
              "      <td>2020-10-08</td>\n",
              "      <td>Heaven in New York, Orange Room</td>\n",
              "      <td>Beautiful renovated 2 bedroom rental apartment...</td>\n",
              "      <td>None</td>\n",
              "      <td>https://a0.muscache.com/pictures/58620764-0388...</td>\n",
              "      <td>185908506</td>\n",
              "      <td>https://www.airbnb.com/users/show/185908506</td>\n",
              "      <td>None</td>\n",
              "      <td>NaT</td>\n",
              "      <td>None</td>\n",
              "      <td>None</td>\n",
              "      <td>None</td>\n",
              "      <td>None</td>\n",
              "      <td>None</td>\n",
              "      <td>None</td>\n",
              "      <td>None</td>\n",
              "      <td>None</td>\n",
              "      <td>None</td>\n",
              "      <td>NaN</td>\n",
              "      <td>NaN</td>\n",
              "      <td>None</td>\n",
              "      <td>None</td>\n",
              "      <td>None</td>\n",
              "      <td>None</td>\n",
              "      <td>Edenwald</td>\n",
              "      <td>Bronx</td>\n",
              "      <td>40.88500</td>\n",
              "      <td>-73.83518</td>\n",
              "      <td>Private room in apartment</td>\n",
              "      <td>Private room</td>\n",
              "      <td>1</td>\n",
              "      <td>None</td>\n",
              "      <td>1 shared bath</td>\n",
              "      <td>1.0</td>\n",
              "      <td>1.0</td>\n",
              "      <td>[\"Private entrance\", \"Hot water\", \"Stove\", \"Sm...</td>\n",
              "      <td>91.0</td>\n",
              "      <td>3</td>\n",
              "      <td>31</td>\n",
              "      <td>3.0</td>\n",
              "      <td>3.0</td>\n",
              "      <td>31.0</td>\n",
              "      <td>31.0</td>\n",
              "      <td>3.0</td>\n",
              "      <td>31.0</td>\n",
              "      <td>None</td>\n",
              "      <td>t</td>\n",
              "      <td>30</td>\n",
              "      <td>60</td>\n",
              "      <td>90</td>\n",
              "      <td>365</td>\n",
              "      <td>2020-10-08</td>\n",
              "      <td>2</td>\n",
              "      <td>1</td>\n",
              "      <td>0</td>\n",
              "      <td>2018-11-20</td>\n",
              "      <td>2019-12-28</td>\n",
              "      <td>80.0</td>\n",
              "      <td>9.0</td>\n",
              "      <td>8.0</td>\n",
              "      <td>9.0</td>\n",
              "      <td>10.0</td>\n",
              "      <td>9.0</td>\n",
              "      <td>7.0</td>\n",
              "      <td>None</td>\n",
              "      <td>t</td>\n",
              "      <td>3</td>\n",
              "      <td>1</td>\n",
              "      <td>2</td>\n",
              "      <td>0</td>\n",
              "      <td>0.09</td>\n",
              "      <td>NYC</td>\n",
              "    </tr>\n",
              "    <tr>\n",
              "      <th>52086</th>\n",
              "      <td>35029551</td>\n",
              "      <td>https://www.airbnb.com/rooms/35029551</td>\n",
              "      <td>2.020100e+13</td>\n",
              "      <td>2020-10-07</td>\n",
              "      <td>3000 sq. ft. Designer Loft in the heart of NYC</td>\n",
              "      <td>3000 sq.ft modern loft in the heart of Union S...</td>\n",
              "      <td>Our home is located in the heart of Union squa...</td>\n",
              "      <td>https://a0.muscache.com/pictures/7cdd70cf-f0f1...</td>\n",
              "      <td>29001886</td>\n",
              "      <td>https://www.airbnb.com/users/show/29001886</td>\n",
              "      <td>None</td>\n",
              "      <td>NaT</td>\n",
              "      <td>None</td>\n",
              "      <td>None</td>\n",
              "      <td>None</td>\n",
              "      <td>None</td>\n",
              "      <td>None</td>\n",
              "      <td>None</td>\n",
              "      <td>None</td>\n",
              "      <td>None</td>\n",
              "      <td>None</td>\n",
              "      <td>NaN</td>\n",
              "      <td>NaN</td>\n",
              "      <td>None</td>\n",
              "      <td>None</td>\n",
              "      <td>None</td>\n",
              "      <td>New York, United States</td>\n",
              "      <td>East Village</td>\n",
              "      <td>Manhattan</td>\n",
              "      <td>40.73427</td>\n",
              "      <td>-73.98975</td>\n",
              "      <td>Entire apartment</td>\n",
              "      <td>Entire home/apt</td>\n",
              "      <td>6</td>\n",
              "      <td>None</td>\n",
              "      <td>2 baths</td>\n",
              "      <td>3.0</td>\n",
              "      <td>4.0</td>\n",
              "      <td>[\"Private entrance\", \"Hot water\", \"Stove\", \"Sm...</td>\n",
              "      <td>750.0</td>\n",
              "      <td>30</td>\n",
              "      <td>365</td>\n",
              "      <td>30.0</td>\n",
              "      <td>30.0</td>\n",
              "      <td>365.0</td>\n",
              "      <td>365.0</td>\n",
              "      <td>30.0</td>\n",
              "      <td>365.0</td>\n",
              "      <td>None</td>\n",
              "      <td>t</td>\n",
              "      <td>23</td>\n",
              "      <td>53</td>\n",
              "      <td>83</td>\n",
              "      <td>263</td>\n",
              "      <td>2020-10-07</td>\n",
              "      <td>3</td>\n",
              "      <td>1</td>\n",
              "      <td>0</td>\n",
              "      <td>2019-07-20</td>\n",
              "      <td>2019-12-27</td>\n",
              "      <td>100.0</td>\n",
              "      <td>10.0</td>\n",
              "      <td>10.0</td>\n",
              "      <td>10.0</td>\n",
              "      <td>10.0</td>\n",
              "      <td>10.0</td>\n",
              "      <td>10.0</td>\n",
              "      <td>None</td>\n",
              "      <td>f</td>\n",
              "      <td>1</td>\n",
              "      <td>1</td>\n",
              "      <td>0</td>\n",
              "      <td>0</td>\n",
              "      <td>0.20</td>\n",
              "      <td>NYC</td>\n",
              "    </tr>\n",
              "    <tr>\n",
              "      <th>57215</th>\n",
              "      <td>38358017</td>\n",
              "      <td>https://www.airbnb.com/rooms/38358017</td>\n",
              "      <td>2.020100e+13</td>\n",
              "      <td>2020-10-16</td>\n",
              "      <td>Modern Beachfront Guest Suite Hidden Ocean Escape</td>\n",
              "      <td>A small hidden cavern at the edge of the Ocean...</td>\n",
              "      <td>This room is right across the street from the ...</td>\n",
              "      <td>https://a0.muscache.com/pictures/626acb56-10d5...</td>\n",
              "      <td>291648183</td>\n",
              "      <td>https://www.airbnb.com/users/show/291648183</td>\n",
              "      <td>None</td>\n",
              "      <td>NaT</td>\n",
              "      <td>None</td>\n",
              "      <td>None</td>\n",
              "      <td>None</td>\n",
              "      <td>None</td>\n",
              "      <td>None</td>\n",
              "      <td>None</td>\n",
              "      <td>None</td>\n",
              "      <td>None</td>\n",
              "      <td>None</td>\n",
              "      <td>NaN</td>\n",
              "      <td>NaN</td>\n",
              "      <td>None</td>\n",
              "      <td>None</td>\n",
              "      <td>None</td>\n",
              "      <td>Los Angeles, California, United States</td>\n",
              "      <td>Pacific Palisades</td>\n",
              "      <td>City of Los Angeles</td>\n",
              "      <td>34.04226</td>\n",
              "      <td>-118.56309</td>\n",
              "      <td>Entire guest suite</td>\n",
              "      <td>Entire home/apt</td>\n",
              "      <td>2</td>\n",
              "      <td>None</td>\n",
              "      <td>1 bath</td>\n",
              "      <td>NaN</td>\n",
              "      <td>1.0</td>\n",
              "      <td>[\"Keypad\", \"Iron\", \"Carbon monoxide alarm\", \"P...</td>\n",
              "      <td>206.0</td>\n",
              "      <td>30</td>\n",
              "      <td>1125</td>\n",
              "      <td>30.0</td>\n",
              "      <td>30.0</td>\n",
              "      <td>1125.0</td>\n",
              "      <td>1125.0</td>\n",
              "      <td>30.0</td>\n",
              "      <td>1125.0</td>\n",
              "      <td>None</td>\n",
              "      <td>t</td>\n",
              "      <td>28</td>\n",
              "      <td>58</td>\n",
              "      <td>88</td>\n",
              "      <td>268</td>\n",
              "      <td>2020-10-16</td>\n",
              "      <td>26</td>\n",
              "      <td>23</td>\n",
              "      <td>4</td>\n",
              "      <td>2019-09-08</td>\n",
              "      <td>2020-09-28</td>\n",
              "      <td>98.0</td>\n",
              "      <td>10.0</td>\n",
              "      <td>10.0</td>\n",
              "      <td>10.0</td>\n",
              "      <td>10.0</td>\n",
              "      <td>10.0</td>\n",
              "      <td>10.0</td>\n",
              "      <td>None</td>\n",
              "      <td>t</td>\n",
              "      <td>1</td>\n",
              "      <td>1</td>\n",
              "      <td>0</td>\n",
              "      <td>0</td>\n",
              "      <td>1.93</td>\n",
              "      <td>LA</td>\n",
              "    </tr>\n",
              "    <tr>\n",
              "      <th>57285</th>\n",
              "      <td>38392795</td>\n",
              "      <td>https://www.airbnb.com/rooms/38392795</td>\n",
              "      <td>2.020100e+13</td>\n",
              "      <td>2020-10-11</td>\n",
              "      <td>1 BD in a Beautiful cottage with a warm feeling.</td>\n",
              "      <td>My home has beautiful furniture, plants and co...</td>\n",
              "      <td>The house is located walking distance from dow...</td>\n",
              "      <td>https://a0.muscache.com/pictures/82034148-a0ea...</td>\n",
              "      <td>292466026</td>\n",
              "      <td>https://www.airbnb.com/users/show/292466026</td>\n",
              "      <td>None</td>\n",
              "      <td>NaT</td>\n",
              "      <td>None</td>\n",
              "      <td>None</td>\n",
              "      <td>None</td>\n",
              "      <td>None</td>\n",
              "      <td>None</td>\n",
              "      <td>None</td>\n",
              "      <td>None</td>\n",
              "      <td>None</td>\n",
              "      <td>None</td>\n",
              "      <td>NaN</td>\n",
              "      <td>NaN</td>\n",
              "      <td>None</td>\n",
              "      <td>None</td>\n",
              "      <td>None</td>\n",
              "      <td>San Dimas, California, United States</td>\n",
              "      <td>San Dimas</td>\n",
              "      <td>Other Cities</td>\n",
              "      <td>34.10638</td>\n",
              "      <td>-117.80988</td>\n",
              "      <td>Private room in house</td>\n",
              "      <td>Private room</td>\n",
              "      <td>2</td>\n",
              "      <td>None</td>\n",
              "      <td>1 shared bath</td>\n",
              "      <td>1.0</td>\n",
              "      <td>1.0</td>\n",
              "      <td>[\"Essentials\", \"Patio or balcony\", \"TV\", \"Oven...</td>\n",
              "      <td>54.0</td>\n",
              "      <td>1</td>\n",
              "      <td>30</td>\n",
              "      <td>1.0</td>\n",
              "      <td>1.0</td>\n",
              "      <td>1125.0</td>\n",
              "      <td>1125.0</td>\n",
              "      <td>1.0</td>\n",
              "      <td>1125.0</td>\n",
              "      <td>None</td>\n",
              "      <td>t</td>\n",
              "      <td>30</td>\n",
              "      <td>60</td>\n",
              "      <td>90</td>\n",
              "      <td>365</td>\n",
              "      <td>2020-10-11</td>\n",
              "      <td>21</td>\n",
              "      <td>20</td>\n",
              "      <td>1</td>\n",
              "      <td>2019-10-07</td>\n",
              "      <td>2020-09-15</td>\n",
              "      <td>98.0</td>\n",
              "      <td>10.0</td>\n",
              "      <td>10.0</td>\n",
              "      <td>10.0</td>\n",
              "      <td>10.0</td>\n",
              "      <td>10.0</td>\n",
              "      <td>10.0</td>\n",
              "      <td>None</td>\n",
              "      <td>f</td>\n",
              "      <td>2</td>\n",
              "      <td>0</td>\n",
              "      <td>2</td>\n",
              "      <td>0</td>\n",
              "      <td>1.70</td>\n",
              "      <td>LA</td>\n",
              "    </tr>\n",
              "    <tr>\n",
              "      <th>65242</th>\n",
              "      <td>42198380</td>\n",
              "      <td>https://www.airbnb.com/rooms/42198380</td>\n",
              "      <td>2.020100e+13</td>\n",
              "      <td>2020-10-08</td>\n",
              "      <td>SUN-KISSED BEDROOM IN BROOKLYN (WOMEN ONLY)</td>\n",
              "      <td>Minimalist sun-kissed room with wooden floor. ...</td>\n",
              "      <td>Red Hook has been voted the best neighborhood ...</td>\n",
              "      <td>https://a0.muscache.com/pictures/a480788d-1913...</td>\n",
              "      <td>6685570</td>\n",
              "      <td>https://www.airbnb.com/users/show/6685570</td>\n",
              "      <td>None</td>\n",
              "      <td>NaT</td>\n",
              "      <td>None</td>\n",
              "      <td>None</td>\n",
              "      <td>None</td>\n",
              "      <td>None</td>\n",
              "      <td>None</td>\n",
              "      <td>None</td>\n",
              "      <td>None</td>\n",
              "      <td>None</td>\n",
              "      <td>None</td>\n",
              "      <td>NaN</td>\n",
              "      <td>NaN</td>\n",
              "      <td>None</td>\n",
              "      <td>None</td>\n",
              "      <td>None</td>\n",
              "      <td>Brooklyn, New York, United States</td>\n",
              "      <td>Red Hook</td>\n",
              "      <td>Brooklyn</td>\n",
              "      <td>40.67776</td>\n",
              "      <td>-74.00242</td>\n",
              "      <td>Private room in apartment</td>\n",
              "      <td>Private room</td>\n",
              "      <td>1</td>\n",
              "      <td>None</td>\n",
              "      <td>1 shared bath</td>\n",
              "      <td>1.0</td>\n",
              "      <td>1.0</td>\n",
              "      <td>[\"Wifi\", \"Hangers\", \"Smoke alarm\", \"Carbon mon...</td>\n",
              "      <td>52.0</td>\n",
              "      <td>3</td>\n",
              "      <td>26</td>\n",
              "      <td>3.0</td>\n",
              "      <td>3.0</td>\n",
              "      <td>1125.0</td>\n",
              "      <td>1125.0</td>\n",
              "      <td>3.0</td>\n",
              "      <td>1125.0</td>\n",
              "      <td>None</td>\n",
              "      <td>t</td>\n",
              "      <td>30</td>\n",
              "      <td>60</td>\n",
              "      <td>90</td>\n",
              "      <td>90</td>\n",
              "      <td>2020-10-08</td>\n",
              "      <td>1</td>\n",
              "      <td>1</td>\n",
              "      <td>0</td>\n",
              "      <td>2020-02-16</td>\n",
              "      <td>2020-02-16</td>\n",
              "      <td>100.0</td>\n",
              "      <td>10.0</td>\n",
              "      <td>10.0</td>\n",
              "      <td>10.0</td>\n",
              "      <td>10.0</td>\n",
              "      <td>10.0</td>\n",
              "      <td>10.0</td>\n",
              "      <td>None</td>\n",
              "      <td>f</td>\n",
              "      <td>1</td>\n",
              "      <td>0</td>\n",
              "      <td>1</td>\n",
              "      <td>0</td>\n",
              "      <td>0.13</td>\n",
              "      <td>NYC</td>\n",
              "    </tr>\n",
              "    <tr>\n",
              "      <th>72897</th>\n",
              "      <td>45271420</td>\n",
              "      <td>https://www.airbnb.com/rooms/45271420</td>\n",
              "      <td>2.020100e+13</td>\n",
              "      <td>2020-10-16</td>\n",
              "      <td>Balcony Qn - The Avalon Hotel Catalina Island</td>\n",
              "      <td>Each balcony room has a queen size bed, a 42-i...</td>\n",
              "      <td>Our garden patio attracts hummingbirds and oth...</td>\n",
              "      <td>https://a0.muscache.com/pictures/49e63bec-5556...</td>\n",
              "      <td>179977549</td>\n",
              "      <td>https://www.airbnb.com/users/show/179977549</td>\n",
              "      <td>None</td>\n",
              "      <td>NaT</td>\n",
              "      <td>None</td>\n",
              "      <td>None</td>\n",
              "      <td>None</td>\n",
              "      <td>None</td>\n",
              "      <td>None</td>\n",
              "      <td>None</td>\n",
              "      <td>None</td>\n",
              "      <td>None</td>\n",
              "      <td>None</td>\n",
              "      <td>NaN</td>\n",
              "      <td>NaN</td>\n",
              "      <td>None</td>\n",
              "      <td>None</td>\n",
              "      <td>None</td>\n",
              "      <td>Avalon, California, United States</td>\n",
              "      <td>Avalon</td>\n",
              "      <td>Other Cities</td>\n",
              "      <td>33.34349</td>\n",
              "      <td>-118.32713</td>\n",
              "      <td>Room in boutique hotel</td>\n",
              "      <td>Private room</td>\n",
              "      <td>2</td>\n",
              "      <td>None</td>\n",
              "      <td>1 bath</td>\n",
              "      <td>1.0</td>\n",
              "      <td>1.0</td>\n",
              "      <td>[\"Room-darkening shades\", \"Hot water\", \"Heatin...</td>\n",
              "      <td>265.0</td>\n",
              "      <td>1</td>\n",
              "      <td>365</td>\n",
              "      <td>NaN</td>\n",
              "      <td>NaN</td>\n",
              "      <td>NaN</td>\n",
              "      <td>NaN</td>\n",
              "      <td>NaN</td>\n",
              "      <td>NaN</td>\n",
              "      <td>None</td>\n",
              "      <td>t</td>\n",
              "      <td>0</td>\n",
              "      <td>0</td>\n",
              "      <td>0</td>\n",
              "      <td>0</td>\n",
              "      <td>2020-10-16</td>\n",
              "      <td>0</td>\n",
              "      <td>0</td>\n",
              "      <td>0</td>\n",
              "      <td>NaT</td>\n",
              "      <td>NaT</td>\n",
              "      <td>NaN</td>\n",
              "      <td>NaN</td>\n",
              "      <td>NaN</td>\n",
              "      <td>NaN</td>\n",
              "      <td>NaN</td>\n",
              "      <td>NaN</td>\n",
              "      <td>NaN</td>\n",
              "      <td>None</td>\n",
              "      <td>t</td>\n",
              "      <td>2</td>\n",
              "      <td>0</td>\n",
              "      <td>2</td>\n",
              "      <td>0</td>\n",
              "      <td>NaN</td>\n",
              "      <td>LA</td>\n",
              "    </tr>\n",
              "    <tr>\n",
              "      <th>72898</th>\n",
              "      <td>45271430</td>\n",
              "      <td>https://www.airbnb.com/rooms/45271430</td>\n",
              "      <td>2.020100e+13</td>\n",
              "      <td>2020-10-16</td>\n",
              "      <td>Garden Rm - The Avalon Hotel on Catalina Island</td>\n",
              "      <td>Each garden room is fitted with a king size me...</td>\n",
              "      <td>Our garden patio attracts hummingbirds and oth...</td>\n",
              "      <td>https://a0.muscache.com/pictures/e1665b87-0521...</td>\n",
              "      <td>179977549</td>\n",
              "      <td>https://www.airbnb.com/users/show/179977549</td>\n",
              "      <td>None</td>\n",
              "      <td>NaT</td>\n",
              "      <td>None</td>\n",
              "      <td>None</td>\n",
              "      <td>None</td>\n",
              "      <td>None</td>\n",
              "      <td>None</td>\n",
              "      <td>None</td>\n",
              "      <td>None</td>\n",
              "      <td>None</td>\n",
              "      <td>None</td>\n",
              "      <td>NaN</td>\n",
              "      <td>NaN</td>\n",
              "      <td>None</td>\n",
              "      <td>None</td>\n",
              "      <td>None</td>\n",
              "      <td>Avalon, California, United States</td>\n",
              "      <td>Avalon</td>\n",
              "      <td>Other Cities</td>\n",
              "      <td>33.34404</td>\n",
              "      <td>-118.32862</td>\n",
              "      <td>Room in boutique hotel</td>\n",
              "      <td>Private room</td>\n",
              "      <td>2</td>\n",
              "      <td>None</td>\n",
              "      <td>1 bath</td>\n",
              "      <td>1.0</td>\n",
              "      <td>1.0</td>\n",
              "      <td>[\"Room-darkening shades\", \"Hot water\", \"Heatin...</td>\n",
              "      <td>156.0</td>\n",
              "      <td>1</td>\n",
              "      <td>365</td>\n",
              "      <td>NaN</td>\n",
              "      <td>NaN</td>\n",
              "      <td>NaN</td>\n",
              "      <td>NaN</td>\n",
              "      <td>NaN</td>\n",
              "      <td>NaN</td>\n",
              "      <td>None</td>\n",
              "      <td>t</td>\n",
              "      <td>15</td>\n",
              "      <td>43</td>\n",
              "      <td>58</td>\n",
              "      <td>58</td>\n",
              "      <td>2020-10-16</td>\n",
              "      <td>1</td>\n",
              "      <td>1</td>\n",
              "      <td>1</td>\n",
              "      <td>2020-09-24</td>\n",
              "      <td>2020-09-24</td>\n",
              "      <td>100.0</td>\n",
              "      <td>10.0</td>\n",
              "      <td>10.0</td>\n",
              "      <td>10.0</td>\n",
              "      <td>10.0</td>\n",
              "      <td>10.0</td>\n",
              "      <td>10.0</td>\n",
              "      <td>None</td>\n",
              "      <td>t</td>\n",
              "      <td>2</td>\n",
              "      <td>0</td>\n",
              "      <td>2</td>\n",
              "      <td>0</td>\n",
              "      <td>1.00</td>\n",
              "      <td>LA</td>\n",
              "    </tr>\n",
              "    <tr>\n",
              "      <th>73762</th>\n",
              "      <td>45456513</td>\n",
              "      <td>https://www.airbnb.com/rooms/45456513</td>\n",
              "      <td>2.020100e+13</td>\n",
              "      <td>2020-10-16</td>\n",
              "      <td>Beautiful home on the Hillside</td>\n",
              "      <td>A beautiful roomwith hardwood floors a very co...</td>\n",
              "      <td>Beautiful Bonelli Park in raging waters</td>\n",
              "      <td>https://a0.muscache.com/pictures/b82454f2-9c19...</td>\n",
              "      <td>292466026</td>\n",
              "      <td>https://www.airbnb.com/users/show/292466026</td>\n",
              "      <td>None</td>\n",
              "      <td>NaT</td>\n",
              "      <td>None</td>\n",
              "      <td>None</td>\n",
              "      <td>None</td>\n",
              "      <td>None</td>\n",
              "      <td>None</td>\n",
              "      <td>None</td>\n",
              "      <td>None</td>\n",
              "      <td>None</td>\n",
              "      <td>None</td>\n",
              "      <td>NaN</td>\n",
              "      <td>NaN</td>\n",
              "      <td>None</td>\n",
              "      <td>None</td>\n",
              "      <td>None</td>\n",
              "      <td>San Dimas, California, United States</td>\n",
              "      <td>San Dimas</td>\n",
              "      <td>Other Cities</td>\n",
              "      <td>34.06878</td>\n",
              "      <td>-117.82180</td>\n",
              "      <td>Private room in house</td>\n",
              "      <td>Private room</td>\n",
              "      <td>2</td>\n",
              "      <td>None</td>\n",
              "      <td>2 baths</td>\n",
              "      <td>2.0</td>\n",
              "      <td>1.0</td>\n",
              "      <td>[\"TV\", \"Wifi\", \"First aid kit\", \"Fire extingui...</td>\n",
              "      <td>58.0</td>\n",
              "      <td>1</td>\n",
              "      <td>1125</td>\n",
              "      <td>1.0</td>\n",
              "      <td>1.0</td>\n",
              "      <td>1125.0</td>\n",
              "      <td>1125.0</td>\n",
              "      <td>1.0</td>\n",
              "      <td>1125.0</td>\n",
              "      <td>None</td>\n",
              "      <td>t</td>\n",
              "      <td>8</td>\n",
              "      <td>38</td>\n",
              "      <td>68</td>\n",
              "      <td>343</td>\n",
              "      <td>2020-10-16</td>\n",
              "      <td>2</td>\n",
              "      <td>2</td>\n",
              "      <td>2</td>\n",
              "      <td>2020-09-23</td>\n",
              "      <td>2020-10-10</td>\n",
              "      <td>100.0</td>\n",
              "      <td>10.0</td>\n",
              "      <td>10.0</td>\n",
              "      <td>10.0</td>\n",
              "      <td>10.0</td>\n",
              "      <td>10.0</td>\n",
              "      <td>10.0</td>\n",
              "      <td>None</td>\n",
              "      <td>t</td>\n",
              "      <td>2</td>\n",
              "      <td>0</td>\n",
              "      <td>2</td>\n",
              "      <td>0</td>\n",
              "      <td>2.00</td>\n",
              "      <td>LA</td>\n",
              "    </tr>\n",
              "  </tbody>\n",
              "</table>\n",
              "</div>"
            ],
            "text/plain": [
              "             id                            listing_url  ...  reviews_per_month city\n",
              "7247    4446862   https://www.airbnb.com/rooms/4446862  ...                NaN  NYC\n",
              "7808    4763327   https://www.airbnb.com/rooms/4763327  ...               0.02  NYC\n",
              "9816    6360224   https://www.airbnb.com/rooms/6360224  ...               0.02  NYC\n",
              "10680   6900415   https://www.airbnb.com/rooms/6900415  ...                NaN   LA\n",
              "10844   6992973   https://www.airbnb.com/rooms/6992973  ...                NaN  NYC\n",
              "11624   7556587   https://www.airbnb.com/rooms/7556587  ...               0.02  NYC\n",
              "12325   8007908   https://www.airbnb.com/rooms/8007908  ...               0.41  NYC\n",
              "14087   9256325   https://www.airbnb.com/rooms/9256325  ...                NaN   LA\n",
              "15606  10034835  https://www.airbnb.com/rooms/10034835  ...               0.03   LA\n",
              "17910  12114017  https://www.airbnb.com/rooms/12114017  ...               2.99  NYC\n",
              "23021  15494796  https://www.airbnb.com/rooms/15494796  ...               0.17  NYC\n",
              "30323  20414705  https://www.airbnb.com/rooms/20414705  ...                NaN   LA\n",
              "34756  22472801  https://www.airbnb.com/rooms/22472801  ...               3.34  NYC\n",
              "34869  22545850  https://www.airbnb.com/rooms/22545850  ...               0.13  NYC\n",
              "37348  24304179  https://www.airbnb.com/rooms/24304179  ...               1.65   LA\n",
              "37746  24601752  https://www.airbnb.com/rooms/24601752  ...               0.73  NYC\n",
              "38319  25048250  https://www.airbnb.com/rooms/25048250  ...               2.16  NYC\n",
              "39810  26338897  https://www.airbnb.com/rooms/26338897  ...               0.08  NYC\n",
              "40700  27086130  https://www.airbnb.com/rooms/27086130  ...               0.22  NYC\n",
              "44294  29712188  https://www.airbnb.com/rooms/29712188  ...               0.09  NYC\n",
              "52086  35029551  https://www.airbnb.com/rooms/35029551  ...               0.20  NYC\n",
              "57215  38358017  https://www.airbnb.com/rooms/38358017  ...               1.93   LA\n",
              "57285  38392795  https://www.airbnb.com/rooms/38392795  ...               1.70   LA\n",
              "65242  42198380  https://www.airbnb.com/rooms/42198380  ...               0.13  NYC\n",
              "72897  45271420  https://www.airbnb.com/rooms/45271420  ...                NaN   LA\n",
              "72898  45271430  https://www.airbnb.com/rooms/45271430  ...               1.00   LA\n",
              "73762  45456513  https://www.airbnb.com/rooms/45456513  ...               2.00   LA\n",
              "\n",
              "[27 rows x 75 columns]"
            ]
          },
          "metadata": {
            "tags": []
          },
          "execution_count": 12
        }
      ]
    },
    {
      "cell_type": "markdown",
      "metadata": {
        "id": "PYuTUqxHeyXg"
      },
      "source": [
        "##### *'Host Listings Count' vs 'Host Total Listings Count'*\n",
        "\n",
        "Looking at host_listings_count and host_total_listings_count, we figured these columns would be useful for our model. But what's the difference between the two? After checking, we confirmed that there are no differences between the two, so we will drop host_total_listings_count."
      ]
    },
    {
      "cell_type": "code",
      "metadata": {
        "colab": {
          "base_uri": "https://localhost:8080/",
          "height": 67
        },
        "id": "MTwO6_eafeFh",
        "outputId": "3212aada-e127-4456-e444-89332e1c8836"
      },
      "source": [
        "listings_df[listings_df['host_listings_count'] != listings_df['host_total_listings_count']].dropna()"
      ],
      "execution_count": null,
      "outputs": [
        {
          "output_type": "execute_result",
          "data": {
            "text/html": [
              "<div>\n",
              "<style scoped>\n",
              "    .dataframe tbody tr th:only-of-type {\n",
              "        vertical-align: middle;\n",
              "    }\n",
              "\n",
              "    .dataframe tbody tr th {\n",
              "        vertical-align: top;\n",
              "    }\n",
              "\n",
              "    .dataframe thead th {\n",
              "        text-align: right;\n",
              "    }\n",
              "</style>\n",
              "<table border=\"1\" class=\"dataframe\">\n",
              "  <thead>\n",
              "    <tr style=\"text-align: right;\">\n",
              "      <th></th>\n",
              "      <th>id</th>\n",
              "      <th>listing_url</th>\n",
              "      <th>scrape_id</th>\n",
              "      <th>last_scraped</th>\n",
              "      <th>name</th>\n",
              "      <th>description</th>\n",
              "      <th>neighborhood_overview</th>\n",
              "      <th>picture_url</th>\n",
              "      <th>host_id</th>\n",
              "      <th>host_url</th>\n",
              "      <th>host_name</th>\n",
              "      <th>host_since</th>\n",
              "      <th>host_location</th>\n",
              "      <th>host_about</th>\n",
              "      <th>host_response_time</th>\n",
              "      <th>host_response_rate</th>\n",
              "      <th>host_acceptance_rate</th>\n",
              "      <th>host_is_superhost</th>\n",
              "      <th>host_thumbnail_url</th>\n",
              "      <th>host_picture_url</th>\n",
              "      <th>host_neighbourhood</th>\n",
              "      <th>host_listings_count</th>\n",
              "      <th>host_total_listings_count</th>\n",
              "      <th>host_verifications</th>\n",
              "      <th>host_has_profile_pic</th>\n",
              "      <th>host_identity_verified</th>\n",
              "      <th>neighbourhood</th>\n",
              "      <th>neighbourhood_cleansed</th>\n",
              "      <th>neighbourhood_group_cleansed</th>\n",
              "      <th>latitude</th>\n",
              "      <th>longitude</th>\n",
              "      <th>property_type</th>\n",
              "      <th>room_type</th>\n",
              "      <th>accommodates</th>\n",
              "      <th>bathrooms</th>\n",
              "      <th>bathrooms_text</th>\n",
              "      <th>bedrooms</th>\n",
              "      <th>beds</th>\n",
              "      <th>amenities</th>\n",
              "      <th>price</th>\n",
              "      <th>minimum_nights</th>\n",
              "      <th>maximum_nights</th>\n",
              "      <th>minimum_minimum_nights</th>\n",
              "      <th>maximum_minimum_nights</th>\n",
              "      <th>minimum_maximum_nights</th>\n",
              "      <th>maximum_maximum_nights</th>\n",
              "      <th>minimum_nights_avg_ntm</th>\n",
              "      <th>maximum_nights_avg_ntm</th>\n",
              "      <th>calendar_updated</th>\n",
              "      <th>has_availability</th>\n",
              "      <th>availability_30</th>\n",
              "      <th>availability_60</th>\n",
              "      <th>availability_90</th>\n",
              "      <th>availability_365</th>\n",
              "      <th>calendar_last_scraped</th>\n",
              "      <th>number_of_reviews</th>\n",
              "      <th>number_of_reviews_ltm</th>\n",
              "      <th>number_of_reviews_l30d</th>\n",
              "      <th>first_review</th>\n",
              "      <th>last_review</th>\n",
              "      <th>review_scores_rating</th>\n",
              "      <th>review_scores_accuracy</th>\n",
              "      <th>review_scores_cleanliness</th>\n",
              "      <th>review_scores_checkin</th>\n",
              "      <th>review_scores_communication</th>\n",
              "      <th>review_scores_location</th>\n",
              "      <th>review_scores_value</th>\n",
              "      <th>license</th>\n",
              "      <th>instant_bookable</th>\n",
              "      <th>calculated_host_listings_count</th>\n",
              "      <th>calculated_host_listings_count_entire_homes</th>\n",
              "      <th>calculated_host_listings_count_private_rooms</th>\n",
              "      <th>calculated_host_listings_count_shared_rooms</th>\n",
              "      <th>reviews_per_month</th>\n",
              "      <th>city</th>\n",
              "    </tr>\n",
              "  </thead>\n",
              "  <tbody>\n",
              "  </tbody>\n",
              "</table>\n",
              "</div>"
            ],
            "text/plain": [
              "Empty DataFrame\n",
              "Columns: [id, listing_url, scrape_id, last_scraped, name, description, neighborhood_overview, picture_url, host_id, host_url, host_name, host_since, host_location, host_about, host_response_time, host_response_rate, host_acceptance_rate, host_is_superhost, host_thumbnail_url, host_picture_url, host_neighbourhood, host_listings_count, host_total_listings_count, host_verifications, host_has_profile_pic, host_identity_verified, neighbourhood, neighbourhood_cleansed, neighbourhood_group_cleansed, latitude, longitude, property_type, room_type, accommodates, bathrooms, bathrooms_text, bedrooms, beds, amenities, price, minimum_nights, maximum_nights, minimum_minimum_nights, maximum_minimum_nights, minimum_maximum_nights, maximum_maximum_nights, minimum_nights_avg_ntm, maximum_nights_avg_ntm, calendar_updated, has_availability, availability_30, availability_60, availability_90, availability_365, calendar_last_scraped, number_of_reviews, number_of_reviews_ltm, number_of_reviews_l30d, first_review, last_review, review_scores_rating, review_scores_accuracy, review_scores_cleanliness, review_scores_checkin, review_scores_communication, review_scores_location, review_scores_value, license, instant_bookable, calculated_host_listings_count, calculated_host_listings_count_entire_homes, calculated_host_listings_count_private_rooms, calculated_host_listings_count_shared_rooms, reviews_per_month, city]\n",
              "Index: []"
            ]
          },
          "metadata": {
            "tags": []
          },
          "execution_count": 13
        }
      ]
    },
    {
      "cell_type": "markdown",
      "metadata": {
        "id": "On8hLR357baU"
      },
      "source": [
        "Now we'll take a look at what our data actually consists of."
      ]
    },
    {
      "cell_type": "markdown",
      "metadata": {
        "id": "Y8D5vRos6W45"
      },
      "source": [
        "#### **A Glance at All Airbnbs**\n",
        "\n",
        "Here, we take a look at what Airbnbs look like in general."
      ]
    },
    {
      "cell_type": "markdown",
      "metadata": {
        "id": "Uw7Sxp6PoNVj"
      },
      "source": [
        "##### *Time Frame*\n",
        "\n",
        "Since we're going to be integrating our listings data with other sources, we need to see what time period we're working with."
      ]
    },
    {
      "cell_type": "code",
      "metadata": {
        "id": "JTO5vwIFoJ4L"
      },
      "source": [
        "listings_df['year'] = listings_df['host_since'].apply(lambda x: x.year)\n",
        "time_period=listings_df.groupby(['city','year']).count()\n",
        "time_period.reset_index(inplace=True)"
      ],
      "execution_count": null,
      "outputs": []
    },
    {
      "cell_type": "markdown",
      "metadata": {
        "id": "O975_SH5tMwa"
      },
      "source": [
        "Airbnb was founded in August of 2008, so it makes sense that hosts began joining starting in 2008. However, it's very apparent that Airbnb really gained traction starting in 2010, which means that from that year on, guests will have many, many more options to choose from."
      ]
    },
    {
      "cell_type": "code",
      "metadata": {
        "colab": {
          "base_uri": "https://localhost:8080/",
          "height": 515
        },
        "id": "jE7OR2VDpGDk",
        "outputId": "526487ef-4f04-4a39-a5ae-20f56cc50729"
      },
      "source": [
        "plt.figure(figsize=(8,8))\n",
        "sns.lineplot(data=time_period, x='year', y='id', hue='city', markers=True, style='city',ci=None)\n",
        "plt.title('Number of Hosts Joined per Year', fontsize=16)\n",
        "plt.show()"
      ],
      "execution_count": null,
      "outputs": [
        {
          "output_type": "display_data",
          "data": {
            "image/png": "[encoded data removed]",
            "text/plain": [
              "<Figure size 576x576 with 1 Axes>"
            ]
          },
          "metadata": {
            "tags": [],
            "needs_background": "light"
          }
        }
      ]
    },
    {
      "cell_type": "markdown",
      "metadata": {
        "id": "OhK3KMu06qUM"
      },
      "source": [
        "##### *Verified Hosts*\n",
        "\n",
        "Surely all hosts should be verified? Looking at the numbers, it would appear not! More than 20% of all hosts across both cities are not verified. We wonder if this impacts people's decisions to stay at an Airbnb or not."
      ]
    },
    {
      "cell_type": "code",
      "metadata": {
        "colab": {
          "base_uri": "https://localhost:8080/",
          "height": 223
        },
        "id": "yntTEQrz7Xrx",
        "outputId": "a3572c09-6bb4-441c-bb25-4098b832d969"
      },
      "source": [
        "ps.sqldf(\n",
        "    '''\n",
        "      WITH totals AS (\n",
        "        SELECT  city\n",
        "                ,count(id) AS total\n",
        "        FROM    listings_df\n",
        "        GROUP BY city\n",
        "      )\n",
        "      SELECT  l.city\n",
        "              ,host_identity_verified\n",
        "              ,count(id) as numVerified\n",
        "              ,CAST(count(id) AS FLOAT) / CAST(total AS FLOAT) * 100 AS percentVerified\n",
        "      FROM    listings_df l\n",
        "              INNER JOIN totals t ON l.city = t.city\n",
        "      GROUP BY l.city, host_identity_verified\n",
        "    '''\n",
        ")"
      ],
      "execution_count": null,
      "outputs": [
        {
          "output_type": "execute_result",
          "data": {
            "text/html": [
              "<div>\n",
              "<style scoped>\n",
              "    .dataframe tbody tr th:only-of-type {\n",
              "        vertical-align: middle;\n",
              "    }\n",
              "\n",
              "    .dataframe tbody tr th {\n",
              "        vertical-align: top;\n",
              "    }\n",
              "\n",
              "    .dataframe thead th {\n",
              "        text-align: right;\n",
              "    }\n",
              "</style>\n",
              "<table border=\"1\" class=\"dataframe\">\n",
              "  <thead>\n",
              "    <tr style=\"text-align: right;\">\n",
              "      <th></th>\n",
              "      <th>city</th>\n",
              "      <th>host_identity_verified</th>\n",
              "      <th>numVerified</th>\n",
              "      <th>percentVerified</th>\n",
              "    </tr>\n",
              "  </thead>\n",
              "  <tbody>\n",
              "    <tr>\n",
              "      <th>0</th>\n",
              "      <td>LA</td>\n",
              "      <td>None</td>\n",
              "      <td>10</td>\n",
              "      <td>0.032751</td>\n",
              "    </tr>\n",
              "    <tr>\n",
              "      <th>1</th>\n",
              "      <td>LA</td>\n",
              "      <td>f</td>\n",
              "      <td>6117</td>\n",
              "      <td>20.034062</td>\n",
              "    </tr>\n",
              "    <tr>\n",
              "      <th>2</th>\n",
              "      <td>LA</td>\n",
              "      <td>t</td>\n",
              "      <td>24406</td>\n",
              "      <td>79.933187</td>\n",
              "    </tr>\n",
              "    <tr>\n",
              "      <th>3</th>\n",
              "      <td>NYC</td>\n",
              "      <td>None</td>\n",
              "      <td>17</td>\n",
              "      <td>0.038060</td>\n",
              "    </tr>\n",
              "    <tr>\n",
              "      <th>4</th>\n",
              "      <td>NYC</td>\n",
              "      <td>f</td>\n",
              "      <td>9914</td>\n",
              "      <td>22.195854</td>\n",
              "    </tr>\n",
              "    <tr>\n",
              "      <th>5</th>\n",
              "      <td>NYC</td>\n",
              "      <td>t</td>\n",
              "      <td>34735</td>\n",
              "      <td>77.766086</td>\n",
              "    </tr>\n",
              "  </tbody>\n",
              "</table>\n",
              "</div>"
            ],
            "text/plain": [
              "  city host_identity_verified  numVerified  percentVerified\n",
              "0   LA                   None           10         0.032751\n",
              "1   LA                      f         6117        20.034062\n",
              "2   LA                      t        24406        79.933187\n",
              "3  NYC                   None           17         0.038060\n",
              "4  NYC                      f         9914        22.195854\n",
              "5  NYC                      t        34735        77.766086"
            ]
          },
          "metadata": {
            "tags": []
          },
          "execution_count": 16
        }
      ]
    },
    {
      "cell_type": "markdown",
      "metadata": {
        "id": "Ep5RqlR1cHI2"
      },
      "source": [
        "#### **Comparisons by City**\n",
        "\n",
        "We now want to get a sense of what Airbnbs in each city look like compared to each other.\n",
        "\n",
        "For comparisons of counts, the data is first standardized since we have more NYC data (approx. 45k listings) compared to LA data (approx. 30k listings)."
      ]
    },
    {
      "cell_type": "markdown",
      "metadata": {
        "id": "mVSGkz8tZnvr"
      },
      "source": [
        "##### *Room Types*\n",
        "\n",
        "What are the most popular types of Airbnbs? Given the differences in cost of living and layout of each city, we can expect that there will be some differences."
      ]
    },
    {
      "cell_type": "code",
      "metadata": {
        "id": "gkqo8OKsNzAl"
      },
      "source": [
        "# First, we standardize.\n",
        "room_type = listings_df.groupby(['city', 'room_type']).agg({'id': 'count'})\n",
        "room_type = room_type.groupby(level=0).apply(lambda x: 100 * x / float(x.sum()))\n",
        "room_type.reset_index(inplace=True)"
      ],
      "execution_count": null,
      "outputs": []
    },
    {
      "cell_type": "markdown",
      "metadata": {
        "id": "MQz_qAy3aAK0"
      },
      "source": [
        "After plotting the proportions, we can see that the types of Airbnbs in each city are quite different from one another. While entire homes/apartments and private rooms are the most popular in both cities, a big majority of Airbnbs in LA are entire homes/apartments while in NYC, the types are more evenly split between entire homes/apartments and private rooms. "
      ]
    },
    {
      "cell_type": "code",
      "metadata": {
        "colab": {
          "base_uri": "https://localhost:8080/",
          "height": 624
        },
        "id": "Nq3lAYyFVF-w",
        "outputId": "9763dc57-e9d4-441a-acb8-d93b363bf774"
      },
      "source": [
        "fig, ax1 = plt.subplots(figsize=(10,10))\n",
        "sns.barplot(x='room_type', y='id', hue='city', data=room_type, palette='Blues_d')\n",
        "plt.title('Percentage of Total Airbnbs by Room Type',fontsize=16)\n",
        "plt.show()"
      ],
      "execution_count": null,
      "outputs": [
        {
          "output_type": "display_data",
          "data": {
            "image/png": "[encoded data removed]",
            "text/plain": [
              "<Figure size 720x720 with 1 Axes>"
            ]
          },
          "metadata": {
            "tags": [],
            "needs_background": "light"
          }
        }
      ]
    },
    {
      "cell_type": "markdown",
      "metadata": {
        "id": "RK1QHEnflA9f"
      },
      "source": [
        "##### *Host Response Times*\n",
        "\n",
        "Do \"West Coast vs East Coast\" stereotypes hold? The general consensus is that West Coasters are generally more relaxed while East Coasters are more hurried. Do host response times reflect this stereotype? "
      ]
    },
    {
      "cell_type": "code",
      "metadata": {
        "id": "fc_JRZQjTMge"
      },
      "source": [
        "# First, we standardize.\n",
        "host_response_time = listings_df.groupby(['city', 'host_response_time']).agg({'id': 'count'})\n",
        "host_response_time = host_response_time.groupby(level=0).apply(lambda x: 100 * x / float(x.sum()))\n",
        "host_response_time.reset_index(inplace=True)"
      ],
      "execution_count": null,
      "outputs": []
    },
    {
      "cell_type": "markdown",
      "metadata": {
        "id": "f9vOcKYGmCKD"
      },
      "source": [
        "It would appear not, but this is up to interpretation and speculation! We could assume that since West Coasters are more relaxed, they would respond to requests slower than their counterparts on the East Coast; however, this is clearly not the case since a big majority of them respond within an hour.\n",
        "\n",
        "Another argument can be made that because West Coasters are so relaxed, they might have more time to attend to their personal affairs. Hopefully we can shed some light on this."
      ]
    },
    {
      "cell_type": "code",
      "metadata": {
        "colab": {
          "base_uri": "https://localhost:8080/",
          "height": 624
        },
        "id": "CAXZLxuEkraV",
        "outputId": "d385b9bd-318c-463f-82f4-d2a7a05d289c"
      },
      "source": [
        "fig, ax1 = plt.subplots(figsize=(10,10))\n",
        "sns.barplot(x='host_response_time', y='id', hue='city', data=host_response_time, palette='Blues_d')\n",
        "plt.title('Percentages of Response Times by City',fontsize=16)\n",
        "plt.show()"
      ],
      "execution_count": null,
      "outputs": [
        {
          "output_type": "display_data",
          "data": {
            "image/png": "[encoded data removed]",
            "text/plain": [
              "<Figure size 720x720 with 1 Axes>"
            ]
          },
          "metadata": {
            "tags": [],
            "needs_background": "light"
          }
        }
      ]
    },
    {
      "cell_type": "markdown",
      "metadata": {
        "id": "tW6W2-t5q3sp"
      },
      "source": [
        "##### *Ratings from Reviews*\n",
        "\n",
        "How to ratings stack up between the two cities? While ratings are generally high, which city comes out on top?\n",
        "\n",
        "We'll take a look at the spread of ratings between the two and compare the plots with outliers (graph #1) and without (graph #2).\n",
        "\n",
        "Since the average of the boxplot with outliers removed might be a little misleading, we calculated it first so we can directly compare the two cities. It seems that LA on average has better ratings than NYC."
      ]
    },
    {
      "cell_type": "code",
      "metadata": {
        "colab": {
          "base_uri": "https://localhost:8080/"
        },
        "id": "QfGKs5E-2Ahv",
        "outputId": "43b47585-6343-4647-988f-ab5eb83387d1"
      },
      "source": [
        "listings_df.groupby('city')['review_scores_rating'].mean()"
      ],
      "execution_count": null,
      "outputs": [
        {
          "output_type": "execute_result",
          "data": {
            "text/plain": [
              "city\n",
              "LA     94.546277\n",
              "NYC    93.849435\n",
              "Name: review_scores_rating, dtype: float64"
            ]
          },
          "metadata": {
            "tags": []
          },
          "execution_count": 21
        }
      ]
    },
    {
      "cell_type": "markdown",
      "metadata": {
        "id": "P96_NqNU2A6l"
      },
      "source": [
        "From the plot with outliers removed, we can also see that the distribution of reviews from LA is more narrow than NYC and spans across better ratings. Regardless, Airbnbs in both cities typically attain very high scores. But what about the outliers?"
      ]
    },
    {
      "cell_type": "code",
      "metadata": {
        "colab": {
          "base_uri": "https://localhost:8080/",
          "height": 704
        },
        "id": "_bcUNVpGq4NP",
        "outputId": "ccbc6b18-c3e9-4bc2-8a02-4a902ed8d1b7"
      },
      "source": [
        "fig, ax = plt.subplots(1,2, figsize=(8,10))\n",
        "sns.boxplot(x='city',y='review_scores_rating',data=listings_df,palette=\"pastel\", ax=ax[0])\n",
        "sns.boxplot(x='city',y='review_scores_rating',data=listings_df,palette=\"pastel\", showfliers=False,ax=ax[1])\n",
        "fig.suptitle('Distribution of Review Ratings by City',fontsize=16)\n",
        "ax[0].set_title('With Outliers', fontsize=13)\n",
        "ax[1].set_title('Without Outliers', fontsize=13)\n",
        "fig.tight_layout(rect=[0, 0.03, 1, 0.95])\n",
        "fig.show()"
      ],
      "execution_count": null,
      "outputs": [
        {
          "output_type": "display_data",
          "data": {
            "image/png": "[encoded data removed]",
            "text/plain": [
              "<Figure size 576x720 with 2 Axes>"
            ]
          },
          "metadata": {
            "tags": [],
            "needs_background": "light"
          }
        }
      ]
    },
    {
      "cell_type": "markdown",
      "metadata": {
        "id": "cOUv9pBQxGYM"
      },
      "source": [
        "##### *'Poorly' Rated Airbnbs*\n",
        "\n",
        "Since we adjusted our previous analysis of the ratings because outliers skewed the picture, let's take a look and see what we can glean from them instead. Since the vast majority of ratings fall at 80% and above, we'll identify these \"poorly\"-rated Airbnbs as any Airbnb with a rating below 80%."
      ]
    },
    {
      "cell_type": "code",
      "metadata": {
        "id": "rxYvrYLGBzaa"
      },
      "source": [
        "# Sorted in order to standardize 'hue' assignment in graph\n",
        "poor_ratings=listings_df[listings_df['review_scores_rating'] < 80].sort_values('city')\n",
        "poor_reviews=poor_ratings[poor_ratings['number_of_reviews'] <= 25].sort_values('city')"
      ],
      "execution_count": null,
      "outputs": []
    },
    {
      "cell_type": "markdown",
      "metadata": {
        "id": "CyisdPWFFzUC"
      },
      "source": [
        "Ratings are directly correlated to the number of reviews given. All the graphs display the relationship between the number of reviews an Airbnb receives and the corresponding rating. However, each graph is filtered as follows:\n",
        "\n",
        "1.   Left-hand side: Includes all Airbnbs.\n",
        "2.   Middle: Includes only Airbnbs with ratings less than 80%.\n",
        "3.   Right-hand side: Includes only Airbnbs with ratings less than 80% and have 25 or fewer reviews.\n",
        "\n",
        "Each graph progressively zooms in on more specific details.\n",
        "\n",
        "As we can see, it's apparent that the vast majority of Airbnbs with \"poor\" ratings have just a handful of reviews, which would heavily impact the rating."
      ]
    },
    {
      "cell_type": "code",
      "metadata": {
        "colab": {
          "base_uri": "https://localhost:8080/",
          "height": 704
        },
        "id": "h91Tji_IB_V2",
        "outputId": "fce4aa1b-334c-460e-de38-524e76a9bbce"
      },
      "source": [
        "fig, ax = plt.subplots(1,3, figsize=(12,10))\n",
        "sns.scatterplot(data=listings_df, x='number_of_reviews',y='review_scores_rating',hue='city',ax=ax[0])\n",
        "sns.scatterplot(data=poor_ratings, x='number_of_reviews',y='review_scores_rating',hue='city',ax=ax[1])\n",
        "sns.scatterplot(data=poor_reviews, x='number_of_reviews',y='review_scores_rating',hue='city',ax=ax[2])\n",
        "fig.suptitle('Relationship Between Review Ratings and Number of Reviews',fontsize=16)\n",
        "ax[0].set_title('All Airbnbs', fontsize=13)\n",
        "ax[1].set_title('Only Ratings < 80%', fontsize=13)\n",
        "ax[2].set_title('Only Ratings < 80% and # of Reviews <= 25', fontsize=13)\n",
        "fig.tight_layout(rect=[0, 0.03, 1, 0.95])\n",
        "fig.show()"
      ],
      "execution_count": null,
      "outputs": [
        {
          "output_type": "display_data",
          "data": {
            "image/png": "[encoded data removed]",
            "text/plain": [
              "<Figure size 864x720 with 3 Axes>"
            ]
          },
          "metadata": {
            "tags": [],
            "needs_background": "light"
          }
        }
      ]
    },
    {
      "cell_type": "markdown",
      "metadata": {
        "id": "SIL2JUVB8X1y"
      },
      "source": [
        "##### *Superhosts*\n",
        "\n",
        "Airbnb defines superhosts as \"experienced hosts who provide a shining example for other hosts, and extraordinary experiences for their guests\" and they are identified with a badge on their profile.\n",
        "\n",
        "Since this attribute is basically a direct measure of how great an Airbnb is, can this explain why LA Airbnbs seem to be outperforming NYC Airbnbs?\n",
        "\n",
        "The answer is yes, this is entirely possible! Superhosts in LA make up about 32% of all hosts, whereas in NYC, they make up only about 18%."
      ]
    },
    {
      "cell_type": "code",
      "metadata": {
        "colab": {
          "base_uri": "https://localhost:8080/",
          "height": 516
        },
        "id": "grRB4qyh9KLD",
        "outputId": "8d3bdac0-838d-4c09-cc33-099ac6d177ac"
      },
      "source": [
        "# First, we standardize.\n",
        "superhosts=listings_df.groupby(['city','host_is_superhost']).agg({'id': 'count'})\n",
        "superhosts=superhosts.groupby(level=0).apply(lambda x: 100 * x / float(x.sum()))\n",
        "superhosts.reset_index(inplace=True)\n",
        "\n",
        "fig, ax1 = plt.subplots(figsize=(8,8))\n",
        "sns.barplot(x='host_is_superhost', y='id', hue='city', data=superhosts, palette='rocket')\n",
        "plt.title('Comparison of Types of Hosts',fontsize=16)\n",
        "plt.show()"
      ],
      "execution_count": null,
      "outputs": [
        {
          "output_type": "display_data",
          "data": {
            "image/png": "[encoded data removed]",
            "text/plain": [
              "<Figure size 576x576 with 1 Axes>"
            ]
          },
          "metadata": {
            "tags": [],
            "needs_background": "light"
          }
        }
      ]
    },
    {
      "cell_type": "markdown",
      "metadata": {
        "id": "f4IpKEDtISV8"
      },
      "source": [
        "### Final Cleaning and Formatting of Listings Data\n",
        "\n",
        "Now that we have thoroughly explored the data, it's time to prepare it for our analyses."
      ]
    },
    {
      "cell_type": "markdown",
      "metadata": {
        "id": "c9gJYOnNN5MP"
      },
      "source": [
        "#### Drop Null Host Names\n",
        "From our initial analysis in *Null Host Names?*, we determined that we could drop these 27 null host names without impacting our analysis."
      ]
    },
    {
      "cell_type": "code",
      "metadata": {
        "id": "s6mrI1wDN5hh"
      },
      "source": [
        "listings_df.dropna(axis=0,subset={'host_name'},inplace=True)"
      ],
      "execution_count": null,
      "outputs": []
    },
    {
      "cell_type": "markdown",
      "metadata": {
        "id": "gu_elnzyL8L0"
      },
      "source": [
        "#### Drop Irrelevant Columns\n",
        "\n",
        "We have pinpointed the columns that are relevant for our purposes, so we can drop everything else."
      ]
    },
    {
      "cell_type": "code",
      "metadata": {
        "id": "CIg5IhOzIHiT"
      },
      "source": [
        "cols = pd.Series(listings_df.columns)\n",
        "\n",
        "main_cols_drop = ['listing_url','scrape_id','last_scraped','picture_url','host_url','host_thumbnail_url',\\\n",
        "                  'host_picture_url','host_total_listings_count','host_verifications','neighbourhood','bathrooms',\\\n",
        "                  'calendar_updated', 'license','calendar_last_scraped','host_neighbourhood','year']\n",
        "\n",
        "# Drop all columns about minimum night except for 'minimum_nights'\n",
        "night_cols_drop = list(cols[cols.apply(lambda x: '_nights' in x)])[1:]\n",
        "\n",
        "# Drop irrelevant availability columns\n",
        "avail_cols_drop = list(cols[cols.apply(lambda x: 'availability' in x)])\n",
        "\n",
        "# Drop all reviews count columns except for 'number_of_reviews'\n",
        "review_cols_drop = list(cols[cols.apply(lambda x: 'number_of_reviews_' in x)])\n",
        "\n",
        "# Drop host listing count by room type\n",
        "listcount_cols_drop = list(cols[cols.apply(lambda x: 'calculated_host_listings_count' in x)])\n",
        "\n",
        "# Other features to drop\n",
        "other_cols_drop = ['property_type', 'bathrooms_text', 'last_review', 'instant_bookable', 'reviews_per_month', 'host_id']\n",
        "\n",
        "drop_cols = main_cols_drop + night_cols_drop + avail_cols_drop + review_cols_drop + listcount_cols_drop + other_cols_drop\n",
        "\n",
        "listings_df.drop(columns=drop_cols, inplace=True)"
      ],
      "execution_count": null,
      "outputs": []
    },
    {
      "cell_type": "markdown",
      "metadata": {
        "id": "t08DaEkvMS3_"
      },
      "source": [
        "#### Booleans\n",
        "For our model, we want Boolean features, but they need to be numeric. Let's cast them to zeroes and ones."
      ]
    },
    {
      "cell_type": "code",
      "metadata": {
        "id": "0CJhQJvYIsrn"
      },
      "source": [
        "listings_df['host_is_superhost']=listings_df['host_is_superhost'].apply(lambda x: 1 if x == 't' else 0)\n",
        "listings_df['host_has_profile_pic']=listings_df['host_has_profile_pic'].apply(lambda x: 1 if x == 't' else 0)\n",
        "listings_df['host_identity_verified']=listings_df['host_identity_verified'].apply(lambda x: 1 if x == 't' else 0)"
      ],
      "execution_count": null,
      "outputs": []
    },
    {
      "cell_type": "markdown",
      "metadata": {
        "id": "7BRZmxVDPcPT"
      },
      "source": [
        "#### Text Cleaning\n",
        "\n",
        "Since our analysis also depends on qualitative features, we need to make sure that they are generally clean. In this section, we'll remove obviously bad patterns, such as HTML tags and escape characters."
      ]
    },
    {
      "cell_type": "code",
      "metadata": {
        "id": "iql7Cu3WIiwZ"
      },
      "source": [
        "# Function to remove bad patterns\n",
        "def remove_bad_patterns(text):\n",
        "    h = re.compile(\"(<.*?>)\")\n",
        "    n = re.compile(\"\\n\")\n",
        "    r = re.compile(\"\\r\")\n",
        "    t = re.compile(\"\\t\")\n",
        "    l = re.compile(\"\\$\")\n",
        "    \n",
        "    text = h.sub(\"\",text)\n",
        "    text = n.sub(\" \",text)\n",
        "    text = r.sub(\" \",text)\n",
        "    text = t.sub(\" \",text)\n",
        "    text = l.sub(\" \",text)\n",
        "\n",
        "    return text"
      ],
      "execution_count": null,
      "outputs": []
    },
    {
      "cell_type": "code",
      "metadata": {
        "id": "IsW5ROnLIlmm"
      },
      "source": [
        "listings_df['description'] = listings_df['description'].apply(lambda x: remove_bad_patterns(str(x)))\n",
        "listings_df['host_about'] = listings_df['host_about'].apply(lambda x: remove_bad_patterns(str(x)))\n",
        "listings_df['neighborhood_overview'] = listings_df['neighborhood_overview'].apply(lambda x: remove_bad_patterns(str(x)))"
      ],
      "execution_count": null,
      "outputs": []
    },
    {
      "cell_type": "code",
      "metadata": {
        "id": "wwRyJUfdInR7"
      },
      "source": [
        "# Remove unclosed breaks at end of descriptions\n",
        "listings_df['description'] = listings_df['description'].apply(lambda x: str(x).replace('<br','').replace('<br /','').replace('<b','').replace('</b','').replace('</',''))\n",
        "listings_df['host_about'] = listings_df['host_about'].apply(lambda x: str(x).replace('<br','').replace('<br /','').replace('<b','').replace('</b','').replace('</',''))\n",
        "listings_df['neighborhood_overview'] = listings_df['neighborhood_overview'].apply(lambda x: str(x).replace('<br','').replace('<br /','').replace('<b','').replace('</b','').replace('</',''))"
      ],
      "execution_count": null,
      "outputs": []
    },
    {
      "cell_type": "code",
      "metadata": {
        "id": "VpDmvsSRIpuz"
      },
      "source": [
        "listings_df['description']=listings_df['description'].apply(lambda x: str(x).replace('<','') if str(x)[-1] == '<' else x)\n",
        "listings_df['host_about']=listings_df['host_about'].apply(lambda x: str(x).replace('<','') if str(x)[-1] == '<' else x)\n",
        "listings_df['neighborhood_overview']=listings_df['neighborhood_overview'].apply(lambda x: str(x).replace('<','') if str(x)[-1] == '<' else x)"
      ],
      "execution_count": null,
      "outputs": []
    },
    {
      "cell_type": "markdown",
      "metadata": {
        "id": "UOzczjIAWCnV"
      },
      "source": [
        "#### Final Listings Data\n",
        "\n",
        "Our listings data is now ready to be used in our analysis and in conjunction with the other sources."
      ]
    },
    {
      "cell_type": "code",
      "metadata": {
        "colab": {
          "base_uri": "https://localhost:8080/",
          "height": 552
        },
        "id": "jna3CnZcIu2Z",
        "outputId": "fba67f2b-8652-48a2-875d-b8119cf52300"
      },
      "source": [
        "listings_df.head(5)"
      ],
      "execution_count": null,
      "outputs": [
        {
          "output_type": "execute_result",
          "data": {
            "text/html": [
              "<div>\n",
              "<style scoped>\n",
              "    .dataframe tbody tr th:only-of-type {\n",
              "        vertical-align: middle;\n",
              "    }\n",
              "\n",
              "    .dataframe tbody tr th {\n",
              "        vertical-align: top;\n",
              "    }\n",
              "\n",
              "    .dataframe thead th {\n",
              "        text-align: right;\n",
              "    }\n",
              "</style>\n",
              "<table border=\"1\" class=\"dataframe\">\n",
              "  <thead>\n",
              "    <tr style=\"text-align: right;\">\n",
              "      <th></th>\n",
              "      <th>id</th>\n",
              "      <th>name</th>\n",
              "      <th>description</th>\n",
              "      <th>neighborhood_overview</th>\n",
              "      <th>host_name</th>\n",
              "      <th>host_since</th>\n",
              "      <th>host_location</th>\n",
              "      <th>host_about</th>\n",
              "      <th>host_response_time</th>\n",
              "      <th>host_response_rate</th>\n",
              "      <th>host_acceptance_rate</th>\n",
              "      <th>host_is_superhost</th>\n",
              "      <th>host_listings_count</th>\n",
              "      <th>host_has_profile_pic</th>\n",
              "      <th>host_identity_verified</th>\n",
              "      <th>neighbourhood_cleansed</th>\n",
              "      <th>neighbourhood_group_cleansed</th>\n",
              "      <th>latitude</th>\n",
              "      <th>longitude</th>\n",
              "      <th>room_type</th>\n",
              "      <th>accommodates</th>\n",
              "      <th>bedrooms</th>\n",
              "      <th>beds</th>\n",
              "      <th>amenities</th>\n",
              "      <th>price</th>\n",
              "      <th>minimum_nights</th>\n",
              "      <th>number_of_reviews</th>\n",
              "      <th>first_review</th>\n",
              "      <th>review_scores_rating</th>\n",
              "      <th>review_scores_accuracy</th>\n",
              "      <th>review_scores_cleanliness</th>\n",
              "      <th>review_scores_checkin</th>\n",
              "      <th>review_scores_communication</th>\n",
              "      <th>review_scores_location</th>\n",
              "      <th>review_scores_value</th>\n",
              "      <th>city</th>\n",
              "    </tr>\n",
              "  </thead>\n",
              "  <tbody>\n",
              "    <tr>\n",
              "      <th>0</th>\n",
              "      <td>109</td>\n",
              "      <td>Amazing bright elegant condo park front *UPGRA...</td>\n",
              "      <td>*** Unit upgraded with new bamboo flooring, br...</td>\n",
              "      <td>None</td>\n",
              "      <td>Paolo</td>\n",
              "      <td>2008-06-27</td>\n",
              "      <td>San Francisco, California, United States</td>\n",
              "      <td>Paolo Privitera, CEO Evensi  Paolo, MIT MBA (P...</td>\n",
              "      <td>None</td>\n",
              "      <td>None</td>\n",
              "      <td>0%</td>\n",
              "      <td>0</td>\n",
              "      <td>1.0</td>\n",
              "      <td>1</td>\n",
              "      <td>1</td>\n",
              "      <td>Culver City</td>\n",
              "      <td>Other Cities</td>\n",
              "      <td>33.98209</td>\n",
              "      <td>-118.38494</td>\n",
              "      <td>Entire home/apt</td>\n",
              "      <td>6</td>\n",
              "      <td>2.0</td>\n",
              "      <td>3.0</td>\n",
              "      <td>[\"TV\", \"Heating\", \"Cable TV\", \"Kitchen\", \"Sham...</td>\n",
              "      <td>115.0</td>\n",
              "      <td>30</td>\n",
              "      <td>2</td>\n",
              "      <td>2011-08-15</td>\n",
              "      <td>80.0</td>\n",
              "      <td>10.0</td>\n",
              "      <td>10.0</td>\n",
              "      <td>6.0</td>\n",
              "      <td>8.0</td>\n",
              "      <td>10.0</td>\n",
              "      <td>8.0</td>\n",
              "      <td>LA</td>\n",
              "    </tr>\n",
              "    <tr>\n",
              "      <th>1</th>\n",
              "      <td>2595</td>\n",
              "      <td>Skylit Midtown Castle</td>\n",
              "      <td>Beautiful, spacious skylit studio in the heart...</td>\n",
              "      <td>Centrally located in the heart of Manhattan ju...</td>\n",
              "      <td>Jennifer</td>\n",
              "      <td>2008-09-09</td>\n",
              "      <td>New York, New York, United States</td>\n",
              "      <td>A New Yorker since 2000! My passion is creatin...</td>\n",
              "      <td>within a day</td>\n",
              "      <td>70%</td>\n",
              "      <td>25%</td>\n",
              "      <td>0</td>\n",
              "      <td>6.0</td>\n",
              "      <td>1</td>\n",
              "      <td>1</td>\n",
              "      <td>Midtown</td>\n",
              "      <td>Manhattan</td>\n",
              "      <td>40.75362</td>\n",
              "      <td>-73.98377</td>\n",
              "      <td>Entire home/apt</td>\n",
              "      <td>2</td>\n",
              "      <td>NaN</td>\n",
              "      <td>1.0</td>\n",
              "      <td>[\"Hot water\", \"Stove\", \"Extra pillows and blan...</td>\n",
              "      <td>175.0</td>\n",
              "      <td>3</td>\n",
              "      <td>48</td>\n",
              "      <td>2009-11-21</td>\n",
              "      <td>94.0</td>\n",
              "      <td>9.0</td>\n",
              "      <td>9.0</td>\n",
              "      <td>10.0</td>\n",
              "      <td>10.0</td>\n",
              "      <td>10.0</td>\n",
              "      <td>9.0</td>\n",
              "      <td>NYC</td>\n",
              "    </tr>\n",
              "    <tr>\n",
              "      <th>2</th>\n",
              "      <td>2708</td>\n",
              "      <td>Beautiful Furnish Mirrored Mini-Suite w/ Firep...</td>\n",
              "      <td>Beautiful Furnished Mirror Mini-Suite w/ Firep...</td>\n",
              "      <td>We are minutes away from the Mentor Language I...</td>\n",
              "      <td>Chas.</td>\n",
              "      <td>2008-09-16</td>\n",
              "      <td>Los Angeles, California, United States</td>\n",
              "      <td>Writer.  Literary Manager.  Photographer.  Pro...</td>\n",
              "      <td>within a few hours</td>\n",
              "      <td>100%</td>\n",
              "      <td>100%</td>\n",
              "      <td>1</td>\n",
              "      <td>2.0</td>\n",
              "      <td>1</td>\n",
              "      <td>1</td>\n",
              "      <td>Hollywood</td>\n",
              "      <td>City of Los Angeles</td>\n",
              "      <td>34.09768</td>\n",
              "      <td>-118.34602</td>\n",
              "      <td>Private room</td>\n",
              "      <td>1</td>\n",
              "      <td>1.0</td>\n",
              "      <td>1.0</td>\n",
              "      <td>[\"Bed linens\", \"Essentials\", \"Patio or balcony...</td>\n",
              "      <td>75.0</td>\n",
              "      <td>30</td>\n",
              "      <td>27</td>\n",
              "      <td>2014-06-09</td>\n",
              "      <td>97.0</td>\n",
              "      <td>10.0</td>\n",
              "      <td>10.0</td>\n",
              "      <td>10.0</td>\n",
              "      <td>10.0</td>\n",
              "      <td>10.0</td>\n",
              "      <td>10.0</td>\n",
              "      <td>LA</td>\n",
              "    </tr>\n",
              "    <tr>\n",
              "      <th>3</th>\n",
              "      <td>2732</td>\n",
              "      <td>Zen Life at the Beach</td>\n",
              "      <td>An oasis of tranquility awaits you.The spaceTh...</td>\n",
              "      <td>This is the best part of Santa Monica. Quiet, ...</td>\n",
              "      <td>Yoga Priestess</td>\n",
              "      <td>2008-09-17</td>\n",
              "      <td>Santa Monica, California, United States</td>\n",
              "      <td>I have been teaching yoga and meditation for 3...</td>\n",
              "      <td>within an hour</td>\n",
              "      <td>92%</td>\n",
              "      <td>50%</td>\n",
              "      <td>0</td>\n",
              "      <td>2.0</td>\n",
              "      <td>1</td>\n",
              "      <td>1</td>\n",
              "      <td>Santa Monica</td>\n",
              "      <td>Other Cities</td>\n",
              "      <td>34.00475</td>\n",
              "      <td>-118.48127</td>\n",
              "      <td>Private room</td>\n",
              "      <td>1</td>\n",
              "      <td>1.0</td>\n",
              "      <td>1.0</td>\n",
              "      <td>[\"Hangers\", \"Refrigerator\", \"Dishes and silver...</td>\n",
              "      <td>155.0</td>\n",
              "      <td>1</td>\n",
              "      <td>21</td>\n",
              "      <td>2011-06-06</td>\n",
              "      <td>94.0</td>\n",
              "      <td>9.0</td>\n",
              "      <td>9.0</td>\n",
              "      <td>9.0</td>\n",
              "      <td>9.0</td>\n",
              "      <td>10.0</td>\n",
              "      <td>9.0</td>\n",
              "      <td>LA</td>\n",
              "    </tr>\n",
              "    <tr>\n",
              "      <th>4</th>\n",
              "      <td>2864</td>\n",
              "      <td>* Beautiful Master Suite/Jacuzzi Tub/*</td>\n",
              "      <td>Centrally located.... Furnished with King Size...</td>\n",
              "      <td>What makes the neighborhood unique is that the...</td>\n",
              "      <td>Bernadine</td>\n",
              "      <td>2008-09-25</td>\n",
              "      <td>Bellflower, California, United States</td>\n",
              "      <td>Fair, open, honest and very informative for ne...</td>\n",
              "      <td>None</td>\n",
              "      <td>None</td>\n",
              "      <td>None</td>\n",
              "      <td>0</td>\n",
              "      <td>1.0</td>\n",
              "      <td>1</td>\n",
              "      <td>1</td>\n",
              "      <td>Bellflower</td>\n",
              "      <td>Other Cities</td>\n",
              "      <td>33.87619</td>\n",
              "      <td>-118.11397</td>\n",
              "      <td>Entire home/apt</td>\n",
              "      <td>2</td>\n",
              "      <td>1.0</td>\n",
              "      <td>1.0</td>\n",
              "      <td>[\"Bed linens\", \"Essentials\", \"TV\", \"Free stree...</td>\n",
              "      <td>50.0</td>\n",
              "      <td>30</td>\n",
              "      <td>0</td>\n",
              "      <td>NaT</td>\n",
              "      <td>NaN</td>\n",
              "      <td>NaN</td>\n",
              "      <td>NaN</td>\n",
              "      <td>NaN</td>\n",
              "      <td>NaN</td>\n",
              "      <td>NaN</td>\n",
              "      <td>NaN</td>\n",
              "      <td>LA</td>\n",
              "    </tr>\n",
              "  </tbody>\n",
              "</table>\n",
              "</div>"
            ],
            "text/plain": [
              "     id  ... city\n",
              "0   109  ...   LA\n",
              "1  2595  ...  NYC\n",
              "2  2708  ...   LA\n",
              "3  2732  ...   LA\n",
              "4  2864  ...   LA\n",
              "\n",
              "[5 rows x 36 columns]"
            ]
          },
          "metadata": {
            "tags": []
          },
          "execution_count": 33
        }
      ]
    },
    {
      "cell_type": "markdown",
      "metadata": {
        "id": "hKHJGE_vcTdL"
      },
      "source": [
        "## NYC and LA Crime Data\n",
        "\n",
        "The goal of collecting and integrating NYC and LA crime data into the AirBnB listings data is to create a proxy for neighborhood safety. Crime level is a factor that hosts cannot control, but will impact their Airbnb nonetheless.\n",
        "\n",
        "*Caveat*: The NYPD crime report data only provides borough/precinct-level identifier in each crime report. Given that there are 5 boroughs in total in NYC, we acknowledge neighborhoood characteristics could vary within a borough. However, this is the best information we could find so far that best represents safety in each region.  "
      ]
    },
    {
      "cell_type": "markdown",
      "metadata": {
        "id": "XqaGSGFuki79"
      },
      "source": [
        "### NYC Crime Data"
      ]
    },
    {
      "cell_type": "code",
      "metadata": {
        "colab": {
          "base_uri": "https://localhost:8080/"
        },
        "id": "6PbzJiLccUs7",
        "outputId": "edf3cb08-b2ef-438a-d3fa-e13b25cf3678"
      },
      "source": [
        "!unzip '/content/drive/Shareddrives/CIS545: AirBnB/NYPD_Complaint_Data_Historic.csv.zip'\n",
        "crime_df_org = pd.read_csv('/content/NYPD_Complaint_Data_Historic.csv')"
      ],
      "execution_count": null,
      "outputs": [
        {
          "output_type": "stream",
          "text": [
            "Archive:  /content/drive/Shareddrives/CIS545: AirBnB/NYPD_Complaint_Data_Historic.csv.zip\n",
            "  inflating: NYPD_Complaint_Data_Historic.csv  \n",
            "  inflating: __MACOSX/._NYPD_Complaint_Data_Historic.csv  \n"
          ],
          "name": "stdout"
        },
        {
          "output_type": "stream",
          "text": [
            "/usr/local/lib/python3.6/dist-packages/IPython/core/interactiveshell.py:2718: DtypeWarning: Columns (18,20) have mixed types.Specify dtype option on import or set low_memory=False.\n",
            "  interactivity=interactivity, compiler=compiler, result=result)\n"
          ],
          "name": "stderr"
        }
      ]
    },
    {
      "cell_type": "markdown",
      "metadata": {
        "id": "9TE-5Jdtf460"
      },
      "source": [
        "#### First Glance\n",
        "\n",
        "Let's look at how the NYC crime data is broken down and see what might be relevant for our analysis.\n",
        "\n",
        "The report is quite detailed, but we don't need such granular information. However, we can see that it does provide telling information such as when the report was filed, what kind and level of crime was committed and within which borough."
      ]
    },
    {
      "cell_type": "code",
      "metadata": {
        "colab": {
          "base_uri": "https://localhost:8080/",
          "height": 433
        },
        "id": "q3l5YEDMf7Ab",
        "outputId": "52390559-cd2d-40d7-bd49-f611c0c1a3ea"
      },
      "source": [
        "crime_df_org.head(5)"
      ],
      "execution_count": null,
      "outputs": [
        {
          "output_type": "execute_result",
          "data": {
            "text/html": [
              "<div>\n",
              "<style scoped>\n",
              "    .dataframe tbody tr th:only-of-type {\n",
              "        vertical-align: middle;\n",
              "    }\n",
              "\n",
              "    .dataframe tbody tr th {\n",
              "        vertical-align: top;\n",
              "    }\n",
              "\n",
              "    .dataframe thead th {\n",
              "        text-align: right;\n",
              "    }\n",
              "</style>\n",
              "<table border=\"1\" class=\"dataframe\">\n",
              "  <thead>\n",
              "    <tr style=\"text-align: right;\">\n",
              "      <th></th>\n",
              "      <th>CMPLNT_NUM</th>\n",
              "      <th>CMPLNT_FR_DT</th>\n",
              "      <th>CMPLNT_FR_TM</th>\n",
              "      <th>CMPLNT_TO_DT</th>\n",
              "      <th>CMPLNT_TO_TM</th>\n",
              "      <th>ADDR_PCT_CD</th>\n",
              "      <th>RPT_DT</th>\n",
              "      <th>KY_CD</th>\n",
              "      <th>OFNS_DESC</th>\n",
              "      <th>PD_CD</th>\n",
              "      <th>PD_DESC</th>\n",
              "      <th>CRM_ATPT_CPTD_CD</th>\n",
              "      <th>LAW_CAT_CD</th>\n",
              "      <th>BORO_NM</th>\n",
              "      <th>LOC_OF_OCCUR_DESC</th>\n",
              "      <th>PREM_TYP_DESC</th>\n",
              "      <th>JURIS_DESC</th>\n",
              "      <th>JURISDICTION_CODE</th>\n",
              "      <th>PARKS_NM</th>\n",
              "      <th>HADEVELOPT</th>\n",
              "      <th>HOUSING_PSA</th>\n",
              "      <th>X_COORD_CD</th>\n",
              "      <th>Y_COORD_CD</th>\n",
              "      <th>SUSP_AGE_GROUP</th>\n",
              "      <th>SUSP_RACE</th>\n",
              "      <th>SUSP_SEX</th>\n",
              "      <th>TRANSIT_DISTRICT</th>\n",
              "      <th>Latitude</th>\n",
              "      <th>Longitude</th>\n",
              "      <th>Lat_Lon</th>\n",
              "      <th>PATROL_BORO</th>\n",
              "      <th>STATION_NAME</th>\n",
              "      <th>VIC_AGE_GROUP</th>\n",
              "      <th>VIC_RACE</th>\n",
              "      <th>VIC_SEX</th>\n",
              "    </tr>\n",
              "  </thead>\n",
              "  <tbody>\n",
              "    <tr>\n",
              "      <th>0</th>\n",
              "      <td>724718389</td>\n",
              "      <td>09/04/2014</td>\n",
              "      <td>17:25:00</td>\n",
              "      <td>09/04/2014</td>\n",
              "      <td>17:35:00</td>\n",
              "      <td>81.0</td>\n",
              "      <td>09/04/2014</td>\n",
              "      <td>344</td>\n",
              "      <td>ASSAULT 3 &amp; RELATED OFFENSES</td>\n",
              "      <td>101.0</td>\n",
              "      <td>ASSAULT 3</td>\n",
              "      <td>COMPLETED</td>\n",
              "      <td>MISDEMEANOR</td>\n",
              "      <td>BROOKLYN</td>\n",
              "      <td>OPPOSITE OF</td>\n",
              "      <td>STREET</td>\n",
              "      <td>N.Y. POLICE DEPT</td>\n",
              "      <td>0.0</td>\n",
              "      <td>NaN</td>\n",
              "      <td>NaN</td>\n",
              "      <td>NaN</td>\n",
              "      <td>1005945.0</td>\n",
              "      <td>188862.0</td>\n",
              "      <td>NaN</td>\n",
              "      <td>NaN</td>\n",
              "      <td>NaN</td>\n",
              "      <td>NaN</td>\n",
              "      <td>40.685041</td>\n",
              "      <td>-73.921777</td>\n",
              "      <td>(40.685040958, -73.921776995)</td>\n",
              "      <td>PATROL BORO BKLYN NORTH</td>\n",
              "      <td>NaN</td>\n",
              "      <td>25-44</td>\n",
              "      <td>WHITE</td>\n",
              "      <td>F</td>\n",
              "    </tr>\n",
              "    <tr>\n",
              "      <th>1</th>\n",
              "      <td>191133903</td>\n",
              "      <td>10/12/2016</td>\n",
              "      <td>07:40:00</td>\n",
              "      <td>10/12/2016</td>\n",
              "      <td>07:45:00</td>\n",
              "      <td>121.0</td>\n",
              "      <td>10/12/2016</td>\n",
              "      <td>109</td>\n",
              "      <td>GRAND LARCENY</td>\n",
              "      <td>417.0</td>\n",
              "      <td>LARCENY,GRAND FROM PERSON,PURS</td>\n",
              "      <td>COMPLETED</td>\n",
              "      <td>FELONY</td>\n",
              "      <td>STATEN ISLAND</td>\n",
              "      <td>NaN</td>\n",
              "      <td>STREET</td>\n",
              "      <td>N.Y. POLICE DEPT</td>\n",
              "      <td>0.0</td>\n",
              "      <td>NaN</td>\n",
              "      <td>NaN</td>\n",
              "      <td>NaN</td>\n",
              "      <td>947034.0</td>\n",
              "      <td>171375.0</td>\n",
              "      <td>UNKNOWN</td>\n",
              "      <td>BLACK</td>\n",
              "      <td>U</td>\n",
              "      <td>NaN</td>\n",
              "      <td>40.636991</td>\n",
              "      <td>-74.134093</td>\n",
              "      <td>(40.63699139, -74.134092508)</td>\n",
              "      <td>PATROL BORO STATEN ISLAND</td>\n",
              "      <td>NaN</td>\n",
              "      <td>45-64</td>\n",
              "      <td>WHITE HISPANIC</td>\n",
              "      <td>F</td>\n",
              "    </tr>\n",
              "    <tr>\n",
              "      <th>2</th>\n",
              "      <td>720151206</td>\n",
              "      <td>09/28/2012</td>\n",
              "      <td>13:30:00</td>\n",
              "      <td>09/28/2012</td>\n",
              "      <td>14:00:00</td>\n",
              "      <td>41.0</td>\n",
              "      <td>10/19/2012</td>\n",
              "      <td>109</td>\n",
              "      <td>GRAND LARCENY</td>\n",
              "      <td>413.0</td>\n",
              "      <td>LARCENY,GRAND BY FALSE PROMISE</td>\n",
              "      <td>COMPLETED</td>\n",
              "      <td>FELONY</td>\n",
              "      <td>BRONX</td>\n",
              "      <td>FRONT OF</td>\n",
              "      <td>STREET</td>\n",
              "      <td>N.Y. POLICE DEPT</td>\n",
              "      <td>0.0</td>\n",
              "      <td>NaN</td>\n",
              "      <td>NaN</td>\n",
              "      <td>NaN</td>\n",
              "      <td>1014179.0</td>\n",
              "      <td>239453.0</td>\n",
              "      <td>NaN</td>\n",
              "      <td>WHITE HISPANIC</td>\n",
              "      <td>M</td>\n",
              "      <td>NaN</td>\n",
              "      <td>40.823876</td>\n",
              "      <td>-73.891863</td>\n",
              "      <td>(40.823876276, -73.891862968)</td>\n",
              "      <td>PATROL BORO BRONX</td>\n",
              "      <td>NaN</td>\n",
              "      <td>45-64</td>\n",
              "      <td>WHITE HISPANIC</td>\n",
              "      <td>F</td>\n",
              "    </tr>\n",
              "    <tr>\n",
              "      <th>3</th>\n",
              "      <td>232242098</td>\n",
              "      <td>03/24/2015</td>\n",
              "      <td>15:45:00</td>\n",
              "      <td>NaN</td>\n",
              "      <td>NaN</td>\n",
              "      <td>46.0</td>\n",
              "      <td>03/24/2015</td>\n",
              "      <td>341</td>\n",
              "      <td>PETIT LARCENY</td>\n",
              "      <td>339.0</td>\n",
              "      <td>LARCENY,PETIT FROM OPEN AREAS,</td>\n",
              "      <td>COMPLETED</td>\n",
              "      <td>MISDEMEANOR</td>\n",
              "      <td>BRONX</td>\n",
              "      <td>FRONT OF</td>\n",
              "      <td>STREET</td>\n",
              "      <td>N.Y. POLICE DEPT</td>\n",
              "      <td>0.0</td>\n",
              "      <td>NaN</td>\n",
              "      <td>NaN</td>\n",
              "      <td>NaN</td>\n",
              "      <td>1009041.0</td>\n",
              "      <td>247401.0</td>\n",
              "      <td>NaN</td>\n",
              "      <td>BLACK</td>\n",
              "      <td>M</td>\n",
              "      <td>NaN</td>\n",
              "      <td>40.845707</td>\n",
              "      <td>-73.910398</td>\n",
              "      <td>(40.845707148, -73.910398033)</td>\n",
              "      <td>PATROL BORO BRONX</td>\n",
              "      <td>NaN</td>\n",
              "      <td>&lt;18</td>\n",
              "      <td>WHITE HISPANIC</td>\n",
              "      <td>F</td>\n",
              "    </tr>\n",
              "    <tr>\n",
              "      <th>4</th>\n",
              "      <td>708078702</td>\n",
              "      <td>05/20/2017</td>\n",
              "      <td>04:02:00</td>\n",
              "      <td>05/20/2017</td>\n",
              "      <td>04:09:00</td>\n",
              "      <td>109.0</td>\n",
              "      <td>05/20/2017</td>\n",
              "      <td>344</td>\n",
              "      <td>ASSAULT 3 &amp; RELATED OFFENSES</td>\n",
              "      <td>101.0</td>\n",
              "      <td>ASSAULT 3</td>\n",
              "      <td>COMPLETED</td>\n",
              "      <td>MISDEMEANOR</td>\n",
              "      <td>QUEENS</td>\n",
              "      <td>FRONT OF</td>\n",
              "      <td>STREET</td>\n",
              "      <td>N.Y. POLICE DEPT</td>\n",
              "      <td>0.0</td>\n",
              "      <td>NaN</td>\n",
              "      <td>NaN</td>\n",
              "      <td>NaN</td>\n",
              "      <td>1031779.0</td>\n",
              "      <td>217663.0</td>\n",
              "      <td>25-44</td>\n",
              "      <td>WHITE HISPANIC</td>\n",
              "      <td>M</td>\n",
              "      <td>NaN</td>\n",
              "      <td>40.763992</td>\n",
              "      <td>-73.828426</td>\n",
              "      <td>(40.763991557, -73.828425559)</td>\n",
              "      <td>PATROL BORO QUEENS NORTH</td>\n",
              "      <td>NaN</td>\n",
              "      <td>25-44</td>\n",
              "      <td>BLACK</td>\n",
              "      <td>M</td>\n",
              "    </tr>\n",
              "  </tbody>\n",
              "</table>\n",
              "</div>"
            ],
            "text/plain": [
              "   CMPLNT_NUM CMPLNT_FR_DT CMPLNT_FR_TM  ... VIC_AGE_GROUP        VIC_RACE  VIC_SEX\n",
              "0   724718389   09/04/2014     17:25:00  ...         25-44           WHITE        F\n",
              "1   191133903   10/12/2016     07:40:00  ...         45-64  WHITE HISPANIC        F\n",
              "2   720151206   09/28/2012     13:30:00  ...         45-64  WHITE HISPANIC        F\n",
              "3   232242098   03/24/2015     15:45:00  ...           <18  WHITE HISPANIC        F\n",
              "4   708078702   05/20/2017     04:02:00  ...         25-44           BLACK        M\n",
              "\n",
              "[5 rows x 35 columns]"
            ]
          },
          "metadata": {
            "tags": []
          },
          "execution_count": 35
        }
      ]
    },
    {
      "cell_type": "markdown",
      "metadata": {
        "id": "WHLk30ulhA4h"
      },
      "source": [
        "Let's see what the breakdown is. As usual, there will be some clean-up that needs to be done."
      ]
    },
    {
      "cell_type": "code",
      "metadata": {
        "colab": {
          "base_uri": "https://localhost:8080/"
        },
        "id": "v_JOgMCshDIA",
        "outputId": "4e5624c1-63ea-4ec6-dd16-9eaf29db7369"
      },
      "source": [
        "crime_df_org.info()"
      ],
      "execution_count": null,
      "outputs": [
        {
          "output_type": "stream",
          "text": [
            "<class 'pandas.core.frame.DataFrame'>\n",
            "RangeIndex: 6983207 entries, 0 to 6983206\n",
            "Data columns (total 35 columns):\n",
            " #   Column             Dtype  \n",
            "---  ------             -----  \n",
            " 0   CMPLNT_NUM         int64  \n",
            " 1   CMPLNT_FR_DT       object \n",
            " 2   CMPLNT_FR_TM       object \n",
            " 3   CMPLNT_TO_DT       object \n",
            " 4   CMPLNT_TO_TM       object \n",
            " 5   ADDR_PCT_CD        float64\n",
            " 6   RPT_DT             object \n",
            " 7   KY_CD              int64  \n",
            " 8   OFNS_DESC          object \n",
            " 9   PD_CD              float64\n",
            " 10  PD_DESC            object \n",
            " 11  CRM_ATPT_CPTD_CD   object \n",
            " 12  LAW_CAT_CD         object \n",
            " 13  BORO_NM            object \n",
            " 14  LOC_OF_OCCUR_DESC  object \n",
            " 15  PREM_TYP_DESC      object \n",
            " 16  JURIS_DESC         object \n",
            " 17  JURISDICTION_CODE  float64\n",
            " 18  PARKS_NM           object \n",
            " 19  HADEVELOPT         object \n",
            " 20  HOUSING_PSA        object \n",
            " 21  X_COORD_CD         float64\n",
            " 22  Y_COORD_CD         float64\n",
            " 23  SUSP_AGE_GROUP     object \n",
            " 24  SUSP_RACE          object \n",
            " 25  SUSP_SEX           object \n",
            " 26  TRANSIT_DISTRICT   float64\n",
            " 27  Latitude           float64\n",
            " 28  Longitude          float64\n",
            " 29  Lat_Lon            object \n",
            " 30  PATROL_BORO        object \n",
            " 31  STATION_NAME       object \n",
            " 32  VIC_AGE_GROUP      object \n",
            " 33  VIC_RACE           object \n",
            " 34  VIC_SEX            object \n",
            "dtypes: float64(8), int64(2), object(25)\n",
            "memory usage: 1.8+ GB\n"
          ],
          "name": "stdout"
        }
      ]
    },
    {
      "cell_type": "markdown",
      "metadata": {
        "id": "3Zahyv27iu1r"
      },
      "source": [
        "#### Basic Formatting\n",
        "\n",
        "Again, we need to preprocess the most important parts of our data to reflect the correct datatypes so that our exploration is meaningful."
      ]
    },
    {
      "cell_type": "markdown",
      "metadata": {
        "id": "eGhRJhFxjEoV"
      },
      "source": [
        "First, we'll rename the columns to make them more descriptive and we'll only keep the columns of interest."
      ]
    },
    {
      "cell_type": "code",
      "metadata": {
        "id": "S6nzQGeSiwe4"
      },
      "source": [
        "crime_df = crime_df_org.rename(columns={'LAW_CAT_CD': 'offense_level', 'CRM_ATPT_CPTD_CD':'crime_completion', 'CMPLNT_FR_DT':'date', 'OFNS_DESC':'offense_desc', 'BORO_NM':'borough_name'})"
      ],
      "execution_count": null,
      "outputs": []
    },
    {
      "cell_type": "code",
      "metadata": {
        "id": "vwelRdmKjRcf"
      },
      "source": [
        "crime_df = crime_df[['date', 'borough_name', 'offense_level', 'offense_desc', 'crime_completion']]"
      ],
      "execution_count": null,
      "outputs": []
    },
    {
      "cell_type": "markdown",
      "metadata": {
        "id": "wgyHPl_DjecZ"
      },
      "source": [
        "Next, we'll update the 'date' column to actually be a date."
      ]
    },
    {
      "cell_type": "code",
      "metadata": {
        "id": "Xn52bRdgjrBy"
      },
      "source": [
        "def clean_date(date):\n",
        "  if re.findall('(/10)[0-9]{2}$', date):\n",
        "    y = re.findall('/10([0-9]{2})$', date)[0]\n",
        "    return re.sub('/10[0-9]{2}', '/20'+y, date)\n",
        "  return date\n",
        "  \n",
        "crime_df['date'] = crime_df['date'].apply(lambda x: clean_date(str(x)))\n",
        "crime_df['date'] = pd.to_datetime(crime_df['date'], format='%m/%d/%Y')\n",
        "crime_df['year'] = crime_df['date'].apply(lambda x: x.year)"
      ],
      "execution_count": null,
      "outputs": []
    },
    {
      "cell_type": "markdown",
      "metadata": {
        "id": "5Cjr0wvakVJz"
      },
      "source": [
        "Since the report holds data from since 1900, we need to filter the data for incidents more related to our timeframe, otherwise our analysis will be skewed based on a century's worth of data.\n",
        "\n",
        "From our analysis of the listings data, we determined that the number of hosts that joined Airbnb significantly increased in 2010, which means that the number of Airbnbs that guests can choose from also dramatically increased around that time. As a result, we'll filter our data to only include incidents from 2010 to 2019 (pre-pandemic)."
      ]
    },
    {
      "cell_type": "code",
      "metadata": {
        "id": "s9tK3fbEkVjk"
      },
      "source": [
        "crime_df_2010 = crime_df[(crime_df['year']>=2010) & (crime_df['year']<=2019)]"
      ],
      "execution_count": null,
      "outputs": []
    },
    {
      "cell_type": "markdown",
      "metadata": {
        "id": "JWmy0aw5y6hf"
      },
      "source": [
        "#### Let's Explore!\n",
        "\n",
        "Let's get a sense of how crime is broken down in NYC."
      ]
    },
    {
      "cell_type": "code",
      "metadata": {
        "id": "1zs8XX9By9uW"
      },
      "source": [
        "crime_borough = crime_df_2010.groupby(['year','borough_name','offense_level']).count()\n",
        "crime_borough.reset_index(inplace=True)"
      ],
      "execution_count": null,
      "outputs": []
    },
    {
      "cell_type": "code",
      "metadata": {
        "colab": {
          "base_uri": "https://localhost:8080/",
          "height": 515
        },
        "id": "3HBs1B4n1bNE",
        "outputId": "e552fbe9-a4a1-45d5-afc8-a66097ef58cb"
      },
      "source": [
        "plt.figure(figsize=(8,8))\n",
        "sns.lineplot(data=crime_borough, x='year', y='date', hue='borough_name', markers=True, style='borough_name',ci=None)\n",
        "plt.title('Number of Hosts Joined per Year', fontsize=16)\n",
        "plt.show()"
      ],
      "execution_count": null,
      "outputs": [
        {
          "output_type": "display_data",
          "data": {
            "image/png": "[encoded data removed]",
            "text/plain": [
              "<Figure size 576x576 with 1 Axes>"
            ]
          },
          "metadata": {
            "tags": [],
            "needs_background": "light"
          }
        }
      ]
    },
    {
      "cell_type": "code",
      "metadata": {
        "colab": {
          "base_uri": "https://localhost:8080/"
        },
        "id": "njwG6En0zluk",
        "outputId": "1817a53e-6e39-4182-87df-4451b7bd5d20"
      },
      "source": [
        "crime_df['offense_level'].value_counts()"
      ],
      "execution_count": null,
      "outputs": [
        {
          "output_type": "execute_result",
          "data": {
            "text/plain": [
              "MISDEMEANOR    3938246\n",
              "FELONY         2150008\n",
              "VIOLATION       894953\n",
              "Name: offense_level, dtype: int64"
            ]
          },
          "metadata": {
            "tags": []
          },
          "execution_count": 43
        }
      ]
    },
    {
      "cell_type": "code",
      "metadata": {
        "colab": {
          "base_uri": "https://localhost:8080/"
        },
        "id": "WchNXNdK0MWt",
        "outputId": "2a4dccfe-1909-457b-fa94-a6f4093e99f1"
      },
      "source": [
        "crime_df['crime_completion'].value_counts()"
      ],
      "execution_count": null,
      "outputs": [
        {
          "output_type": "execute_result",
          "data": {
            "text/plain": [
              "COMPLETED    6863758\n",
              "ATTEMPTED     119442\n",
              "Name: crime_completion, dtype: int64"
            ]
          },
          "metadata": {
            "tags": []
          },
          "execution_count": 44
        }
      ]
    },
    {
      "cell_type": "code",
      "metadata": {
        "colab": {
          "base_uri": "https://localhost:8080/"
        },
        "id": "-hjxWRmb0SMZ",
        "outputId": "4c712912-3955-4055-834c-e9ec85b30841"
      },
      "source": [
        "crime_df['offense_desc'].value_counts()"
      ],
      "execution_count": null,
      "outputs": [
        {
          "output_type": "execute_result",
          "data": {
            "text/plain": [
              "PETIT LARCENY                      1165360\n",
              "HARRASSMENT 2                       880644\n",
              "ASSAULT 3 & RELATED OFFENSES        731300\n",
              "CRIMINAL MISCHIEF & RELATED OF      699377\n",
              "GRAND LARCENY                       607704\n",
              "                                    ...   \n",
              "FELONY SEX CRIMES                       10\n",
              "ABORTION                                 7\n",
              "OFFENSES AGAINST MARRIAGE UNCL           4\n",
              "KIDNAPPING AND RELATED OFFENSES          3\n",
              "UNDER THE INFLUENCE OF DRUGS             3\n",
              "Name: offense_desc, Length: 71, dtype: int64"
            ]
          },
          "metadata": {
            "tags": []
          },
          "execution_count": 45
        }
      ]
    },
    {
      "cell_type": "markdown",
      "metadata": {
        "id": "fJN4_0kr32S5"
      },
      "source": [
        "#### Final Cleaning and Formatting of NYC Crime Data\n",
        "\n",
        "The most important data from this dataset as it relates to our Airbnb listings data is the number of crimes by borough. Therefore, we will pull a summary by year and borough to merge to our listings data."
      ]
    },
    {
      "cell_type": "code",
      "metadata": {
        "id": "I88IMPl937zW"
      },
      "source": [
        "crime_df_summary = crime_df_2010.drop(columns=['date', 'offense_desc', 'offense_level']).groupby(['year', 'borough_name']).count()\n",
        "crime_df_summary.reset_index(inplace=True)\n",
        "crime_df_summary = crime_df_summary.rename(columns={'crime_completion': 'crime_count'})"
      ],
      "execution_count": null,
      "outputs": []
    },
    {
      "cell_type": "markdown",
      "metadata": {
        "id": "FOqxD9s04kNX"
      },
      "source": [
        "Because the crime data is heavily skewed based on the population of a borough, we will normalize and calculate crime on a per capita basis instead.\n",
        "\n",
        "We pulled the census population estimate by borough in 2019 from the [official Census website](https://www.census.gov/quickfacts/fact/table/newyorkcitynewyork,bronxcountybronxboroughnewyork,kingscountybrooklynboroughnewyork,newyorkcountymanhattanboroughnewyork,queenscountyqueensboroughnewyork,richmondcountystatenislandboroughnewyork/PST045219) and capture them here.\n"
      ]
    },
    {
      "cell_type": "code",
      "metadata": {
        "id": "35oDIIVq5E3z"
      },
      "source": [
        "nyc_pop_dict = {'borough':['BRONX', 'BROOKLYN', 'MANHATTAN', 'QUEENS', 'STATEN ISLAND'], 'Population': [1418207, 2559903, 1628706, 2253858, 476143]}\n",
        "nyc_pop = pd.DataFrame(nyc_pop_dict)"
      ],
      "execution_count": null,
      "outputs": []
    },
    {
      "cell_type": "markdown",
      "metadata": {
        "id": "7zgeZjEV5Kk9"
      },
      "source": [
        "After normalizing the crime summary, our NYC crime data is now ready to be integrated with our listings data."
      ]
    },
    {
      "cell_type": "code",
      "metadata": {
        "id": "t0vRXpWs5RCG"
      },
      "source": [
        "crime_df_summary = crime_df_summary.merge(nyc_pop, left_on='borough_name', right_on='borough').drop(columns = 'borough')\n",
        "crime_df_summary['crime_per_capita'] = crime_df_summary.crime_count/crime_df_summary.Population\n",
        "crime_df_summary.drop(columns=['crime_count', 'Population'], inplace=True)"
      ],
      "execution_count": null,
      "outputs": []
    },
    {
      "cell_type": "code",
      "metadata": {
        "colab": {
          "base_uri": "https://localhost:8080/",
          "height": 194
        },
        "id": "XWi-VD1a5UWg",
        "outputId": "f1867711-2c04-4f0f-fd3a-47886cc57f60"
      },
      "source": [
        "crime_df_summary.head(5)"
      ],
      "execution_count": null,
      "outputs": [
        {
          "output_type": "execute_result",
          "data": {
            "text/html": [
              "<div>\n",
              "<style scoped>\n",
              "    .dataframe tbody tr th:only-of-type {\n",
              "        vertical-align: middle;\n",
              "    }\n",
              "\n",
              "    .dataframe tbody tr th {\n",
              "        vertical-align: top;\n",
              "    }\n",
              "\n",
              "    .dataframe thead th {\n",
              "        text-align: right;\n",
              "    }\n",
              "</style>\n",
              "<table border=\"1\" class=\"dataframe\">\n",
              "  <thead>\n",
              "    <tr style=\"text-align: right;\">\n",
              "      <th></th>\n",
              "      <th>year</th>\n",
              "      <th>borough_name</th>\n",
              "      <th>crime_per_capita</th>\n",
              "    </tr>\n",
              "  </thead>\n",
              "  <tbody>\n",
              "    <tr>\n",
              "      <th>0</th>\n",
              "      <td>2010.0</td>\n",
              "      <td>BRONX</td>\n",
              "      <td>0.078807</td>\n",
              "    </tr>\n",
              "    <tr>\n",
              "      <th>1</th>\n",
              "      <td>2011.0</td>\n",
              "      <td>BRONX</td>\n",
              "      <td>0.076695</td>\n",
              "    </tr>\n",
              "    <tr>\n",
              "      <th>2</th>\n",
              "      <td>2012.0</td>\n",
              "      <td>BRONX</td>\n",
              "      <td>0.075423</td>\n",
              "    </tr>\n",
              "    <tr>\n",
              "      <th>3</th>\n",
              "      <td>2013.0</td>\n",
              "      <td>BRONX</td>\n",
              "      <td>0.073473</td>\n",
              "    </tr>\n",
              "    <tr>\n",
              "      <th>4</th>\n",
              "      <td>2014.0</td>\n",
              "      <td>BRONX</td>\n",
              "      <td>0.074958</td>\n",
              "    </tr>\n",
              "  </tbody>\n",
              "</table>\n",
              "</div>"
            ],
            "text/plain": [
              "     year borough_name  crime_per_capita\n",
              "0  2010.0        BRONX          0.078807\n",
              "1  2011.0        BRONX          0.076695\n",
              "2  2012.0        BRONX          0.075423\n",
              "3  2013.0        BRONX          0.073473\n",
              "4  2014.0        BRONX          0.074958"
            ]
          },
          "metadata": {
            "tags": []
          },
          "execution_count": 49
        }
      ]
    },
    {
      "cell_type": "markdown",
      "metadata": {
        "id": "GNoZKjNrr98U"
      },
      "source": [
        "### LA Crime Data"
      ]
    },
    {
      "cell_type": "code",
      "metadata": {
        "id": "6bbZ_Z9vsB_6"
      },
      "source": [
        "la_crime = pd.read_csv('/content/drive/Shareddrives/CIS545: AirBnB/Data/la crime.csv')"
      ],
      "execution_count": null,
      "outputs": []
    },
    {
      "cell_type": "markdown",
      "metadata": {
        "id": "8CEttIj-1oBO"
      },
      "source": [
        "#### First Glance and Formatting\n",
        "\n",
        "The LA crime data we collected was already cleaned and processed. It contains data on crime per capita in each neighborhood, which cleanly maps to the LA neighborhoods in our listings data. Here, we'll just read it in and keep the relevant columns."
      ]
    },
    {
      "cell_type": "code",
      "metadata": {
        "colab": {
          "base_uri": "https://localhost:8080/",
          "height": 194
        },
        "id": "Grn_i6mg0kzK",
        "outputId": "979fd995-022c-4704-bd52-e83ed6b979e3"
      },
      "source": [
        "la_crime.head(5)"
      ],
      "execution_count": null,
      "outputs": [
        {
          "output_type": "execute_result",
          "data": {
            "text/html": [
              "<div>\n",
              "<style scoped>\n",
              "    .dataframe tbody tr th:only-of-type {\n",
              "        vertical-align: middle;\n",
              "    }\n",
              "\n",
              "    .dataframe tbody tr th {\n",
              "        vertical-align: top;\n",
              "    }\n",
              "\n",
              "    .dataframe thead th {\n",
              "        text-align: right;\n",
              "    }\n",
              "</style>\n",
              "<table border=\"1\" class=\"dataframe\">\n",
              "  <thead>\n",
              "    <tr style=\"text-align: right;\">\n",
              "      <th></th>\n",
              "      <th>RANK</th>\n",
              "      <th>NEIGHBORHOOD</th>\n",
              "      <th>PER CAPITA</th>\n",
              "      <th>TOTAL</th>\n",
              "    </tr>\n",
              "  </thead>\n",
              "  <tbody>\n",
              "    <tr>\n",
              "      <th>0</th>\n",
              "      <td>1</td>\n",
              "      <td>Chesterfield Square</td>\n",
              "      <td>126.9</td>\n",
              "      <td>81</td>\n",
              "    </tr>\n",
              "    <tr>\n",
              "      <th>1</th>\n",
              "      <td>2</td>\n",
              "      <td>Vermont Vista</td>\n",
              "      <td>122.9</td>\n",
              "      <td>306</td>\n",
              "    </tr>\n",
              "    <tr>\n",
              "      <th>2</th>\n",
              "      <td>3</td>\n",
              "      <td>Vermont Knolls</td>\n",
              "      <td>110.4</td>\n",
              "      <td>238</td>\n",
              "    </tr>\n",
              "    <tr>\n",
              "      <th>3</th>\n",
              "      <td>4</td>\n",
              "      <td>Harvard Park</td>\n",
              "      <td>109.3</td>\n",
              "      <td>119</td>\n",
              "    </tr>\n",
              "    <tr>\n",
              "      <th>4</th>\n",
              "      <td>5</td>\n",
              "      <td>Broadway-Manchester</td>\n",
              "      <td>105.4</td>\n",
              "      <td>272</td>\n",
              "    </tr>\n",
              "  </tbody>\n",
              "</table>\n",
              "</div>"
            ],
            "text/plain": [
              "   RANK         NEIGHBORHOOD  PER CAPITA  TOTAL\n",
              "0     1  Chesterfield Square       126.9     81\n",
              "1     2        Vermont Vista       122.9    306\n",
              "2     3       Vermont Knolls       110.4    238\n",
              "3     4         Harvard Park       109.3    119\n",
              "4     5  Broadway-Manchester       105.4    272"
            ]
          },
          "metadata": {
            "tags": []
          },
          "execution_count": 53
        }
      ]
    },
    {
      "cell_type": "code",
      "metadata": {
        "colab": {
          "base_uri": "https://localhost:8080/"
        },
        "id": "tVIvMqWIuIN7",
        "outputId": "28260ebd-bcd6-4d75-b761-33bf787009ef"
      },
      "source": [
        "la_crime.info()"
      ],
      "execution_count": null,
      "outputs": [
        {
          "output_type": "stream",
          "text": [
            "<class 'pandas.core.frame.DataFrame'>\n",
            "RangeIndex: 209 entries, 0 to 208\n",
            "Data columns (total 4 columns):\n",
            " #   Column        Non-Null Count  Dtype  \n",
            "---  ------        --------------  -----  \n",
            " 0   RANK          209 non-null    int64  \n",
            " 1   NEIGHBORHOOD  209 non-null    object \n",
            " 2   PER CAPITA    209 non-null    float64\n",
            " 3   TOTAL         209 non-null    int64  \n",
            "dtypes: float64(1), int64(2), object(1)\n",
            "memory usage: 6.7+ KB\n"
          ],
          "name": "stdout"
        }
      ]
    },
    {
      "cell_type": "code",
      "metadata": {
        "id": "DvK6UHbO0nqi"
      },
      "source": [
        "la_crime = la_crime[['NEIGHBORHOOD', 'PER CAPITA']]\n",
        "la_crime.columns = ['neighborhood', 'crime_per_capita']"
      ],
      "execution_count": null,
      "outputs": []
    },
    {
      "cell_type": "code",
      "metadata": {
        "colab": {
          "base_uri": "https://localhost:8080/",
          "height": 194
        },
        "id": "rCeNE84r0r5Q",
        "outputId": "014ec60e-bc12-4a17-89ba-b0e1ea15734c"
      },
      "source": [
        "la_crime.head(5)"
      ],
      "execution_count": null,
      "outputs": [
        {
          "output_type": "execute_result",
          "data": {
            "text/html": [
              "<div>\n",
              "<style scoped>\n",
              "    .dataframe tbody tr th:only-of-type {\n",
              "        vertical-align: middle;\n",
              "    }\n",
              "\n",
              "    .dataframe tbody tr th {\n",
              "        vertical-align: top;\n",
              "    }\n",
              "\n",
              "    .dataframe thead th {\n",
              "        text-align: right;\n",
              "    }\n",
              "</style>\n",
              "<table border=\"1\" class=\"dataframe\">\n",
              "  <thead>\n",
              "    <tr style=\"text-align: right;\">\n",
              "      <th></th>\n",
              "      <th>neighborhood</th>\n",
              "      <th>crime_per_capita</th>\n",
              "    </tr>\n",
              "  </thead>\n",
              "  <tbody>\n",
              "    <tr>\n",
              "      <th>0</th>\n",
              "      <td>Chesterfield Square</td>\n",
              "      <td>126.9</td>\n",
              "    </tr>\n",
              "    <tr>\n",
              "      <th>1</th>\n",
              "      <td>Vermont Vista</td>\n",
              "      <td>122.9</td>\n",
              "    </tr>\n",
              "    <tr>\n",
              "      <th>2</th>\n",
              "      <td>Vermont Knolls</td>\n",
              "      <td>110.4</td>\n",
              "    </tr>\n",
              "    <tr>\n",
              "      <th>3</th>\n",
              "      <td>Harvard Park</td>\n",
              "      <td>109.3</td>\n",
              "    </tr>\n",
              "    <tr>\n",
              "      <th>4</th>\n",
              "      <td>Broadway-Manchester</td>\n",
              "      <td>105.4</td>\n",
              "    </tr>\n",
              "  </tbody>\n",
              "</table>\n",
              "</div>"
            ],
            "text/plain": [
              "          neighborhood  crime_per_capita\n",
              "0  Chesterfield Square             126.9\n",
              "1        Vermont Vista             122.9\n",
              "2       Vermont Knolls             110.4\n",
              "3         Harvard Park             109.3\n",
              "4  Broadway-Manchester             105.4"
            ]
          },
          "metadata": {
            "tags": []
          },
          "execution_count": 55
        }
      ]
    },
    {
      "cell_type": "markdown",
      "metadata": {
        "id": "pJUs3xb72OdT"
      },
      "source": [
        "## NYC and LA Income Data\n",
        "\n",
        "Similar to why we will use crime data in our analysis, we will also use NYC and LA income data to create a proxy for neighborhood affluence. This is also an external factor that hosts cannot control, but one that can affect visitors' perceptions and decisions. It may also enable the host to increase their price as the neighborhood affluence increases or force the host to decrease their price if it decreases.\n",
        "\n",
        "We pull median income data instead of average because we want to eliminate biases in the figures. Especially in cities like NYC and LA, there could be a handful of extremely wealthy people in a given neighborhood that could inflate the average income and therefore be very misleading when used as a proxy for neighborhood affluence."
      ]
    },
    {
      "cell_type": "markdown",
      "metadata": {
        "id": "x5N4IzTY24PX"
      },
      "source": [
        "### NYC Income Data"
      ]
    },
    {
      "cell_type": "code",
      "metadata": {
        "id": "6dp797nB2Q7s"
      },
      "source": [
        "income_df_orig = pd.read_csv('/content/drive/Shareddrives/CIS545: AirBnB/Median Incomes.csv', skiprows=5)"
      ],
      "execution_count": null,
      "outputs": []
    },
    {
      "cell_type": "markdown",
      "metadata": {
        "id": "S80CjMY85OEn"
      },
      "source": [
        "#### First Glance\n",
        "\n",
        "The data generally looks good already, but there's some preprocessing that still needs to be done."
      ]
    },
    {
      "cell_type": "code",
      "metadata": {
        "colab": {
          "base_uri": "https://localhost:8080/",
          "height": 194
        },
        "id": "ArJdqn_52Yvr",
        "outputId": "bfc0ee9e-8d8d-48a7-9d0e-052b67ef6f86"
      },
      "source": [
        "income_df_orig.head(5)"
      ],
      "execution_count": null,
      "outputs": [
        {
          "output_type": "execute_result",
          "data": {
            "text/html": [
              "<div>\n",
              "<style scoped>\n",
              "    .dataframe tbody tr th:only-of-type {\n",
              "        vertical-align: middle;\n",
              "    }\n",
              "\n",
              "    .dataframe tbody tr th {\n",
              "        vertical-align: top;\n",
              "    }\n",
              "\n",
              "    .dataframe thead th {\n",
              "        text-align: right;\n",
              "    }\n",
              "</style>\n",
              "<table border=\"1\" class=\"dataframe\">\n",
              "  <thead>\n",
              "    <tr style=\"text-align: right;\">\n",
              "      <th></th>\n",
              "      <th>Location</th>\n",
              "      <th>Household Type</th>\n",
              "      <th>TimeFrame</th>\n",
              "      <th>DataFormat</th>\n",
              "      <th>Data</th>\n",
              "      <th>Fips</th>\n",
              "    </tr>\n",
              "  </thead>\n",
              "  <tbody>\n",
              "    <tr>\n",
              "      <th>0</th>\n",
              "      <td>Riverdale</td>\n",
              "      <td>All Households</td>\n",
              "      <td>2005</td>\n",
              "      <td>Dollars</td>\n",
              "      <td>63435.46009</td>\n",
              "      <td>208</td>\n",
              "    </tr>\n",
              "    <tr>\n",
              "      <th>1</th>\n",
              "      <td>Williamsbridge</td>\n",
              "      <td>All Households</td>\n",
              "      <td>2005</td>\n",
              "      <td>Dollars</td>\n",
              "      <td>52141.77239</td>\n",
              "      <td>212</td>\n",
              "    </tr>\n",
              "    <tr>\n",
              "      <th>2</th>\n",
              "      <td>Throgs Neck</td>\n",
              "      <td>All Households</td>\n",
              "      <td>2005</td>\n",
              "      <td>Dollars</td>\n",
              "      <td>57712.50261</td>\n",
              "      <td>210</td>\n",
              "    </tr>\n",
              "    <tr>\n",
              "      <th>3</th>\n",
              "      <td>Pelham Parkway</td>\n",
              "      <td>All Households</td>\n",
              "      <td>2005</td>\n",
              "      <td>Dollars</td>\n",
              "      <td>52782.17672</td>\n",
              "      <td>211</td>\n",
              "    </tr>\n",
              "    <tr>\n",
              "      <th>4</th>\n",
              "      <td>Morrisania</td>\n",
              "      <td>All Households</td>\n",
              "      <td>2005</td>\n",
              "      <td>Dollars</td>\n",
              "      <td>24589.9512</td>\n",
              "      <td>203</td>\n",
              "    </tr>\n",
              "  </tbody>\n",
              "</table>\n",
              "</div>"
            ],
            "text/plain": [
              "         Location  Household Type  TimeFrame DataFormat         Data  Fips\n",
              "0       Riverdale  All Households       2005    Dollars  63435.46009   208\n",
              "1  Williamsbridge  All Households       2005    Dollars  52141.77239   212\n",
              "2     Throgs Neck  All Households       2005    Dollars  57712.50261   210\n",
              "3  Pelham Parkway  All Households       2005    Dollars  52782.17672   211\n",
              "4      Morrisania  All Households       2005    Dollars   24589.9512   203"
            ]
          },
          "metadata": {
            "tags": []
          },
          "execution_count": 75
        }
      ]
    },
    {
      "cell_type": "markdown",
      "metadata": {
        "id": "mB8P20ja6Nat"
      },
      "source": [
        "At the very least, the 'Data' column should be numeric so let's change that first before we explore..."
      ]
    },
    {
      "cell_type": "code",
      "metadata": {
        "colab": {
          "base_uri": "https://localhost:8080/"
        },
        "id": "GjxBDIxz5fge",
        "outputId": "22b866de-2974-422d-bcfa-1159808ec694"
      },
      "source": [
        "income_df_orig.info()"
      ],
      "execution_count": null,
      "outputs": [
        {
          "output_type": "stream",
          "text": [
            "<class 'pandas.core.frame.DataFrame'>\n",
            "RangeIndex: 3900 entries, 0 to 3899\n",
            "Data columns (total 6 columns):\n",
            " #   Column          Non-Null Count  Dtype \n",
            "---  ------          --------------  ----- \n",
            " 0   Location        3900 non-null   object\n",
            " 1   Household Type  3900 non-null   object\n",
            " 2   TimeFrame       3900 non-null   int64 \n",
            " 3   DataFormat      3900 non-null   object\n",
            " 4   Data            3900 non-null   object\n",
            " 5   Fips            3900 non-null   int64 \n",
            "dtypes: int64(2), object(4)\n",
            "memory usage: 182.9+ KB\n"
          ],
          "name": "stdout"
        }
      ]
    },
    {
      "cell_type": "markdown",
      "metadata": {
        "id": "mBO-sBA366xx"
      },
      "source": [
        "... Whoops! We can't immediately change this to be numeric -- it looks like there's some invalid data. We'll poke through the other columns first to determine what needs to be kept or dropped before we handle these."
      ]
    },
    {
      "cell_type": "code",
      "metadata": {
        "colab": {
          "base_uri": "https://localhost:8080/",
          "height": 164
        },
        "id": "jFV3L8Zf7fPf",
        "outputId": "7007d344-3f40-4411-b889-1d95c1c02e6a"
      },
      "source": [
        "income_df_orig[income_df_orig['Data'] == '#VALUE!']"
      ],
      "execution_count": null,
      "outputs": [
        {
          "output_type": "execute_result",
          "data": {
            "text/html": [
              "<div>\n",
              "<style scoped>\n",
              "    .dataframe tbody tr th:only-of-type {\n",
              "        vertical-align: middle;\n",
              "    }\n",
              "\n",
              "    .dataframe tbody tr th {\n",
              "        vertical-align: top;\n",
              "    }\n",
              "\n",
              "    .dataframe thead th {\n",
              "        text-align: right;\n",
              "    }\n",
              "</style>\n",
              "<table border=\"1\" class=\"dataframe\">\n",
              "  <thead>\n",
              "    <tr style=\"text-align: right;\">\n",
              "      <th></th>\n",
              "      <th>Location</th>\n",
              "      <th>Household Type</th>\n",
              "      <th>TimeFrame</th>\n",
              "      <th>DataFormat</th>\n",
              "      <th>Data</th>\n",
              "      <th>Fips</th>\n",
              "    </tr>\n",
              "  </thead>\n",
              "  <tbody>\n",
              "    <tr>\n",
              "      <th>1706</th>\n",
              "      <td>Upper East Side</td>\n",
              "      <td>Families with Children</td>\n",
              "      <td>2011</td>\n",
              "      <td>Dollars</td>\n",
              "      <td>#VALUE!</td>\n",
              "      <td>108</td>\n",
              "    </tr>\n",
              "    <tr>\n",
              "      <th>2750</th>\n",
              "      <td>Murray Hill/Stuyvesant</td>\n",
              "      <td>Families with Children</td>\n",
              "      <td>2015</td>\n",
              "      <td>Dollars</td>\n",
              "      <td>#VALUE!</td>\n",
              "      <td>106</td>\n",
              "    </tr>\n",
              "    <tr>\n",
              "      <th>2752</th>\n",
              "      <td>Battery Park/Tribeca</td>\n",
              "      <td>Families with Children</td>\n",
              "      <td>2015</td>\n",
              "      <td>Dollars</td>\n",
              "      <td>#VALUE!</td>\n",
              "      <td>101</td>\n",
              "    </tr>\n",
              "    <tr>\n",
              "      <th>2753</th>\n",
              "      <td>Greenwich Village</td>\n",
              "      <td>Families with Children</td>\n",
              "      <td>2015</td>\n",
              "      <td>Dollars</td>\n",
              "      <td>#VALUE!</td>\n",
              "      <td>102</td>\n",
              "    </tr>\n",
              "  </tbody>\n",
              "</table>\n",
              "</div>"
            ],
            "text/plain": [
              "                    Location          Household Type  ...     Data Fips\n",
              "1706         Upper East Side  Families with Children  ...  #VALUE!  108\n",
              "2750  Murray Hill/Stuyvesant  Families with Children  ...  #VALUE!  106\n",
              "2752    Battery Park/Tribeca  Families with Children  ...  #VALUE!  101\n",
              "2753       Greenwich Village  Families with Children  ...  #VALUE!  102\n",
              "\n",
              "[4 rows x 6 columns]"
            ]
          },
          "metadata": {
            "tags": []
          },
          "execution_count": 76
        }
      ]
    },
    {
      "cell_type": "markdown",
      "metadata": {
        "id": "ZdkZs2-s72FU"
      },
      "source": [
        "#### Let's Explore!"
      ]
    },
    {
      "cell_type": "markdown",
      "metadata": {
        "id": "RfYIWIQx8FMh"
      },
      "source": [
        "##### *Household Type*\n",
        "What does \"household type\" constitute? From looking at the values, it looks like the dataset provides the median income of households of various types for a given neighborhood."
      ]
    },
    {
      "cell_type": "code",
      "metadata": {
        "colab": {
          "base_uri": "https://localhost:8080/"
        },
        "id": "WkFjeKak76_i",
        "outputId": "c08fa963-9baa-4dbe-c32b-7c63dd047fae"
      },
      "source": [
        "income_df_orig['Household Type'].unique()"
      ],
      "execution_count": null,
      "outputs": [
        {
          "output_type": "execute_result",
          "data": {
            "text/plain": [
              "array(['All Households', 'Families', 'Families with Children',\n",
              "       'Families without Children'], dtype=object)"
            ]
          },
          "metadata": {
            "tags": []
          },
          "execution_count": 64
        }
      ]
    },
    {
      "cell_type": "code",
      "metadata": {
        "colab": {
          "base_uri": "https://localhost:8080/",
          "height": 164
        },
        "id": "lCGD5GeK8oXt",
        "outputId": "b55583ab-a3cd-4cf0-d0ac-cecde99e1580"
      },
      "source": [
        "income_df_orig[(income_df_orig['Location'] == 'Upper East Side') & (income_df_orig['TimeFrame'] == 2015)]"
      ],
      "execution_count": null,
      "outputs": [
        {
          "output_type": "execute_result",
          "data": {
            "text/html": [
              "<div>\n",
              "<style scoped>\n",
              "    .dataframe tbody tr th:only-of-type {\n",
              "        vertical-align: middle;\n",
              "    }\n",
              "\n",
              "    .dataframe tbody tr th {\n",
              "        vertical-align: top;\n",
              "    }\n",
              "\n",
              "    .dataframe thead th {\n",
              "        text-align: right;\n",
              "    }\n",
              "</style>\n",
              "<table border=\"1\" class=\"dataframe\">\n",
              "  <thead>\n",
              "    <tr style=\"text-align: right;\">\n",
              "      <th></th>\n",
              "      <th>Location</th>\n",
              "      <th>Household Type</th>\n",
              "      <th>TimeFrame</th>\n",
              "      <th>DataFormat</th>\n",
              "      <th>Data</th>\n",
              "      <th>Fips</th>\n",
              "    </tr>\n",
              "  </thead>\n",
              "  <tbody>\n",
              "    <tr>\n",
              "      <th>2616</th>\n",
              "      <td>Upper East Side</td>\n",
              "      <td>All Households</td>\n",
              "      <td>2015</td>\n",
              "      <td>Dollars</td>\n",
              "      <td>110557.62253</td>\n",
              "      <td>108</td>\n",
              "    </tr>\n",
              "    <tr>\n",
              "      <th>2681</th>\n",
              "      <td>Upper East Side</td>\n",
              "      <td>Families</td>\n",
              "      <td>2015</td>\n",
              "      <td>Dollars</td>\n",
              "      <td>217538.00946</td>\n",
              "      <td>108</td>\n",
              "    </tr>\n",
              "    <tr>\n",
              "      <th>2746</th>\n",
              "      <td>Upper East Side</td>\n",
              "      <td>Families with Children</td>\n",
              "      <td>2015</td>\n",
              "      <td>Dollars</td>\n",
              "      <td>248791.07051</td>\n",
              "      <td>108</td>\n",
              "    </tr>\n",
              "    <tr>\n",
              "      <th>2811</th>\n",
              "      <td>Upper East Side</td>\n",
              "      <td>Families without Children</td>\n",
              "      <td>2015</td>\n",
              "      <td>Dollars</td>\n",
              "      <td>207441.89596</td>\n",
              "      <td>108</td>\n",
              "    </tr>\n",
              "  </tbody>\n",
              "</table>\n",
              "</div>"
            ],
            "text/plain": [
              "             Location             Household Type  ...          Data Fips\n",
              "2616  Upper East Side             All Households  ...  110557.62253  108\n",
              "2681  Upper East Side                   Families  ...  217538.00946  108\n",
              "2746  Upper East Side     Families with Children  ...  248791.07051  108\n",
              "2811  Upper East Side  Families without Children  ...  207441.89596  108\n",
              "\n",
              "[4 rows x 6 columns]"
            ]
          },
          "metadata": {
            "tags": []
          },
          "execution_count": 68
        }
      ]
    },
    {
      "cell_type": "markdown",
      "metadata": {
        "id": "hzoaW6hY9C-0"
      },
      "source": [
        "Since we want to consider all households in a given neighborhood regardless of whether they are a family or not, we will filter our dataset for only 'All Households'."
      ]
    },
    {
      "cell_type": "markdown",
      "metadata": {
        "id": "lAu5YrsM9mab"
      },
      "source": [
        "##### *Other Attributes*\n",
        "\n",
        "Let's glance at the other columns to see if they're anything particularly useful."
      ]
    },
    {
      "cell_type": "markdown",
      "metadata": {
        "id": "2IEmRUhP-AAX"
      },
      "source": [
        "FIPS codes uniquely define a geographic area, but since we have neighborhood location, we won't need this information."
      ]
    },
    {
      "cell_type": "code",
      "metadata": {
        "colab": {
          "base_uri": "https://localhost:8080/"
        },
        "id": "0yiDluYn6X_9",
        "outputId": "fa257246-cfc1-4fcf-81e3-5a53dcf32451"
      },
      "source": [
        "income_df_orig['Fips'].unique()"
      ],
      "execution_count": null,
      "outputs": [
        {
          "output_type": "execute_result",
          "data": {
            "text/plain": [
              "array([    208,     212,     210,     211,     203,     206,     207,\n",
              "           205,     204,     209,     201,     202,     112,     109,\n",
              "           110,     111,     108,     107,     104,     105,     106,\n",
              "           103,     101,     102,     503,     502,     501,     301,\n",
              "           304,     303,     302,     306,     308,     316,     305,\n",
              "           318,     317,     309,     307,     310,     312,     314,\n",
              "           315,     311,     313,     401,     403,     407,     411,\n",
              "           413,     408,     404,     406,     402,     405,     409,\n",
              "           412,     410,     414,   36005,   36047,   36061,   36081,\n",
              "         36085, 3651000])"
            ]
          },
          "metadata": {
            "tags": []
          },
          "execution_count": 69
        }
      ]
    },
    {
      "cell_type": "markdown",
      "metadata": {
        "id": "5I3qmnq8-W1F"
      },
      "source": [
        "All amounts are also in US Dollars, so we won't need the \"DataFormat\" column as well."
      ]
    },
    {
      "cell_type": "code",
      "metadata": {
        "colab": {
          "base_uri": "https://localhost:8080/"
        },
        "id": "NfsTIDw96pEg",
        "outputId": "79c1f4c9-e8fe-4ec0-ed80-a79a4c998410"
      },
      "source": [
        "income_df_orig['DataFormat'].unique()"
      ],
      "execution_count": null,
      "outputs": [
        {
          "output_type": "execute_result",
          "data": {
            "text/plain": [
              "array(['Dollars'], dtype=object)"
            ]
          },
          "metadata": {
            "tags": []
          },
          "execution_count": 70
        }
      ]
    },
    {
      "cell_type": "markdown",
      "metadata": {
        "id": "XCkrcqi1-giN"
      },
      "source": [
        "Finally, looking at the years, we can see that this dataset does hold information relevant to our time period. To match this with our crime dataset, we will also filter this to retain data from 2010 and later."
      ]
    },
    {
      "cell_type": "code",
      "metadata": {
        "colab": {
          "base_uri": "https://localhost:8080/"
        },
        "id": "Ie36CqV5-eA9",
        "outputId": "69458475-a71f-498b-bb40-bea8ccf968bb"
      },
      "source": [
        "income_df_orig['TimeFrame'].unique()"
      ],
      "execution_count": null,
      "outputs": [
        {
          "output_type": "execute_result",
          "data": {
            "text/plain": [
              "array([2005, 2006, 2007, 2008, 2009, 2010, 2011, 2012, 2013, 2014, 2015,\n",
              "       2016, 2017, 2018, 2019])"
            ]
          },
          "metadata": {
            "tags": []
          },
          "execution_count": 71
        }
      ]
    },
    {
      "cell_type": "markdown",
      "metadata": {
        "id": "v-qqoy6l-ybe"
      },
      "source": [
        "#### Final Cleaning and Formatting of NYC Income Data\n",
        "\n",
        "After the above analysis, we now know what we can safely drop and reformat."
      ]
    },
    {
      "cell_type": "markdown",
      "metadata": {
        "id": "tW20ZimhARjq"
      },
      "source": [
        "First, we'll filter our dataset to keep only the median incomes of all households and only those from 2010 and later."
      ]
    },
    {
      "cell_type": "code",
      "metadata": {
        "id": "naX_rSJt-2Sz"
      },
      "source": [
        "income_df = income_df_orig[income_df_orig['Household Type']=='All Households']\n",
        "income_df = income_df[income_df['TimeFrame']>=2010]"
      ],
      "execution_count": null,
      "outputs": []
    },
    {
      "cell_type": "markdown",
      "metadata": {
        "id": "eKu5t-ZzAkxC"
      },
      "source": [
        "We also determined that the only columns of interest to us were location, year and income. Let's drop all the other columns."
      ]
    },
    {
      "cell_type": "code",
      "metadata": {
        "id": "Sl-q6dQOAkTY"
      },
      "source": [
        "income_df = income_df.drop(columns=['Household Type', 'DataFormat', 'Fips'])"
      ],
      "execution_count": null,
      "outputs": []
    },
    {
      "cell_type": "markdown",
      "metadata": {
        "id": "3IsiT56qAwXv"
      },
      "source": [
        "Finally, we'll rename the columns to be more descriptive and also change the datatype of income to be numeric."
      ]
    },
    {
      "cell_type": "code",
      "metadata": {
        "id": "PyH45EpcAv9A"
      },
      "source": [
        "income_df.columns = ['neighborhood', 'year', 'income']\n",
        "income_df.reset_index(drop=True, inplace=True)\n",
        "\n",
        "income_df['income'] = income_df['income'].apply(lambda x: round(float(x)))"
      ],
      "execution_count": null,
      "outputs": []
    },
    {
      "cell_type": "code",
      "metadata": {
        "colab": {
          "base_uri": "https://localhost:8080/",
          "height": 194
        },
        "id": "oICAaytGCEKB",
        "outputId": "abcdab3a-e8e1-478b-90da-35051b21855d"
      },
      "source": [
        "income_df.head(5)"
      ],
      "execution_count": null,
      "outputs": [
        {
          "output_type": "execute_result",
          "data": {
            "text/html": [
              "<div>\n",
              "<style scoped>\n",
              "    .dataframe tbody tr th:only-of-type {\n",
              "        vertical-align: middle;\n",
              "    }\n",
              "\n",
              "    .dataframe tbody tr th {\n",
              "        vertical-align: top;\n",
              "    }\n",
              "\n",
              "    .dataframe thead th {\n",
              "        text-align: right;\n",
              "    }\n",
              "</style>\n",
              "<table border=\"1\" class=\"dataframe\">\n",
              "  <thead>\n",
              "    <tr style=\"text-align: right;\">\n",
              "      <th></th>\n",
              "      <th>neighborhood</th>\n",
              "      <th>year</th>\n",
              "      <th>income</th>\n",
              "    </tr>\n",
              "  </thead>\n",
              "  <tbody>\n",
              "    <tr>\n",
              "      <th>0</th>\n",
              "      <td>Riverdale</td>\n",
              "      <td>2010</td>\n",
              "      <td>58804</td>\n",
              "    </tr>\n",
              "    <tr>\n",
              "      <th>1</th>\n",
              "      <td>Williamsbridge</td>\n",
              "      <td>2010</td>\n",
              "      <td>51674</td>\n",
              "    </tr>\n",
              "    <tr>\n",
              "      <th>2</th>\n",
              "      <td>Throgs Neck</td>\n",
              "      <td>2010</td>\n",
              "      <td>55497</td>\n",
              "    </tr>\n",
              "    <tr>\n",
              "      <th>3</th>\n",
              "      <td>Pelham Parkway</td>\n",
              "      <td>2010</td>\n",
              "      <td>51251</td>\n",
              "    </tr>\n",
              "    <tr>\n",
              "      <th>4</th>\n",
              "      <td>Morrisania</td>\n",
              "      <td>2010</td>\n",
              "      <td>24179</td>\n",
              "    </tr>\n",
              "  </tbody>\n",
              "</table>\n",
              "</div>"
            ],
            "text/plain": [
              "     neighborhood  year  income\n",
              "0       Riverdale  2010   58804\n",
              "1  Williamsbridge  2010   51674\n",
              "2     Throgs Neck  2010   55497\n",
              "3  Pelham Parkway  2010   51251\n",
              "4      Morrisania  2010   24179"
            ]
          },
          "metadata": {
            "tags": []
          },
          "execution_count": 80
        }
      ]
    },
    {
      "cell_type": "markdown",
      "metadata": {
        "id": "NqIfhRMPDITj"
      },
      "source": [
        "##### *Additional Exploration*\n",
        "\n",
        "Now that our data is filtered and cleaned, we want to get a better understanding of what neighborhood dynamics are like between the 65 neighborhoods."
      ]
    },
    {
      "cell_type": "code",
      "metadata": {
        "colab": {
          "base_uri": "https://localhost:8080/"
        },
        "id": "hyhoWJ8kDKTs",
        "outputId": "540b65df-0031-4d6b-d9ca-73e8fae4cd8a"
      },
      "source": [
        "income_df.neighborhood.unique()"
      ],
      "execution_count": null,
      "outputs": [
        {
          "output_type": "execute_result",
          "data": {
            "text/plain": [
              "array(['Riverdale', 'Williamsbridge', 'Throgs Neck', 'Pelham Parkway',\n",
              "       'Morrisania', 'East Tremont', 'Bedford Park', 'University Heights',\n",
              "       'Concourse/Highbridge', 'Unionport/Soundview', 'Mott Haven',\n",
              "       'Hunts Point', 'Washington Heights', 'Manhattanville',\n",
              "       'Central Harlem', 'East Harlem', 'Upper East Side',\n",
              "       'Upper West Side', 'Chelsea/Clinton', 'Midtown Business District',\n",
              "       'Murray Hill/Stuyvesant', 'Lower East Side',\n",
              "       'Battery Park/Tribeca', 'Greenwich Village', 'Tottenville',\n",
              "       'South Beach', 'St. George', 'Williamsburg/Greenpoint', 'Bushwick',\n",
              "       'Bedford Stuyvesant', 'Fort Greene/Brooklyn Hts', 'Park Slope',\n",
              "       'Crown Heights North', 'Brownsville', 'East New York', 'Canarsie',\n",
              "       'East Flatbush', 'Crown Heights South', 'Sunset Park', 'Bay Ridge',\n",
              "       'Borough Park', 'Flatbush/Midwood', 'Sheepshead Bay',\n",
              "       'Bensonhurst', 'Coney Island', 'Astoria', 'Jackson Heights',\n",
              "       'Flushing', 'Bayside', 'Queens Village', 'Fresh Meadows/Briarwood',\n",
              "       'Elmhurst/Corona', 'Rego Park/Forest Hills', 'Sunnyside/Woodside',\n",
              "       'Ridgewood/Glendale', 'Woodhaven', 'Jamaica/St. Albans',\n",
              "       'Howard Beach', 'The Rockaways', 'Bronx', 'Brooklyn', 'Manhattan',\n",
              "       'Queens', 'Staten Island', 'New York City'], dtype=object)"
            ]
          },
          "metadata": {
            "tags": []
          },
          "execution_count": 84
        }
      ]
    },
    {
      "cell_type": "markdown",
      "metadata": {
        "id": "NtilRgKeD9HM"
      },
      "source": [
        "**Top 10 Neighborhoods**\n",
        "\n",
        "Below are the top 10 neighborhoods with the highest median income as of 2019. "
      ]
    },
    {
      "cell_type": "code",
      "metadata": {
        "colab": {
          "base_uri": "https://localhost:8080/",
          "height": 295
        },
        "id": "vuTOnaSfDtrL",
        "outputId": "c4764541-65a8-424c-fc5d-090d04f7d129"
      },
      "source": [
        "top10neighborhood = income_df[income_df['year']==2019].sort_values(by='income', ascending=False, ignore_index=True).head(10)\n",
        "sns.barplot(data=top10neighborhood, x='income',y='neighborhood', palette='crest').set_title('Median household income of highest earning neighborhood')\n",
        "plt.show()"
      ],
      "execution_count": null,
      "outputs": [
        {
          "output_type": "display_data",
          "data": {
            "image/png": "[encoded data removed]",
            "text/plain": [
              "<Figure size 432x288 with 1 Axes>"
            ]
          },
          "metadata": {
            "tags": [],
            "needs_background": "light"
          }
        }
      ]
    },
    {
      "cell_type": "markdown",
      "metadata": {
        "id": "JP9-uezsE4fj"
      },
      "source": [
        "How has the median income changed over the past ten years for the top 10 neighborhoods? It seems like they have only gotten increasingly wealthier over time."
      ]
    },
    {
      "cell_type": "code",
      "metadata": {
        "colab": {
          "base_uri": "https://localhost:8080/",
          "height": 513
        },
        "id": "6EpJSSPrE0y3",
        "outputId": "ac96f04b-691a-466c-9362-9489334ec475"
      },
      "source": [
        "neighborhood_change = income_df[income_df['neighborhood'].isin(top10neighborhood['neighborhood'])]\n",
        "plt.figure(figsize=(15,8))\n",
        "plt.title('Median income by neighborhood from 2010 to 2019')\n",
        "sns.lineplot(data=neighborhood_change, x='year', y='income', hue='neighborhood')\n",
        "plt.show()"
      ],
      "execution_count": null,
      "outputs": [
        {
          "output_type": "display_data",
          "data": {
            "image/png": "[encoded data removed]",
            "text/plain": [
              "<Figure size 1080x576 with 1 Axes>"
            ]
          },
          "metadata": {
            "tags": [],
            "needs_background": "light"
          }
        }
      ]
    },
    {
      "cell_type": "markdown",
      "metadata": {
        "id": "s5ulyKorFQ42"
      },
      "source": [
        "**Bottom 10 Neighborhoods**\n",
        "\n",
        "Below are the bottom 10 neighborhoods with the lowest median income as of 2019. "
      ]
    },
    {
      "cell_type": "code",
      "metadata": {
        "colab": {
          "base_uri": "https://localhost:8080/",
          "height": 295
        },
        "id": "SLY4sZZWFYut",
        "outputId": "25636b81-6f05-40d7-f712-bdccb16b47a2"
      },
      "source": [
        "bot10neighborhood = income_df[income_df['year']==2019].sort_values(by='income', ascending=True, ignore_index=True).head(10)\n",
        "sns.barplot(data=bot10neighborhood, x='income',y='neighborhood', palette='crest').set_title('Median household income of lowest earning neighborhood')\n",
        "plt.show()"
      ],
      "execution_count": null,
      "outputs": [
        {
          "output_type": "display_data",
          "data": {
            "image/png": "[encoded data removed]",
            "text/plain": [
              "<Figure size 432x288 with 1 Axes>"
            ]
          },
          "metadata": {
            "tags": [],
            "needs_background": "light"
          }
        }
      ]
    },
    {
      "cell_type": "markdown",
      "metadata": {
        "id": "KT5fgnlYFsnp"
      },
      "source": [
        "The disparity between the top 10 and bottom 10 neighborhoods is immense. How has the median income changed over the past ten years for the bottom 10 neighborhoods?\n",
        "\n",
        "Although some neighborhoods have fared marginally better from 2010 to 2019, the trends are much flatter, and even negative in some cases, compared to that of the top 10 neighborhoods."
      ]
    },
    {
      "cell_type": "code",
      "metadata": {
        "colab": {
          "base_uri": "https://localhost:8080/",
          "height": 513
        },
        "id": "eFHNF5aLFhbW",
        "outputId": "c9827696-a364-4c1c-cd1b-2a925ce1372d"
      },
      "source": [
        "neighborhood_change = income_df[income_df['neighborhood'].isin(bot10neighborhood['neighborhood'])]\n",
        "plt.figure(figsize=(15,8))\n",
        "plt.title('Median income by neighborhood from 2010 to 2019')\n",
        "sns.lineplot(data=neighborhood_change, x='year', y='income', hue='neighborhood')\n",
        "plt.show()"
      ],
      "execution_count": null,
      "outputs": [
        {
          "output_type": "display_data",
          "data": {
            "image/png": "[encoded data removed]",
            "text/plain": [
              "<Figure size 1080x576 with 1 Axes>"
            ]
          },
          "metadata": {
            "tags": [],
            "needs_background": "light"
          }
        }
      ]
    },
    {
      "cell_type": "markdown",
      "metadata": {
        "id": "FBMpSFEOGWS_"
      },
      "source": [
        "It will be interesting to see how this income disparity factors into our Airbnb analysis."
      ]
    },
    {
      "cell_type": "markdown",
      "metadata": {
        "id": "cU9x3zw4Gj1Q"
      },
      "source": [
        "### LA Income Data"
      ]
    },
    {
      "cell_type": "code",
      "metadata": {
        "id": "RHw1OpjoHEXo"
      },
      "source": [
        "la_income = pd.read_csv('/content/drive/Shareddrives/CIS545: AirBnB/Data/Median_Household_Income_by_Census_Tract.csv')\n",
        "census_map = pd.read_csv('/content/drive/Shareddrives/CIS545: AirBnB/Data/Census_Tract_Locations__LA_.csv')"
      ],
      "execution_count": null,
      "outputs": []
    },
    {
      "cell_type": "markdown",
      "metadata": {
        "id": "lfpMHcKUHSqo"
      },
      "source": [
        "#### First Glance and Cleaning\n",
        "\n",
        "Unlike the NYC income data, we needed to preprocess our LA income data a bit. Although we also collected median incomes, we couldn't obtain it by neighborhood; instead, we have median incomes by tracts. Consequently, we also obtained a mapping between tract locations and neighborhoods to better integrate the incomes for our purposes."
      ]
    },
    {
      "cell_type": "code",
      "metadata": {
        "colab": {
          "base_uri": "https://localhost:8080/",
          "height": 214
        },
        "id": "da6bRPX5HHV6",
        "outputId": "c37fc0aa-4fa1-463d-a97a-faec3dd59de6"
      },
      "source": [
        "la_income.head(5)"
      ],
      "execution_count": null,
      "outputs": [
        {
          "output_type": "execute_result",
          "data": {
            "text/html": [
              "<div>\n",
              "<style scoped>\n",
              "    .dataframe tbody tr th:only-of-type {\n",
              "        vertical-align: middle;\n",
              "    }\n",
              "\n",
              "    .dataframe tbody tr th {\n",
              "        vertical-align: top;\n",
              "    }\n",
              "\n",
              "    .dataframe thead th {\n",
              "        text-align: right;\n",
              "    }\n",
              "</style>\n",
              "<table border=\"1\" class=\"dataframe\">\n",
              "  <thead>\n",
              "    <tr style=\"text-align: right;\">\n",
              "      <th></th>\n",
              "      <th>OBJECTID</th>\n",
              "      <th>CT10</th>\n",
              "      <th>OID</th>\n",
              "      <th>tract</th>\n",
              "      <th>B19013e1</th>\n",
              "      <th>B19013Ae1</th>\n",
              "      <th>B19013Be1</th>\n",
              "      <th>B19013Ce1</th>\n",
              "      <th>B19013De1</th>\n",
              "      <th>B19013Ee1</th>\n",
              "      <th>B19013Fe1</th>\n",
              "      <th>B19013Ge1</th>\n",
              "      <th>B19013He1</th>\n",
              "      <th>B19013Ie1</th>\n",
              "      <th>ShapeSTArea</th>\n",
              "      <th>ShapeSTLength</th>\n",
              "    </tr>\n",
              "  </thead>\n",
              "  <tbody>\n",
              "    <tr>\n",
              "      <th>0</th>\n",
              "      <td>1</td>\n",
              "      <td>911001</td>\n",
              "      <td>2254</td>\n",
              "      <td>911001</td>\n",
              "      <td>50732</td>\n",
              "      <td>50640</td>\n",
              "      <td>0</td>\n",
              "      <td>0</td>\n",
              "      <td>0</td>\n",
              "      <td>0</td>\n",
              "      <td>47750</td>\n",
              "      <td>0</td>\n",
              "      <td>50518</td>\n",
              "      <td>49107</td>\n",
              "      <td>4.025736e+09</td>\n",
              "      <td>353933.808192</td>\n",
              "    </tr>\n",
              "    <tr>\n",
              "      <th>1</th>\n",
              "      <td>2</td>\n",
              "      <td>980003</td>\n",
              "      <td>2319</td>\n",
              "      <td>980003</td>\n",
              "      <td>0</td>\n",
              "      <td>0</td>\n",
              "      <td>0</td>\n",
              "      <td>0</td>\n",
              "      <td>0</td>\n",
              "      <td>0</td>\n",
              "      <td>0</td>\n",
              "      <td>0</td>\n",
              "      <td>0</td>\n",
              "      <td>0</td>\n",
              "      <td>2.078690e+09</td>\n",
              "      <td>273188.863210</td>\n",
              "    </tr>\n",
              "    <tr>\n",
              "      <th>2</th>\n",
              "      <td>3</td>\n",
              "      <td>930301</td>\n",
              "      <td>2316</td>\n",
              "      <td>930301</td>\n",
              "      <td>75313</td>\n",
              "      <td>83000</td>\n",
              "      <td>0</td>\n",
              "      <td>0</td>\n",
              "      <td>0</td>\n",
              "      <td>0</td>\n",
              "      <td>0</td>\n",
              "      <td>0</td>\n",
              "      <td>83833</td>\n",
              "      <td>0</td>\n",
              "      <td>1.111802e+10</td>\n",
              "      <td>628603.531323</td>\n",
              "    </tr>\n",
              "    <tr>\n",
              "      <th>3</th>\n",
              "      <td>4</td>\n",
              "      <td>573003</td>\n",
              "      <td>1869</td>\n",
              "      <td>573003</td>\n",
              "      <td>63182</td>\n",
              "      <td>75516</td>\n",
              "      <td>0</td>\n",
              "      <td>0</td>\n",
              "      <td>50750</td>\n",
              "      <td>0</td>\n",
              "      <td>62857</td>\n",
              "      <td>125938</td>\n",
              "      <td>75938</td>\n",
              "      <td>62857</td>\n",
              "      <td>4.824002e+06</td>\n",
              "      <td>9050.008458</td>\n",
              "    </tr>\n",
              "    <tr>\n",
              "      <th>4</th>\n",
              "      <td>5</td>\n",
              "      <td>297602</td>\n",
              "      <td>986</td>\n",
              "      <td>297602</td>\n",
              "      <td>65729</td>\n",
              "      <td>65208</td>\n",
              "      <td>0</td>\n",
              "      <td>0</td>\n",
              "      <td>112763</td>\n",
              "      <td>0</td>\n",
              "      <td>50313</td>\n",
              "      <td>0</td>\n",
              "      <td>68068</td>\n",
              "      <td>51196</td>\n",
              "      <td>6.697031e+06</td>\n",
              "      <td>12308.315385</td>\n",
              "    </tr>\n",
              "  </tbody>\n",
              "</table>\n",
              "</div>"
            ],
            "text/plain": [
              "   OBJECTID    CT10   OID  ...  B19013Ie1   ShapeSTArea  ShapeSTLength\n",
              "0         1  911001  2254  ...      49107  4.025736e+09  353933.808192\n",
              "1         2  980003  2319  ...          0  2.078690e+09  273188.863210\n",
              "2         3  930301  2316  ...          0  1.111802e+10  628603.531323\n",
              "3         4  573003  1869  ...      62857  4.824002e+06    9050.008458\n",
              "4         5  297602   986  ...      51196  6.697031e+06   12308.315385\n",
              "\n",
              "[5 rows x 16 columns]"
            ]
          },
          "metadata": {
            "tags": []
          },
          "execution_count": 121
        }
      ]
    },
    {
      "cell_type": "code",
      "metadata": {
        "colab": {
          "base_uri": "https://localhost:8080/",
          "height": 295
        },
        "id": "ZZTd-z6kICq9",
        "outputId": "c43ffb79-9501-401c-fb73-419f25771ce5"
      },
      "source": [
        "census_map.head(5)"
      ],
      "execution_count": null,
      "outputs": [
        {
          "output_type": "execute_result",
          "data": {
            "text/html": [
              "<div>\n",
              "<style scoped>\n",
              "    .dataframe tbody tr th:only-of-type {\n",
              "        vertical-align: middle;\n",
              "    }\n",
              "\n",
              "    .dataframe tbody tr th {\n",
              "        vertical-align: top;\n",
              "    }\n",
              "\n",
              "    .dataframe thead th {\n",
              "        text-align: right;\n",
              "    }\n",
              "</style>\n",
              "<table border=\"1\" class=\"dataframe\">\n",
              "  <thead>\n",
              "    <tr style=\"text-align: right;\">\n",
              "      <th></th>\n",
              "      <th>GEOID</th>\n",
              "      <th>Tract</th>\n",
              "      <th>Tract Number</th>\n",
              "      <th>Neighborhood</th>\n",
              "      <th>Location</th>\n",
              "      <th>Latitude</th>\n",
              "      <th>Longitude</th>\n",
              "    </tr>\n",
              "  </thead>\n",
              "  <tbody>\n",
              "    <tr>\n",
              "      <th>0</th>\n",
              "      <td>1400000US06037101110</td>\n",
              "      <td>Census Tract 1011.10, Los Angeles County, Cali...</td>\n",
              "      <td>101110</td>\n",
              "      <td>Tujunga</td>\n",
              "      <td>(34.2595555, -118.293602)</td>\n",
              "      <td>34.259555</td>\n",
              "      <td>-118.293602</td>\n",
              "    </tr>\n",
              "    <tr>\n",
              "      <th>1</th>\n",
              "      <td>1400000US06037101122</td>\n",
              "      <td>Census Tract 1011.22, Los Angeles County, Cali...</td>\n",
              "      <td>101122</td>\n",
              "      <td>Tujunga</td>\n",
              "      <td>(34.267357, -118.29024)</td>\n",
              "      <td>34.267357</td>\n",
              "      <td>-118.290240</td>\n",
              "    </tr>\n",
              "    <tr>\n",
              "      <th>2</th>\n",
              "      <td>1400000US06037101210</td>\n",
              "      <td>Census Tract 1012.10, Los Angeles County, Cali...</td>\n",
              "      <td>101210</td>\n",
              "      <td>Tujunga</td>\n",
              "      <td>(34.251998, -118.2926875)</td>\n",
              "      <td>34.251998</td>\n",
              "      <td>-118.292687</td>\n",
              "    </tr>\n",
              "    <tr>\n",
              "      <th>3</th>\n",
              "      <td>1400000US06037101220</td>\n",
              "      <td>Census Tract 1012.20, Los Angeles County, Cali...</td>\n",
              "      <td>101220</td>\n",
              "      <td>Tujunga</td>\n",
              "      <td>(34.2511895, -118.281014)</td>\n",
              "      <td>34.251190</td>\n",
              "      <td>-118.281014</td>\n",
              "    </tr>\n",
              "    <tr>\n",
              "      <th>4</th>\n",
              "      <td>1400000US06037101300</td>\n",
              "      <td>Census Tract 1013, Los Angeles County, California</td>\n",
              "      <td>101300</td>\n",
              "      <td>Tujunga</td>\n",
              "      <td>(34.2455945, -118.271731)</td>\n",
              "      <td>34.245595</td>\n",
              "      <td>-118.271731</td>\n",
              "    </tr>\n",
              "  </tbody>\n",
              "</table>\n",
              "</div>"
            ],
            "text/plain": [
              "                  GEOID  ...   Longitude\n",
              "0  1400000US06037101110  ... -118.293602\n",
              "1  1400000US06037101122  ... -118.290240\n",
              "2  1400000US06037101210  ... -118.292687\n",
              "3  1400000US06037101220  ... -118.281014\n",
              "4  1400000US06037101300  ... -118.271731\n",
              "\n",
              "[5 rows x 7 columns]"
            ]
          },
          "metadata": {
            "tags": []
          },
          "execution_count": 122
        }
      ]
    },
    {
      "cell_type": "markdown",
      "metadata": {
        "id": "92ZZFWs2ItTi"
      },
      "source": [
        "Using information from the data source, we know what the relevant columns are in our main income. Let's limit the data to just these first."
      ]
    },
    {
      "cell_type": "code",
      "metadata": {
        "id": "CYNygrDiGdu_"
      },
      "source": [
        "la_income = la_income[['tract', 'B19013e1']]\n",
        "la_income.columns = ['tract', 'income']\n",
        "\n",
        "census_map = census_map[['Tract Number', 'Neighborhood']]\n",
        "census_map.columns = ['tract', 'neighborhood'] "
      ],
      "execution_count": null,
      "outputs": []
    },
    {
      "cell_type": "markdown",
      "metadata": {
        "id": "BqDchYBQJp48"
      },
      "source": [
        "Looking at the datatypes, we can see that everything looks good! No casting or formatting is necessary in this regard."
      ]
    },
    {
      "cell_type": "code",
      "metadata": {
        "colab": {
          "base_uri": "https://localhost:8080/"
        },
        "id": "Lb5_H_PoJh0N",
        "outputId": "83d7888b-879d-4665-a290-4a3ccb9058a8"
      },
      "source": [
        "la_income.info()"
      ],
      "execution_count": null,
      "outputs": [
        {
          "output_type": "stream",
          "text": [
            "<class 'pandas.core.frame.DataFrame'>\n",
            "RangeIndex: 2344 entries, 0 to 2343\n",
            "Data columns (total 2 columns):\n",
            " #   Column  Non-Null Count  Dtype\n",
            "---  ------  --------------  -----\n",
            " 0   tract   2344 non-null   int64\n",
            " 1   income  2344 non-null   int64\n",
            "dtypes: int64(2)\n",
            "memory usage: 36.8 KB\n"
          ],
          "name": "stdout"
        }
      ]
    },
    {
      "cell_type": "code",
      "metadata": {
        "colab": {
          "base_uri": "https://localhost:8080/"
        },
        "id": "gOR7n7t6JmQa",
        "outputId": "319c808d-51b9-4fec-939f-ec3b63b04f4f"
      },
      "source": [
        "census_map.info()"
      ],
      "execution_count": null,
      "outputs": [
        {
          "output_type": "stream",
          "text": [
            "<class 'pandas.core.frame.DataFrame'>\n",
            "RangeIndex: 2344 entries, 0 to 2343\n",
            "Data columns (total 2 columns):\n",
            " #   Column        Non-Null Count  Dtype \n",
            "---  ------        --------------  ----- \n",
            " 0   tract         2344 non-null   int64 \n",
            " 1   neighborhood  2344 non-null   object\n",
            "dtypes: int64(1), object(1)\n",
            "memory usage: 36.8+ KB\n"
          ],
          "name": "stdout"
        }
      ]
    },
    {
      "cell_type": "markdown",
      "metadata": {
        "id": "qf-Mnvo7Jxsc"
      },
      "source": [
        "Now we'll map each tract to the corresponding neighborhood to obtain a dataset consistent with the rest of our datasets."
      ]
    },
    {
      "cell_type": "code",
      "metadata": {
        "id": "YFG-YdT-JetB"
      },
      "source": [
        "la_income_neighborhood = la_income.merge(census_map,left_on='tract', right_on='tract').drop(columns='tract')"
      ],
      "execution_count": null,
      "outputs": []
    },
    {
      "cell_type": "markdown",
      "metadata": {
        "id": "zky-K08fKEEL"
      },
      "source": [
        "Let's look at what we have. Hmmm, from the get-go we can see that we could be missing data. Leaving these as zero could significantly impact our analysis so let's see what we can do with it."
      ]
    },
    {
      "cell_type": "code",
      "metadata": {
        "colab": {
          "base_uri": "https://localhost:8080/",
          "height": 194
        },
        "id": "4sFni7UFL8ZO",
        "outputId": "463edd5d-0557-433e-ee14-f1df258a4381"
      },
      "source": [
        "la_income_neighborhood.head(5)"
      ],
      "execution_count": null,
      "outputs": [
        {
          "output_type": "execute_result",
          "data": {
            "text/html": [
              "<div>\n",
              "<style scoped>\n",
              "    .dataframe tbody tr th:only-of-type {\n",
              "        vertical-align: middle;\n",
              "    }\n",
              "\n",
              "    .dataframe tbody tr th {\n",
              "        vertical-align: top;\n",
              "    }\n",
              "\n",
              "    .dataframe thead th {\n",
              "        text-align: right;\n",
              "    }\n",
              "</style>\n",
              "<table border=\"1\" class=\"dataframe\">\n",
              "  <thead>\n",
              "    <tr style=\"text-align: right;\">\n",
              "      <th></th>\n",
              "      <th>income</th>\n",
              "      <th>neighborhood</th>\n",
              "    </tr>\n",
              "  </thead>\n",
              "  <tbody>\n",
              "    <tr>\n",
              "      <th>0</th>\n",
              "      <td>50732</td>\n",
              "      <td>Southeast Antelope Valley</td>\n",
              "    </tr>\n",
              "    <tr>\n",
              "      <th>1</th>\n",
              "      <td>0</td>\n",
              "      <td>Northeast Antelope Valley</td>\n",
              "    </tr>\n",
              "    <tr>\n",
              "      <th>2</th>\n",
              "      <td>75313</td>\n",
              "      <td>Angeles Crest</td>\n",
              "    </tr>\n",
              "    <tr>\n",
              "      <th>3</th>\n",
              "      <td>63182</td>\n",
              "      <td>Long Beach</td>\n",
              "    </tr>\n",
              "    <tr>\n",
              "      <th>4</th>\n",
              "      <td>65729</td>\n",
              "      <td>San Pedro</td>\n",
              "    </tr>\n",
              "  </tbody>\n",
              "</table>\n",
              "</div>"
            ],
            "text/plain": [
              "   income               neighborhood\n",
              "0   50732  Southeast Antelope Valley\n",
              "1       0  Northeast Antelope Valley\n",
              "2   75313              Angeles Crest\n",
              "3   63182                 Long Beach\n",
              "4   65729                  San Pedro"
            ]
          },
          "metadata": {
            "tags": []
          },
          "execution_count": 127
        }
      ]
    },
    {
      "cell_type": "markdown",
      "metadata": {
        "id": "UWlukXVERXHs"
      },
      "source": [
        "Let's take a look at \"Northeast Antelope Valley\"."
      ]
    },
    {
      "cell_type": "code",
      "metadata": {
        "colab": {
          "base_uri": "https://localhost:8080/",
          "height": 223
        },
        "id": "4x-e0CvURV4_",
        "outputId": "4b6d4166-05e9-43c7-b651-50d19b526ba7"
      },
      "source": [
        "la_income_neighborhood[la_income_neighborhood['neighborhood'] == 'Northeast Antelope Valley']"
      ],
      "execution_count": null,
      "outputs": [
        {
          "output_type": "execute_result",
          "data": {
            "text/html": [
              "<div>\n",
              "<style scoped>\n",
              "    .dataframe tbody tr th:only-of-type {\n",
              "        vertical-align: middle;\n",
              "    }\n",
              "\n",
              "    .dataframe tbody tr th {\n",
              "        vertical-align: top;\n",
              "    }\n",
              "\n",
              "    .dataframe thead th {\n",
              "        text-align: right;\n",
              "    }\n",
              "</style>\n",
              "<table border=\"1\" class=\"dataframe\">\n",
              "  <thead>\n",
              "    <tr style=\"text-align: right;\">\n",
              "      <th></th>\n",
              "      <th>income</th>\n",
              "      <th>neighborhood</th>\n",
              "    </tr>\n",
              "  </thead>\n",
              "  <tbody>\n",
              "    <tr>\n",
              "      <th>1</th>\n",
              "      <td>0</td>\n",
              "      <td>Northeast Antelope Valley</td>\n",
              "    </tr>\n",
              "    <tr>\n",
              "      <th>171</th>\n",
              "      <td>44643</td>\n",
              "      <td>Northeast Antelope Valley</td>\n",
              "    </tr>\n",
              "    <tr>\n",
              "      <th>190</th>\n",
              "      <td>54012</td>\n",
              "      <td>Northeast Antelope Valley</td>\n",
              "    </tr>\n",
              "    <tr>\n",
              "      <th>2187</th>\n",
              "      <td>45897</td>\n",
              "      <td>Northeast Antelope Valley</td>\n",
              "    </tr>\n",
              "    <tr>\n",
              "      <th>2198</th>\n",
              "      <td>47078</td>\n",
              "      <td>Northeast Antelope Valley</td>\n",
              "    </tr>\n",
              "    <tr>\n",
              "      <th>2247</th>\n",
              "      <td>25938</td>\n",
              "      <td>Northeast Antelope Valley</td>\n",
              "    </tr>\n",
              "  </tbody>\n",
              "</table>\n",
              "</div>"
            ],
            "text/plain": [
              "      income               neighborhood\n",
              "1          0  Northeast Antelope Valley\n",
              "171    44643  Northeast Antelope Valley\n",
              "190    54012  Northeast Antelope Valley\n",
              "2187   45897  Northeast Antelope Valley\n",
              "2198   47078  Northeast Antelope Valley\n",
              "2247   25938  Northeast Antelope Valley"
            ]
          },
          "metadata": {
            "tags": []
          },
          "execution_count": 130
        }
      ]
    },
    {
      "cell_type": "markdown",
      "metadata": {
        "id": "tEflNNfvMA_b"
      },
      "source": [
        "Because each neighborhood maps to multiple tracts, we should be fine to drop zeroes since we need to average the incomes of each tract to obtain a general approximation of income per neighborhood. "
      ]
    },
    {
      "cell_type": "code",
      "metadata": {
        "id": "uKg4CT_dKaYX"
      },
      "source": [
        "# Drop all tract regions with 0 income\n",
        "la_income_neighborhood = la_income_neighborhood[la_income_neighborhood.income!=0]\n",
        "\n",
        "# Aggregate income on neighborhood level\n",
        "la_income_neighborhood = la_income_neighborhood.groupby('neighborhood').mean().reset_index()"
      ],
      "execution_count": null,
      "outputs": []
    },
    {
      "cell_type": "code",
      "metadata": {
        "colab": {
          "base_uri": "https://localhost:8080/",
          "height": 194
        },
        "id": "UaJeE_hBMXwP",
        "outputId": "b3ff99c6-1ec6-4f44-ccdd-33fc978a3851"
      },
      "source": [
        "la_income_neighborhood.head(5)"
      ],
      "execution_count": null,
      "outputs": [
        {
          "output_type": "execute_result",
          "data": {
            "text/html": [
              "<div>\n",
              "<style scoped>\n",
              "    .dataframe tbody tr th:only-of-type {\n",
              "        vertical-align: middle;\n",
              "    }\n",
              "\n",
              "    .dataframe tbody tr th {\n",
              "        vertical-align: top;\n",
              "    }\n",
              "\n",
              "    .dataframe thead th {\n",
              "        text-align: right;\n",
              "    }\n",
              "</style>\n",
              "<table border=\"1\" class=\"dataframe\">\n",
              "  <thead>\n",
              "    <tr style=\"text-align: right;\">\n",
              "      <th></th>\n",
              "      <th>neighborhood</th>\n",
              "      <th>income</th>\n",
              "    </tr>\n",
              "  </thead>\n",
              "  <tbody>\n",
              "    <tr>\n",
              "      <th>0</th>\n",
              "      <td>Acton</td>\n",
              "      <td>102877.500000</td>\n",
              "    </tr>\n",
              "    <tr>\n",
              "      <th>1</th>\n",
              "      <td>Adams-Normandie</td>\n",
              "      <td>34859.600000</td>\n",
              "    </tr>\n",
              "    <tr>\n",
              "      <th>2</th>\n",
              "      <td>Agoura Hills</td>\n",
              "      <td>130459.666667</td>\n",
              "    </tr>\n",
              "    <tr>\n",
              "      <th>3</th>\n",
              "      <td>Agua Dulce</td>\n",
              "      <td>84048.000000</td>\n",
              "    </tr>\n",
              "    <tr>\n",
              "      <th>4</th>\n",
              "      <td>Alhambra</td>\n",
              "      <td>59975.250000</td>\n",
              "    </tr>\n",
              "  </tbody>\n",
              "</table>\n",
              "</div>"
            ],
            "text/plain": [
              "      neighborhood         income\n",
              "0            Acton  102877.500000\n",
              "1  Adams-Normandie   34859.600000\n",
              "2     Agoura Hills  130459.666667\n",
              "3       Agua Dulce   84048.000000\n",
              "4         Alhambra   59975.250000"
            ]
          },
          "metadata": {
            "tags": []
          },
          "execution_count": 133
        }
      ]
    },
    {
      "cell_type": "markdown",
      "metadata": {
        "id": "nj7D7hRxR9Lm"
      },
      "source": [
        "#### Let's Explore!\n",
        "\n",
        "Now that our data is filtered and cleaned, we want to get a better understanding of what neighborhood dynamics are like between the 250+ neighborhoods.\n",
        "\n",
        "Our exploration is more limited because we don't have year-over-year data. The only data we have is from 2018."
      ]
    },
    {
      "cell_type": "markdown",
      "metadata": {
        "id": "sVHdGAXcTUMK"
      },
      "source": [
        "**Top 10 Neighborhoods**\n",
        "\n",
        "Below are the top 10 neighborhoods with the highest median income as of 2018. "
      ]
    },
    {
      "cell_type": "code",
      "metadata": {
        "colab": {
          "base_uri": "https://localhost:8080/",
          "height": 295
        },
        "id": "mPe8v9etSepp",
        "outputId": "5edc49d6-e17e-4c40-8340-e51e47737861"
      },
      "source": [
        "top10neighborhood = la_income_neighborhood.sort_values(by='income', ascending=False, ignore_index=True).head(10)\n",
        "sns.barplot(data=top10neighborhood, x='income',y='neighborhood', palette='crest').set_title('Median household income of highest earning neighborhood')\n",
        "plt.show()"
      ],
      "execution_count": null,
      "outputs": [
        {
          "output_type": "display_data",
          "data": {
            "image/png": "[encoded data removed]",
            "text/plain": [
              "<Figure size 432x288 with 1 Axes>"
            ]
          },
          "metadata": {
            "tags": [],
            "needs_background": "light"
          }
        }
      ]
    },
    {
      "cell_type": "markdown",
      "metadata": {
        "id": "C4v5cTGwSepq"
      },
      "source": [
        "**Bottom 10 Neighborhoods**\n",
        "\n",
        "Below are the bottom 10 neighborhoods with the lowest median income as of 2018. "
      ]
    },
    {
      "cell_type": "code",
      "metadata": {
        "colab": {
          "base_uri": "https://localhost:8080/",
          "height": 295
        },
        "id": "I3pQ9sEsSepq",
        "outputId": "bf67e832-17ef-4729-9be9-2d358a7676e4"
      },
      "source": [
        "bot10neighborhood = la_income_neighborhood.sort_values(by='income', ascending=True, ignore_index=True).head(10)\n",
        "sns.barplot(data=bot10neighborhood, x='income',y='neighborhood', palette='crest').set_title('Median household income of lowest earning neighborhood')\n",
        "plt.show()"
      ],
      "execution_count": null,
      "outputs": [
        {
          "output_type": "display_data",
          "data": {
            "image/png": "[encoded data removed]",
            "text/plain": [
              "<Figure size 432x288 with 1 Axes>"
            ]
          },
          "metadata": {
            "tags": [],
            "needs_background": "light"
          }
        }
      ]
    },
    {
      "cell_type": "markdown",
      "metadata": {
        "id": "V0sbTq6oSepq"
      },
      "source": [
        "Just at a glance, we can see the disparities in income are even more immense than those of top 10 and bottom 10 neighborhoods in NYC."
      ]
    },
    {
      "cell_type": "markdown",
      "metadata": {
        "id": "dm3UlCV3ToNC"
      },
      "source": [
        "# Data Integration\n",
        "\n",
        "Now we are finally ready to integrate all of our datasets."
      ]
    },
    {
      "cell_type": "code",
      "metadata": {
        "id": "4rK6dAteTrRm"
      },
      "source": [
        ""
      ],
      "execution_count": null,
      "outputs": []
    }
  ]
}